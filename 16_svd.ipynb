{
 "cells": [
  {
   "cell_type": "code",
   "execution_count": null,
   "metadata": {
    "id": "JmPbdxC4QsgS"
   },
   "outputs": [],
   "source": [
    "import sys\n",
    "IN_COLAB = 'google.colab' in sys.modules\n",
    "if IN_COLAB:\n",
    "    !git clone https://github.com/cs357/demos-cs357.git\n",
    "    !mv demos-cs357/figures/ .\n",
    "    !mv demos-cs357/additional_files/ ."
   ]
  },
  {
   "cell_type": "code",
   "execution_count": null,
   "metadata": {
    "id": "ua2dszc4QsgZ"
   },
   "outputs": [],
   "source": [
    "import numpy as np\n",
    "import numpy.linalg as la\n",
    "\n",
    "\n",
    "import matplotlib.pyplot as plt\n",
    "%matplotlib inline\n",
    "\n",
    "from PIL import Image"
   ]
  },
  {
   "cell_type": "markdown",
   "metadata": {
    "id": "YNqeiw7hQsgc"
   },
   "source": [
    "# Computing the SVD"
   ]
  },
  {
   "cell_type": "markdown",
   "metadata": {
    "id": "fvZp1lJeQsgd"
   },
   "source": [
    "## 1) For a square matrix"
   ]
  },
  {
   "cell_type": "code",
   "execution_count": null,
   "metadata": {
    "id": "Jm4hw4HRQsgd"
   },
   "outputs": [],
   "source": [
    "m = 4\n",
    "n = m\n",
    "A = np.random.randn(m, n)\n",
    "print(A)"
   ]
  },
  {
   "cell_type": "markdown",
   "metadata": {
    "id": "61akQed1Qsgh"
   },
   "source": [
    "### Using numpy.linalg.svd"
   ]
  },
  {
   "cell_type": "code",
   "execution_count": null,
   "metadata": {
    "id": "_NVA6P6GQsgi"
   },
   "outputs": [],
   "source": [
    "U, S, Vt = la.svd(A)"
   ]
  },
  {
   "cell_type": "markdown",
   "metadata": {
    "id": "LEFvkCQPQsgl"
   },
   "source": [
    "### Using eigen-decomposition"
   ]
  },
  {
   "cell_type": "markdown",
   "metadata": {
    "id": "yC-UxuP8Qsgm"
   },
   "source": [
    "Now compute the eigenvalues and eigenvectors of $A^TA$ as `eigvals` and `eigvecs`"
   ]
  },
  {
   "cell_type": "code",
   "execution_count": null,
   "metadata": {
    "id": "KTUGiMAcQsgn"
   },
   "outputs": [],
   "source": [
    "eigvals, eigvecs = la.eig(A.T.dot(A))"
   ]
  },
  {
   "cell_type": "markdown",
   "metadata": {
    "id": "OO9pYJhAQsgs"
   },
   "source": [
    "Eigenvalues are real and positive. Coincidence?"
   ]
  },
  {
   "cell_type": "code",
   "execution_count": null,
   "metadata": {
    "id": "4PFO0JqEQsgs"
   },
   "outputs": [],
   "source": [
    "eigvals"
   ]
  },
  {
   "cell_type": "markdown",
   "metadata": {
    "id": "v2dyY2b5Qsgv"
   },
   "source": [
    "`eigvecs` are orthonormal! Check:"
   ]
  },
  {
   "cell_type": "code",
   "execution_count": null,
   "metadata": {
    "id": "hQg3pKSgQsgw"
   },
   "outputs": [],
   "source": [
    "eigvecs.T @ eigvecs "
   ]
  },
  {
   "cell_type": "markdown",
   "metadata": {
    "id": "ANn8t7L0Qsgz"
   },
   "source": [
    "Now piece together the SVD:"
   ]
  },
  {
   "cell_type": "code",
   "execution_count": null,
   "metadata": {
    "id": "DU7R0u4LQsgz"
   },
   "outputs": [],
   "source": []
  },
  {
   "cell_type": "markdown",
   "metadata": {
    "id": "evLmEb9HQsg2"
   },
   "source": [
    "## 2) For a non-square square matrix"
   ]
  },
  {
   "cell_type": "code",
   "execution_count": null,
   "metadata": {
    "id": "kYpfF8sWQsg2"
   },
   "outputs": [],
   "source": [
    "m = 3\n",
    "n = 5\n",
    "A = np.random.randn(m, n)\n",
    "print(A)"
   ]
  },
  {
   "cell_type": "markdown",
   "metadata": {
    "id": "MH5zm1zLQsg4"
   },
   "source": [
    "You can obtain the SVD in the full format using `full_matrices=True` (full_matrices=True is the default value)"
   ]
  },
  {
   "cell_type": "code",
   "execution_count": null,
   "metadata": {
    "id": "OTUIzqRlQsg5"
   },
   "outputs": [],
   "source": [
    "U, S, Vt = la.svd(A,full_matrices=True)"
   ]
  },
  {
   "cell_type": "code",
   "execution_count": null,
   "metadata": {
    "id": "cXG0SEbBQsg7"
   },
   "outputs": [],
   "source": [
    "print(U)\n",
    "print(U.shape)\n",
    "\n",
    "print(Vt)\n",
    "print(Vt.T.shape)\n",
    "\n",
    "print(S)\n",
    "print(S.shape)"
   ]
  },
  {
   "cell_type": "markdown",
   "metadata": {
    "id": "SZ7HAnbOQshB"
   },
   "source": [
    "Check the eigen decomposition:"
   ]
  },
  {
   "cell_type": "code",
   "execution_count": null,
   "metadata": {
    "id": "NRYRw6-qQshD"
   },
   "outputs": [],
   "source": []
  },
  {
   "cell_type": "markdown",
   "metadata": {
    "id": "IzXWJCXzQshL"
   },
   "source": [
    "Or you can use get the reduced form of the SVD:"
   ]
  },
  {
   "cell_type": "code",
   "execution_count": null,
   "metadata": {
    "id": "bfoJEB0sQshM"
   },
   "outputs": [],
   "source": [
    "U, S, Vt = la.svd(A,full_matrices=False)"
   ]
  },
  {
   "cell_type": "code",
   "execution_count": null,
   "metadata": {
    "id": "1b-fp71iQshX"
   },
   "outputs": [],
   "source": [
    "print('A = ', A.shape)\n",
    "print('U = ', U.shape)\n",
    "print('S = ', S.shape)\n",
    "print('V = ', Vt.T.shape)"
   ]
  },
  {
   "cell_type": "markdown",
   "metadata": {
    "id": "CQmqq1dHQshc"
   },
   "source": [
    "# Relative cost of matrix factorizations"
   ]
  },
  {
   "cell_type": "code",
   "execution_count": null,
   "metadata": {
    "id": "-rlCvUtXQshc"
   },
   "outputs": [],
   "source": [
    "import numpy.linalg as npla\n",
    "import scipy.linalg as spla\n",
    "from time import time"
   ]
  },
  {
   "cell_type": "code",
   "execution_count": null,
   "metadata": {
    "id": "N_0H6AB8Qshf"
   },
   "outputs": [],
   "source": [
    "n_values = np.logspace(1,3.5,10).astype(np.int32)\n",
    "n_values"
   ]
  },
  {
   "cell_type": "code",
   "execution_count": null,
   "metadata": {
    "id": "nV83z6SEQshh"
   },
   "outputs": [],
   "source": [
    "def matmat(A):\n",
    "    A @ A\n",
    "\n",
    "for name, f in [\n",
    "        (\"lu\", spla.lu_factor),\n",
    "        (\"matmat\", matmat),\n",
    "        (\"svd\", npla.svd)\n",
    "        ]:\n",
    "\n",
    "    times = []\n",
    "    print(\"----->\", name)\n",
    "    \n",
    "    for n in n_values:\n",
    "        A = np.random.randn(n, n)\n",
    "        \n",
    "        start_time = time()\n",
    "        f(A)\n",
    "        delta_time = time() - start_time\n",
    "        times.append(delta_time)\n",
    "        \n",
    "        print(\"%d - %f\" % (n, delta_time))\n",
    "        \n",
    "    plt.loglog(n_values, times, label=name)\n",
    "\n",
    "plt.legend(loc=\"best\")\n",
    "plt.xlabel(\"Matrix size $n$\")\n",
    "plt.ylabel(\"Wall time [s]\");\n",
    "plt.grid();"
   ]
  },
  {
   "cell_type": "markdown",
   "metadata": {
    "id": "Vbj7cFJnQshk"
   },
   "source": [
    "# SVD Applications"
   ]
  },
  {
   "cell_type": "markdown",
   "metadata": {
    "id": "ZgRgWxlkQshl"
   },
   "source": [
    "## 1) Rank of a matrix "
   ]
  },
  {
   "cell_type": "markdown",
   "metadata": {
    "id": "ltWxHnQNQshl"
   },
   "source": [
    "Creating matrices for the examples:"
   ]
  },
  {
   "cell_type": "code",
   "execution_count": null,
   "metadata": {
    "id": "DkhjEGHbQshl"
   },
   "outputs": [],
   "source": [
    "m = 6\n",
    "n = 4\n",
    "# Creating the orthogonal U and Vt matrices\n",
    "X = np.random.randn(m, m)\n",
    "U, _ = la.qr(X)\n",
    "X = np.random.randn(n, n)\n",
    "Vt, _ = la.qr(X)\n",
    "\n",
    "\n",
    "\n",
    "\n",
    "\n"
   ]
  },
  {
   "cell_type": "markdown",
   "metadata": {
    "id": "MAxmIjv8Qshn"
   },
   "source": [
    "## 2) Low-rank approximations"
   ]
  },
  {
   "cell_type": "code",
   "execution_count": null,
   "metadata": {
    "id": "XauCbaYwQsho"
   },
   "outputs": [],
   "source": [
    "with Image.open(\"figures/quad.jpg\") as img:\n",
    "    rgb_img = np.array(img)\n",
    "rgb_img.shape"
   ]
  },
  {
   "cell_type": "code",
   "execution_count": null,
   "metadata": {
    "id": "wzkTVM5nQshq"
   },
   "outputs": [],
   "source": [
    "img = np.sum(rgb_img, axis=-1)\n",
    "img.shape"
   ]
  },
  {
   "cell_type": "code",
   "execution_count": null,
   "metadata": {
    "id": "zpduqoJjQshu"
   },
   "outputs": [],
   "source": [
    "plt.figure(figsize=(20,10))\n",
    "plt.imshow(img, cmap=\"gray\")"
   ]
  },
  {
   "cell_type": "code",
   "execution_count": null,
   "metadata": {
    "id": "rMjOUWS1Qshy"
   },
   "outputs": [],
   "source": [
    "u, sigma, vt = np.linalg.svd(img)\n",
    "print('A = ', img.shape)\n",
    "print('U = ', u.shape)\n",
    "print('S = ', sigma.shape)\n",
    "print('V.T = ', vt.shape)"
   ]
  },
  {
   "cell_type": "code",
   "execution_count": null,
   "metadata": {
    "id": "oGaEDR6aQsh0"
   },
   "outputs": [],
   "source": [
    "plt.plot(sigma, lw=4)\n",
    "plt.xlabel('singular value index')\n",
    "plt.ylabel('singular values')"
   ]
  },
  {
   "cell_type": "code",
   "execution_count": null,
   "metadata": {
    "id": "JbZGNyLnQsh3"
   },
   "outputs": [],
   "source": [
    "plt.loglog(sigma, lw=4)\n",
    "plt.xlabel('singular value index')\n",
    "plt.ylabel('singular values')"
   ]
  },
  {
   "cell_type": "markdown",
   "metadata": {
    "id": "RUsU4O2aQsh6"
   },
   "source": [
    "Write the matrix $A$ as a linear combination of the outer products of right and left singular vectors:"
   ]
  },
  {
   "cell_type": "code",
   "execution_count": null,
   "metadata": {
    "id": "xJVjvq_CQsh6"
   },
   "outputs": [],
   "source": []
  },
  {
   "cell_type": "markdown",
   "metadata": {
    "id": "62Knvt4WQsh8"
   },
   "source": [
    "Another approach"
   ]
  },
  {
   "cell_type": "code",
   "execution_count": null,
   "metadata": {
    "id": "cgHdOeZuQsh9"
   },
   "outputs": [],
   "source": [
    "k=50\n",
    "compressed_img = u[:,:k+1] @ np.diag(sigma[:k+1]) @ vt[:k+1,:]\n",
    "plt.figure(figsize=(20,10))\n",
    "plt.imshow(compressed_img, cmap=\"gray\")"
   ]
  },
  {
   "cell_type": "markdown",
   "metadata": {
    "id": "kHIS3pS6Qsh-"
   },
   "source": [
    "What is the error of the low rank approximation?"
   ]
  },
  {
   "cell_type": "code",
   "execution_count": null,
   "metadata": {
    "id": "kP6XlRcfQsh_"
   },
   "outputs": [],
   "source": [
    "error = la.norm(img - compressed_img,2)\n",
    "print(error)"
   ]
  },
  {
   "cell_type": "code",
   "execution_count": null,
   "metadata": {
    "id": "CPDNSCl9QsiB"
   },
   "outputs": [],
   "source": [
    "sigma[k:k+3]"
   ]
  },
  {
   "cell_type": "code",
   "execution_count": null,
   "metadata": {
    "id": "Axlx41NMQsiE"
   },
   "outputs": [],
   "source": []
  },
  {
   "cell_type": "markdown",
   "metadata": {
    "id": "gkc_JHY4QsiG"
   },
   "source": [
    "Low rank approximation is a method for image compression:"
   ]
  },
  {
   "cell_type": "code",
   "execution_count": null,
   "metadata": {
    "id": "d2LB2fFWQsiG"
   },
   "outputs": [],
   "source": [
    "original_size = img.size\n",
    "compressed_size = u[:,:k].size + sigma[:k].size + vt[:k,:].size\n",
    "print(\"original size: %d\" % original_size)\n",
    "print(\"compressed size: %d\" % compressed_size)\n",
    "print(\"ratio: %f\" % (compressed_size / original_size))"
   ]
  },
  {
   "cell_type": "markdown",
   "metadata": {
    "id": "vB8ih2NxQsiI"
   },
   "source": [
    "#### Example 2:"
   ]
  },
  {
   "cell_type": "code",
   "execution_count": null,
   "metadata": {
    "id": "38d2SGW1QsiI"
   },
   "outputs": [],
   "source": [
    "with Image.open(\"figures/Foellinger_Auditorium_2007.jpg\") as img:\n",
    "    rgb_img = np.array(img)\n",
    "foellinger = np.sum(rgb_img, axis=-1)\n",
    "\n",
    "def bestk(A, k):\n",
    "    U,S,V = np.linalg.svd(A, full_matrices=False)\n",
    "    return U[:, :k] @ np.diag(S[:k]) @ V[:k, :]\n",
    "\n",
    "low_10 = bestk(foellinger, 10)\n",
    "low_20 = bestk(foellinger, 20)\n",
    "low_50 = bestk(foellinger, 50)\n",
    "\n",
    "plt.figure(figsize=(10,10))\n",
    "plt.subplot(2, 2, 1)\n",
    "plt.imshow(low_10, cmap='gray')\n",
    "plt.title(\"k = 10\")\n",
    "plt.subplot(2, 2, 2)\n",
    "plt.imshow(low_20, cmap='gray')\n",
    "plt.title(\"k = 20\")\n",
    "plt.subplot(2, 2, 3)\n",
    "plt.imshow(low_50, cmap='gray')\n",
    "plt.title(\"k = 50\")\n",
    "plt.subplot(2, 2, 4)\n",
    "plt.imshow(foellinger, cmap='gray')\n",
    "plt.title(\"k = 480\")\n",
    "plt.show()"
   ]
  },
  {
   "cell_type": "code",
   "execution_count": null,
   "metadata": {
    "id": "3ETu97MmQsiK"
   },
   "outputs": [],
   "source": []
  },
  {
   "cell_type": "markdown",
   "metadata": {
    "id": "BeGLZfDKQsiN"
   },
   "source": [
    "## 3) Pseudo-inverse"
   ]
  },
  {
   "cell_type": "markdown",
   "metadata": {
    "id": "xetU3sR_QsiN"
   },
   "source": [
    "### Square matrices:"
   ]
  },
  {
   "cell_type": "code",
   "execution_count": null,
   "metadata": {
    "id": "xq24UYZQQsiO"
   },
   "outputs": [],
   "source": [
    "m = 4\n",
    "n = 4\n",
    "# Creating the orthogonal U and Vt matrices\n",
    "X = np.random.randn(m, m)\n",
    "U, _ = la.qr(X)\n",
    "X = np.random.randn(n, n)\n",
    "Vt, _ = la.qr(X)\n",
    "\n",
    "\n",
    "# Creating the singular values\n",
    "S = np.zeros((m,n))\n",
    "# This creates a full rank matrix\n",
    "r = min(m,n)\n",
    "# This creates a rank deficient matrix\n",
    "r = np.random.randint(1,min(m,n))\n",
    "\n",
    "print(\"the rank of A is = \",r)\n",
    "# Completing the singular value matrix Sigma\n",
    "sig = np.random.randint(1,50,r)\n",
    "sig.sort()\n",
    "sigmas = sig[::-1]\n",
    "for i,s in enumerate(sigmas):\n",
    "    S[i,i] = s\n",
    "\n",
    "A = U@S@Vt"
   ]
  },
  {
   "cell_type": "markdown",
   "metadata": {
    "id": "XF428iW2QsiP"
   },
   "source": [
    "### Rectangular matrices"
   ]
  },
  {
   "cell_type": "code",
   "execution_count": null,
   "metadata": {
    "id": "USJrGXNQQsiQ"
   },
   "outputs": [],
   "source": [
    "m = 6\n",
    "n = 4\n",
    "# Creating the orthogonal U and Vt matrices\n",
    "X = np.random.randn(m, m)\n",
    "U, _ = la.qr(X)\n",
    "X = np.random.randn(n, n)\n",
    "Vt, _ = la.qr(X)\n",
    "\n",
    "\n",
    "# Creating the singular values\n",
    "S = np.zeros((m,n))\n",
    "# This creates a rank deficient matrix\n",
    "r = np.random.randint(1,min(m,n))\n",
    "\n",
    "print(\"the rank of A is = \",r)\n",
    "# Completing the singular value matrix Sigma\n",
    "sig = np.random.randint(1,50,r)\n",
    "sig.sort()\n",
    "sigmas = sig[::-1]\n",
    "for i,s in enumerate(sigmas):\n",
    "    S[i,i] = s\n",
    "\n",
    "A = U@S@Vt"
   ]
  },
  {
   "cell_type": "markdown",
   "metadata": {
    "id": "DPNqQoQpQsiS"
   },
   "source": [
    "## 4) Matrix Norms and Condition number"
   ]
  },
  {
   "cell_type": "markdown",
   "metadata": {
    "id": "dxauCa1ZQsiT"
   },
   "source": [
    "### Square and non-singular matrices"
   ]
  },
  {
   "cell_type": "code",
   "execution_count": null,
   "metadata": {
    "id": "NkdRcXKSQsiU"
   },
   "outputs": [],
   "source": [
    "m = 4\n",
    "n = 4\n",
    "# Creating the orthogonal U and Vt matrices\n",
    "X = np.random.randn(m, m)\n",
    "U, _ = la.qr(X)\n",
    "X = np.random.randn(n, n)\n",
    "Vt, _ = la.qr(X)\n",
    "\n",
    "\n",
    "# Creating the singular values\n",
    "S = np.zeros((m,n))\n",
    "# This creates a full rank matrix\n",
    "r = min(m,n)\n",
    "# This creates a rank deficient matrix\n",
    "## r = np.random.randint(1,min(m,n))\n",
    "\n",
    "print(\"the rank of A is = \",r)\n",
    "# Completing the singular value matrix Sigma\n",
    "sig = np.random.randint(1,50,r)\n",
    "sig.sort()\n",
    "sigmas = sig[::-1]\n",
    "for i,s in enumerate(sigmas):\n",
    "    S[i,i] = s\n",
    "\n",
    "A = U@S@Vt"
   ]
  },
  {
   "cell_type": "markdown",
   "metadata": {
    "id": "3NnfZ-WjQsiX"
   },
   "source": [
    "Given the SVD of A..."
   ]
  },
  {
   "cell_type": "code",
   "execution_count": null,
   "metadata": {
    "id": "gBd__ECPQsiX"
   },
   "outputs": [],
   "source": [
    "u,s,vt = la.svd(A)\n",
    "s"
   ]
  },
  {
   "cell_type": "markdown",
   "metadata": {
    "id": "U9Aktdb2Qsic"
   },
   "source": [
    "... determine the eucledian norm of $A$:"
   ]
  },
  {
   "cell_type": "code",
   "execution_count": null,
   "metadata": {
    "id": "P94FHtf4Qsid"
   },
   "outputs": [],
   "source": []
  },
  {
   "cell_type": "markdown",
   "metadata": {
    "id": "IVrusEyZQsig"
   },
   "source": [
    "... determine the eucledian norm of $A^{-1}$"
   ]
  },
  {
   "cell_type": "code",
   "execution_count": null,
   "metadata": {
    "id": "Q3cJsjd9Qsih"
   },
   "outputs": [],
   "source": []
  },
  {
   "cell_type": "code",
   "execution_count": null,
   "metadata": {
    "id": "kpIasrSlQsij"
   },
   "outputs": [],
   "source": []
  },
  {
   "cell_type": "markdown",
   "metadata": {
    "id": "8DGN4rc4Qsim"
   },
   "source": [
    "... determine the condition number of $A$:"
   ]
  },
  {
   "cell_type": "code",
   "execution_count": null,
   "metadata": {
    "id": "ojD2DwbiQsin"
   },
   "outputs": [],
   "source": []
  },
  {
   "cell_type": "code",
   "execution_count": null,
   "metadata": {
    "id": "gv5AhJhUQsip"
   },
   "outputs": [],
   "source": []
  },
  {
   "cell_type": "markdown",
   "metadata": {
    "id": "6wpovwihQsir"
   },
   "source": [
    "### Square and singular matrices"
   ]
  },
  {
   "cell_type": "code",
   "execution_count": null,
   "metadata": {
    "id": "O4l-tKpfQsis"
   },
   "outputs": [],
   "source": [
    "m = 4\n",
    "n = 4\n",
    "# Creating the orthogonal U and Vt matrices\n",
    "X = np.random.randn(m, m)\n",
    "U, _ = la.qr(X)\n",
    "X = np.random.randn(n, n)\n",
    "Vt, _ = la.qr(X)\n",
    "\n",
    "\n",
    "# Creating the singular values\n",
    "S = np.zeros((m,n))\n",
    "# This creates a full rank matrix\n",
    "r = min(m,n)\n",
    "# This creates a rank deficient matrix\n",
    "r = np.random.randint(1,min(m,n))\n",
    "\n",
    "print(\"the rank of A is = \",r)\n",
    "# Completing the singular value matrix Sigma\n",
    "sig = np.random.randint(1,50,r)\n",
    "sig.sort()\n",
    "sigmas = sig[::-1]\n",
    "for i,s in enumerate(sigmas):\n",
    "    S[i,i] = s\n",
    "\n",
    "A = U@S@Vt"
   ]
  },
  {
   "cell_type": "markdown",
   "metadata": {
    "id": "uHPf_TAJQsiu"
   },
   "source": [
    "Given the SVD of A..."
   ]
  },
  {
   "cell_type": "code",
   "execution_count": null,
   "metadata": {
    "id": "6Yu58PtUQsiu"
   },
   "outputs": [],
   "source": [
    "u,s,vt = la.svd(A)\n",
    "s"
   ]
  },
  {
   "cell_type": "code",
   "execution_count": null,
   "metadata": {
    "id": "VILgr_I-Qsiw"
   },
   "outputs": [],
   "source": []
  },
  {
   "cell_type": "markdown",
   "metadata": {
    "id": "e0lSaodXQsi0"
   },
   "source": [
    "... determine the eucledian norm of $A$:"
   ]
  },
  {
   "cell_type": "code",
   "execution_count": null,
   "metadata": {
    "id": "5I1CW974Qsi1"
   },
   "outputs": [],
   "source": []
  },
  {
   "cell_type": "code",
   "execution_count": null,
   "metadata": {
    "id": "u-DT2ZNeQsi4"
   },
   "outputs": [],
   "source": []
  },
  {
   "cell_type": "markdown",
   "metadata": {
    "id": "9PG1PZDlQsi7"
   },
   "source": [
    "... determine the eucledian norm of $A^{+}$"
   ]
  },
  {
   "cell_type": "code",
   "execution_count": null,
   "metadata": {
    "id": "jgUIBFSlQsi8"
   },
   "outputs": [],
   "source": []
  },
  {
   "cell_type": "code",
   "execution_count": null,
   "metadata": {
    "id": "fceeS2UUQsjC"
   },
   "outputs": [],
   "source": []
  },
  {
   "cell_type": "markdown",
   "metadata": {
    "id": "kMaGloaPQsjH"
   },
   "source": [
    "... determine the condition number of $A$:"
   ]
  },
  {
   "cell_type": "code",
   "execution_count": null,
   "metadata": {
    "id": "wfncnlCJQsjH"
   },
   "outputs": [],
   "source": []
  },
  {
   "cell_type": "code",
   "execution_count": null,
   "metadata": {
    "id": "k3hQcnB0QsjK"
   },
   "outputs": [],
   "source": []
  },
  {
   "cell_type": "code",
   "execution_count": null,
   "metadata": {
    "id": "JaKd7q7TQsjP"
   },
   "outputs": [],
   "source": []
  }
 ],
 "metadata": {
  "colab": {
   "name": "16-svd.ipynb",
   "provenance": []
  },
  "kernelspec": {
   "display_name": "Python 3",
   "language": "python",
   "name": "python3"
  },
  "language_info": {
   "codemirror_mode": {
    "name": "ipython",
    "version": 3
   },
   "file_extension": ".py",
   "mimetype": "text/x-python",
   "name": "python",
   "nbconvert_exporter": "python",
   "pygments_lexer": "ipython3",
   "version": "3.8.3"
  }
 },
 "nbformat": 4,
 "nbformat_minor": 1
}
