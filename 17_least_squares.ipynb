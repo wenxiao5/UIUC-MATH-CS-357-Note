{
 "cells": [
  {
   "cell_type": "code",
   "execution_count": null,
   "metadata": {
    "id": "ik7vyc_VIM8Q"
   },
   "outputs": [],
   "source": [
    "import sys\n",
    "IN_COLAB = 'google.colab' in sys.modules\n",
    "if IN_COLAB:\n",
    "    !git clone https://github.com/cs357/demos-cs357.git\n",
    "    !mv demos-cs357/figures/ .\n",
    "    !mv demos-cs357/additional_files/ ."
   ]
  },
  {
   "cell_type": "code",
   "execution_count": null,
   "metadata": {
    "id": "cKIAGVyKIM8W"
   },
   "outputs": [],
   "source": [
    "import numpy as np\n",
    "import numpy.linalg as la\n",
    "import scipy.linalg as sla\n",
    "import matplotlib.pyplot as plt\n",
    "%matplotlib inline\n",
    "import random\n",
    "\n",
    "import pandas as pd\n",
    "from scipy import stats\n",
    "\n",
    "import sys\n",
    "sys.path.append('./additional_files')"
   ]
  },
  {
   "cell_type": "markdown",
   "metadata": {
    "id": "6z086Z7xIM8a"
   },
   "source": [
    "# A) Data Fitting with Least Squares: simple examples"
   ]
  },
  {
   "cell_type": "markdown",
   "metadata": {
    "id": "J0QR4T7GIM8b"
   },
   "source": [
    "### 1) Fit with a line"
   ]
  },
  {
   "cell_type": "markdown",
   "metadata": {
    "id": "bSejNqsZIM8b"
   },
   "source": [
    "Suppose we want to fit the points below using a line:"
   ]
  },
  {
   "cell_type": "code",
   "execution_count": null,
   "metadata": {
    "id": "tLxCvdFeIM8c"
   },
   "outputs": [],
   "source": [
    "n = 10\n",
    "t = np.linspace(-1, 1, n)\n",
    "y = 4*t  + np.random.randn(n)  + 2\n",
    "\n",
    "plt.plot(t,y,'o')\n",
    "plt.grid()"
   ]
  },
  {
   "cell_type": "markdown",
   "metadata": {
    "id": "dtTHV3q6IM8e"
   },
   "source": [
    "We want to use a fit function with the form:\n",
    "\n",
    "$$ y = x_0 + x_1 t $$"
   ]
  },
  {
   "cell_type": "markdown",
   "metadata": {
    "id": "e2DOHhd0IM8f"
   },
   "source": [
    "What's the system of equations for $x_0$ and $x_1$? We will solve the least squares problem by solving the Normal Equations $$ A^T A x = A^T b$$"
   ]
  },
  {
   "cell_type": "markdown",
   "metadata": {
    "id": "H09CZqrjIM8g"
   },
   "source": [
    "Write the model matrix:"
   ]
  },
  {
   "cell_type": "code",
   "execution_count": null,
   "metadata": {
    "id": "TTnN7TTmIM8g"
   },
   "outputs": [],
   "source": [
    "m = len(t)\n",
    "n = 2"
   ]
  },
  {
   "cell_type": "code",
   "execution_count": null,
   "metadata": {
    "id": "NA3yrvroIM8i"
   },
   "outputs": [],
   "source": [
    "# write the matrix A\n"
   ]
  },
  {
   "cell_type": "markdown",
   "metadata": {
    "id": "ut0lGt_aIM8k"
   },
   "source": [
    "Build the arrays needed to solve the normal equations"
   ]
  },
  {
   "cell_type": "code",
   "execution_count": null,
   "metadata": {
    "id": "3FLVkddbIM8l"
   },
   "outputs": [],
   "source": [
    "# complete here"
   ]
  },
  {
   "cell_type": "markdown",
   "metadata": {
    "id": "m9ORTGVNIM8n"
   },
   "source": [
    "Solve the linear system of equations:"
   ]
  },
  {
   "cell_type": "code",
   "execution_count": null,
   "metadata": {
    "id": "z8EnMy7xIM8o"
   },
   "outputs": [],
   "source": [
    "x = ...\n",
    "\n",
    "print(x)"
   ]
  },
  {
   "cell_type": "markdown",
   "metadata": {
    "id": "tfiDvk5pIM8q"
   },
   "source": [
    "Plot the fit:"
   ]
  },
  {
   "cell_type": "code",
   "execution_count": null,
   "metadata": {
    "id": "k0f7tp3WIM8r"
   },
   "outputs": [],
   "source": [
    "plt.plot(t, y, 'o')\n",
    "plt.plot(t,  x[1] * t + x[0])\n",
    "plt.grid()"
   ]
  },
  {
   "cell_type": "markdown",
   "metadata": {
    "id": "L5YOnBsmIM8t"
   },
   "source": [
    "### 2) Fit with a quadratic curve"
   ]
  },
  {
   "cell_type": "markdown",
   "metadata": {
    "id": "Cy4EnMriIM8t"
   },
   "source": [
    "What if the set of points looks like this?"
   ]
  },
  {
   "cell_type": "code",
   "execution_count": null,
   "metadata": {
    "id": "tN8WkMmbIM8t"
   },
   "outputs": [],
   "source": [
    "n = 50\n",
    "t = np.linspace(-1, 1, n)\n",
    "y = t ** 2 + np.random.randn(n) * 0.05 + 5\n",
    "\n",
    "plt.plot(t, y, 'o')\n",
    "plt.grid()"
   ]
  },
  {
   "cell_type": "markdown",
   "metadata": {
    "id": "K8fG1gyzIM8v"
   },
   "source": [
    "We want to use a fit function with the form:\n",
    "\n",
    "$$ y = x_0 + x_1 t + x_2 t^2$$"
   ]
  },
  {
   "cell_type": "code",
   "execution_count": null,
   "metadata": {
    "id": "H5FIi7LRIM8w"
   },
   "outputs": [],
   "source": [
    "m = len(t)\n",
    "n = 3 # we want to find three coefficients to fit with a quadratic function\n",
    "\n",
    "## complete solution with normal equations"
   ]
  },
  {
   "cell_type": "code",
   "execution_count": null,
   "metadata": {
    "id": "aEU1eCjdIM8y"
   },
   "outputs": [],
   "source": [
    "x"
   ]
  },
  {
   "cell_type": "code",
   "execution_count": null,
   "metadata": {
    "id": "-mBUsYHqIM80",
    "scrolled": true
   },
   "outputs": [],
   "source": [
    "plt.plot(t, y, 'o')\n",
    "plt.plot(t, x[2] * t ** 2 + x[1] * t + x[0])"
   ]
  },
  {
   "cell_type": "markdown",
   "metadata": {
    "id": "v3W8hpTTIM82"
   },
   "source": [
    "### 3) Fit an exponential curve"
   ]
  },
  {
   "cell_type": "markdown",
   "metadata": {
    "id": "q_hAjiIjIM82"
   },
   "source": [
    "What if the set of points looks like this?"
   ]
  },
  {
   "cell_type": "code",
   "execution_count": null,
   "metadata": {
    "id": "PceP8nTuIM83"
   },
   "outputs": [],
   "source": [
    "n = 50\n",
    "t = np.linspace(0.1, np.e * 4, n)\n",
    "y = np.exp(t * 0.5) * 3 + np.random.randn(n) * 2\n",
    "\n",
    "plt.plot(t, y, 'o')"
   ]
  },
  {
   "cell_type": "markdown",
   "metadata": {
    "id": "QITMu0paIM85"
   },
   "source": [
    "We want to use a fit function with the form:\n",
    "\n",
    "$$ y = x_0\\,e^{x_1 \\, t} $$\n",
    "\n",
    "Noticed that we can't directly use linear least squares here since the function is not linear with respect to all the coefficients $x_i$.  What if we take the natural log of both sides?\n",
    "\n",
    "$$ \\ln y = \\ln x_0 + x_1 t $$\n",
    "\n",
    "with the change of variables $\\bar y = \\ln y$ and $\\bar x_0 = \\ln x_0$ we can re-write the above equation as:\n",
    "\n",
    "$$ \\bar y  = \\bar x_0 + x_1 t $$"
   ]
  },
  {
   "cell_type": "code",
   "execution_count": null,
   "metadata": {
    "id": "gNpqIvqmIM86"
   },
   "outputs": [],
   "source": [
    "m = len(t)\n",
    "n = 2 # we want to find three coefficients to fit with a quadratic function\n",
    "\n",
    "## complete solution with normal equations"
   ]
  },
  {
   "cell_type": "code",
   "execution_count": null,
   "metadata": {
    "id": "F--NGiitIM88"
   },
   "outputs": [],
   "source": [
    "x"
   ]
  },
  {
   "cell_type": "code",
   "execution_count": null,
   "metadata": {
    "id": "RlqA9FGKIM8-"
   },
   "outputs": [],
   "source": [
    "x0 = np.exp(x[0])\n",
    "plt.plot(t, y, 'o')\n",
    "plt.plot(t,  x0 * np.exp(x[1]*t))\n",
    "plt.grid()"
   ]
  },
  {
   "cell_type": "markdown",
   "metadata": {
    "id": "MToikvdoIM9B"
   },
   "source": [
    "### 4) building stories vs height"
   ]
  },
  {
   "cell_type": "code",
   "execution_count": null,
   "metadata": {
    "id": "3kij9MKaIM9B"
   },
   "outputs": [],
   "source": [
    "data = pd.read_csv('./additional_files/bldgstories.txt', delim_whitespace=True)"
   ]
  },
  {
   "cell_type": "code",
   "execution_count": null,
   "metadata": {
    "id": "yH3fA4opIM9D"
   },
   "outputs": [],
   "source": [
    "year = data.values[:,0]\n",
    "hght = data.values[:,1]\n",
    "stories= data.values[:,2]"
   ]
  },
  {
   "cell_type": "code",
   "execution_count": null,
   "metadata": {
    "id": "D0nbsN-eIM9F"
   },
   "outputs": [],
   "source": [
    "plt.plot(hght, stories, 'o')\n",
    "plt.xlabel('height')\n",
    "plt.ylabel('stories')"
   ]
  },
  {
   "cell_type": "markdown",
   "metadata": {
    "id": "FXfNvBxlIM9J"
   },
   "source": [
    "We want to use a fit function with the form:\n",
    "\n",
    "$$ y = x_0 + x_1 t $$\n",
    "\n",
    "The model matrix is:"
   ]
  },
  {
   "cell_type": "code",
   "execution_count": null,
   "metadata": {
    "id": "mMRXCkGKIM9J"
   },
   "outputs": [],
   "source": [
    "m = len(hght)\n",
    "n = 2 \n",
    "\n",
    "A = np.ones((m,n))\n",
    "A[:,1] = hght"
   ]
  },
  {
   "cell_type": "markdown",
   "metadata": {
    "id": "U4oA8HU2IM9L"
   },
   "source": [
    "Solving using normal equations:"
   ]
  },
  {
   "cell_type": "code",
   "execution_count": null,
   "metadata": {
    "id": "OpS5EbaXIM9L"
   },
   "outputs": [],
   "source": [
    "AtA = A.T@A\n",
    "Atb = A.T@stories\n",
    "\n",
    "x = la.solve(AtA,Atb)\n",
    "print(x)"
   ]
  },
  {
   "cell_type": "markdown",
   "metadata": {
    "id": "VuqqM2zrIM9N"
   },
   "source": [
    "Using the least-squares built-in function:"
   ]
  },
  {
   "cell_type": "code",
   "execution_count": null,
   "metadata": {
    "id": "oQHCs6YmIM9O"
   },
   "outputs": [],
   "source": [
    "coeff, residual, rank, singvalues = la.lstsq(A,stories,rcond=None)\n",
    "print(coeff)\n",
    "\n",
    "print(residual)\n",
    "\n",
    "print(rank)\n",
    "\n",
    "print(singvalues)"
   ]
  },
  {
   "cell_type": "code",
   "execution_count": null,
   "metadata": {
    "id": "0h0-cHkTIM9Q"
   },
   "outputs": [],
   "source": [
    "u,s,vt = la.svd(A)\n",
    "print(s)"
   ]
  },
  {
   "cell_type": "code",
   "execution_count": null,
   "metadata": {
    "id": "h_ozm-M9IM9T"
   },
   "outputs": [],
   "source": [
    "a, b, rvalue, pvalue, stderr = stats.linregress(hght, stories)\n",
    "print(a)\n",
    "print(b)"
   ]
  },
  {
   "cell_type": "code",
   "execution_count": null,
   "metadata": {
    "id": "Cksp_TSxIM9V"
   },
   "outputs": [],
   "source": [
    "print(rvalue)"
   ]
  },
  {
   "cell_type": "code",
   "execution_count": null,
   "metadata": {
    "id": "kRc-v2v0IM9X"
   },
   "outputs": [],
   "source": [
    "plt.plot(hght, x[0] + x[1]*hght , 'r-')\n",
    "plt.plot(hght, stories, 'o')\n",
    "plt.xlabel('height')\n",
    "plt.ylabel('stories')"
   ]
  },
  {
   "cell_type": "markdown",
   "metadata": {
    "id": "X5f5PEbYIM9Z"
   },
   "source": [
    "### 5) eye sight distance vs age"
   ]
  },
  {
   "cell_type": "code",
   "execution_count": null,
   "metadata": {
    "id": "15UBPmbHIM9Z"
   },
   "outputs": [],
   "source": [
    "data = pd.read_csv('./additional_files/signdist.txt', delim_whitespace=True)"
   ]
  },
  {
   "cell_type": "code",
   "execution_count": null,
   "metadata": {
    "id": "ytBOc4LcIM9c"
   },
   "outputs": [],
   "source": [
    "age = data.values[:,0]\n",
    "distance = data.values[:,1]"
   ]
  },
  {
   "cell_type": "code",
   "execution_count": null,
   "metadata": {
    "id": "uFuJU0zWIM9e"
   },
   "outputs": [],
   "source": [
    "a, b, rvalue, pvalue, stderr = stats.linregress(age, distance)\n",
    "plt.plot(age, a*age + b, 'r-')\n",
    "plt.plot(age, distance, 'o')\n",
    "plt.xlabel('age')\n",
    "plt.ylabel('distance')\n",
    "\n",
    "print(abs(rvalue))"
   ]
  },
  {
   "cell_type": "markdown",
   "metadata": {
    "id": "tCaBCsspIM9h"
   },
   "source": [
    "### 6) height vs GPA\n",
    "\n",
    "What?!"
   ]
  },
  {
   "cell_type": "code",
   "execution_count": null,
   "metadata": {
    "id": "mHs7vr6nIM9h"
   },
   "outputs": [],
   "source": [
    "data = pd.read_csv('./additional_files/heightgpa.txt', delim_whitespace=True)"
   ]
  },
  {
   "cell_type": "code",
   "execution_count": null,
   "metadata": {
    "id": "u42RhYNZIM9j"
   },
   "outputs": [],
   "source": [
    "height = data.values[:,0]\n",
    "gpa = data.values[:,1]"
   ]
  },
  {
   "cell_type": "code",
   "execution_count": null,
   "metadata": {
    "id": "_zoqrISjIM9k"
   },
   "outputs": [],
   "source": [
    "a, b, rvalue, pvalue, stderr = stats.linregress(height, gpa)\n",
    "plt.plot(height, a*height + b, 'r-')\n",
    "plt.plot(height, gpa, 'o')\n",
    "plt.xlabel('height')\n",
    "plt.ylabel('gpa')\n",
    "\n",
    "print(abs(rvalue))"
   ]
  },
  {
   "cell_type": "markdown",
   "metadata": {
    "id": "97WPo8ozIM9m"
   },
   "source": [
    "# B) Modeling ice extent over time"
   ]
  },
  {
   "cell_type": "markdown",
   "metadata": {
    "id": "H8OkhjwpIM9m"
   },
   "source": [
    "![Ice Extent](https://github.com/cs357/demos-cs357/blob/master/additional_files/ice.png?raw=1)\n",
    "\n",
    "In addition to fitting functions to datapoints, we can use least squares to make predictions on events that may happen in the future.  Here we have a dataset containing the extent of arctic sea ice over the years, which we can fit a least squares model to and predict the extent of arctic ice in future years.\n",
    "\n",
    "This is based on data from:\n",
    "\n",
    "http://ww2.amstat.org/publications/jse/v21n1/witt.pdf\n",
    "\n",
    "http://nsidc.org/research/bios/fetterer.html\n",
    "\n",
    "ftp://sidads.colorado.edu/DATASETS/NOAA/G02135/north/monthly/data/N_08_extent_v3.0.csv"
   ]
  },
  {
   "cell_type": "code",
   "execution_count": null,
   "metadata": {
    "id": "fKzYxS6oIM9n"
   },
   "outputs": [],
   "source": [
    "data = pd.read_csv('./additional_files/N_09_extent_v3.0.csv', dtype={'year': np.int32, 'extent': np.double})"
   ]
  },
  {
   "cell_type": "code",
   "execution_count": null,
   "metadata": {
    "id": "AWZG1S8YIM9o"
   },
   "outputs": [],
   "source": [
    "data.head()"
   ]
  },
  {
   "cell_type": "code",
   "execution_count": null,
   "metadata": {
    "id": "hwT_vFCfIM9q"
   },
   "outputs": [],
   "source": [
    "print(data.shape)"
   ]
  },
  {
   "cell_type": "code",
   "execution_count": null,
   "metadata": {
    "id": "GGV4hcnoIM9s"
   },
   "outputs": [],
   "source": [
    "year = data['year']\n",
    "extent = data[' extent']"
   ]
  },
  {
   "cell_type": "code",
   "execution_count": null,
   "metadata": {
    "id": "qFa4ymSfIM9u"
   },
   "outputs": [],
   "source": [
    "plt.figure(figsize=(6,4))\n",
    "plt.plot(year, extent, 'o')"
   ]
  },
  {
   "cell_type": "markdown",
   "metadata": {
    "id": "zaGGbHRYIM9w"
   },
   "source": [
    "### Fitting with a line"
   ]
  },
  {
   "cell_type": "code",
   "execution_count": null,
   "metadata": {
    "id": "24Ra7nixIM9x"
   },
   "outputs": [],
   "source": [
    "npoints = data.shape[0]\n",
    "print('number of data points = ', npoints)"
   ]
  },
  {
   "cell_type": "code",
   "execution_count": null,
   "metadata": {
    "id": "1B0fvQlcIM9z"
   },
   "outputs": [],
   "source": [
    "def fitfunction(t,coeffs):\n",
    "    fit = 0\n",
    "    for i,c in enumerate(coeffs):\n",
    "        fit += c*t**i\n",
    "    return  fit"
   ]
  },
  {
   "cell_type": "code",
   "execution_count": null,
   "metadata": {
    "id": "uJAwUFluIM91"
   },
   "outputs": [],
   "source": [
    "ndata = 20 #use the first ndata points for the fit\n",
    "year1 = year[:ndata]\n",
    "extent1 = extent[:ndata]\n",
    "\n",
    "A = np.array([\n",
    "    1+0*year1,\n",
    "    year1\n",
    "    ]).T\n",
    "\n",
    "b = np.array(extent1)\n",
    "\n",
    "x = la.solve(A.T@A,A.T@b)"
   ]
  },
  {
   "cell_type": "code",
   "execution_count": null,
   "metadata": {
    "id": "7hdnqrbwIM94"
   },
   "outputs": [],
   "source": [
    "plt.plot(year1, fitfunction(year1,x))\n",
    "plt.plot(year, extent, 'o')"
   ]
  },
  {
   "cell_type": "markdown",
   "metadata": {
    "id": "Bx4najMLIM97"
   },
   "source": [
    "### How did the linear fit \"fit\" as time time progresses?"
   ]
  },
  {
   "cell_type": "code",
   "execution_count": null,
   "metadata": {
    "id": "UVMaiJAMIM98"
   },
   "outputs": [],
   "source": [
    "plt.figure(figsize=(10,8))\n",
    "plt.plot(year, extent, 'o')\n",
    "\n",
    "for ndata in range(22, npoints):\n",
    "    \n",
    "    year1 = year[:ndata]\n",
    "    extent1 = extent[:ndata]\n",
    "\n",
    "    A = np.array([\n",
    "        1+0*year1,\n",
    "        year1\n",
    "        ]).T\n",
    "\n",
    "    b = np.array(extent1)\n",
    "\n",
    "    x = la.solve(A.T@A,A.T@b)\n",
    "    \n",
    "    plt.plot(year1, fitfunction(year1,x),  label='%d' % (year[0]+ndata))\n",
    "    \n",
    "plt.legend()"
   ]
  },
  {
   "cell_type": "markdown",
   "metadata": {
    "id": "UBbc7pTJIM9-"
   },
   "source": [
    "### Let's try a quadratic fit"
   ]
  },
  {
   "cell_type": "code",
   "execution_count": null,
   "metadata": {
    "id": "k0c0YjnnIM9-"
   },
   "outputs": [],
   "source": [
    "ndata = 26 #use the first ndata points for the fit\n",
    "year1 = year[:ndata]\n",
    "extent1 = extent[:ndata]\n",
    "\n",
    "A = np.array([\n",
    "    1+0*year1,\n",
    "    year1,\n",
    "    year1**2\n",
    "    ]).T\n",
    "\n",
    "b = np.array(extent1)\n",
    "\n",
    "x = la.solve(A.T@A,A.T@b)\n",
    "\n",
    "print(x)"
   ]
  },
  {
   "cell_type": "code",
   "execution_count": null,
   "metadata": {
    "id": "U39jpJfSIM-A"
   },
   "outputs": [],
   "source": [
    "plt.plot(year, fitfunction(year,x))\n",
    "plt.plot(year, extent, 'o')"
   ]
  },
  {
   "cell_type": "markdown",
   "metadata": {
    "id": "d7e81KQfIM-E"
   },
   "source": [
    "### What went wrong?\n",
    "\n",
    "Let's try to use the least square function from scipy"
   ]
  },
  {
   "cell_type": "code",
   "execution_count": null,
   "metadata": {
    "id": "zevsRdhdIM-F"
   },
   "outputs": [],
   "source": [
    "coeffs,residual,rank,sval=la.lstsq(A,b,rcond=None)\n",
    "\n",
    "plt.plot(year, fitfunction(year,coeffs))\n",
    "plt.plot(year, extent, 'o')\n",
    "\n",
    "print(coeffs)\n"
   ]
  },
  {
   "cell_type": "markdown",
   "metadata": {
    "id": "uHrkAPkZIM-H"
   },
   "source": [
    "Seems to work with `lstsq`... what could be the issue with the Normal Equations method above?\n",
    "\n",
    "Let's check the condition number of the matrix A"
   ]
  },
  {
   "cell_type": "code",
   "execution_count": null,
   "metadata": {
    "id": "p9lKLLTXIM-I"
   },
   "outputs": [],
   "source": [
    "print(la.cond(A))\n",
    "print(x)\n",
    "print(la.norm(A@x-b))"
   ]
  },
  {
   "cell_type": "markdown",
   "metadata": {
    "id": "Spw5Xe6BIM-K"
   },
   "source": [
    "The matrix A becomes closer to singular as the number of columns increases (i.e., as the number of coefficients for the fit increase). We can scale the years, to mitigate this situation:"
   ]
  },
  {
   "cell_type": "code",
   "execution_count": null,
   "metadata": {
    "id": "AZlHjfGzIM-K"
   },
   "outputs": [],
   "source": [
    "year2 = year - 1980\n",
    "extent2 = extent\n",
    "\n",
    "A = np.array([\n",
    "    1+0*year2,\n",
    "    year2,\n",
    "    year2**2\n",
    "    ]).T\n",
    "\n",
    "b = np.array(extent2)\n",
    "\n",
    "x = la.solve(A.T@A,A.T@b)\n",
    "\n",
    "\n",
    "print(la.cond(A))\n",
    "print(x)\n"
   ]
  },
  {
   "cell_type": "code",
   "execution_count": null,
   "metadata": {
    "id": "LSIy8pTPIM-N"
   },
   "outputs": [],
   "source": [
    "plt.plot(year2, fitfunction(year2,x))\n",
    "plt.plot(year2, extent, 'o')"
   ]
  },
  {
   "cell_type": "markdown",
   "metadata": {
    "id": "3K_FS1crIM-R"
   },
   "source": [
    "# C) Linear Least Squares using SVD"
   ]
  },
  {
   "cell_type": "markdown",
   "metadata": {
    "id": "OmliSDH-IM-R"
   },
   "source": [
    "The function below creates a random matrix and a random right-hand side vector, to use as input data for least squares. The arguments of the function are the shape of A, and the rank of A. You should run examples to investigate the following situations:\n",
    "\n",
    "1) rankA = N (this is a full rank matrix, and hence solution is unique\n",
    "\n",
    "2) rankA = N - 1 (this is a rank deficient matrix, and the solution is no longer unique"
   ]
  },
  {
   "cell_type": "code",
   "execution_count": null,
   "metadata": {
    "id": "0LghygV5IM-R"
   },
   "outputs": [],
   "source": [
    "def creates_A_b(shap = (10,4), rankA=4):\n",
    "    M,N = shap\n",
    "    # Generating the orthogonal matrix U\n",
    "    X = np.random.rand(M,M)\n",
    "    U,R = sla.qr(X)\n",
    "    # Generating the orthogonal matrix V\n",
    "    Y = np.random.rand(N,N)\n",
    "    V,R = sla.qr(Y)\n",
    "    Vt = V.T\n",
    "    # Generating the diagonal matrix Sigma\n",
    "    singval = random.sample(range(1, 9), rankA)\n",
    "    singval.sort()\n",
    "    sigmavec = singval[::-1]\n",
    "    sigma = np.zeros((M,N))\n",
    "    for i,sing in enumerate(sigmavec):\n",
    "        sigma[i,i] = sing\n",
    "    A = U@sigma@Vt\n",
    "    b = np.random.rand(M)\n",
    "    return(A,b)"
   ]
  },
  {
   "cell_type": "code",
   "execution_count": null,
   "metadata": {
    "id": "feP4XzmWIM-U"
   },
   "outputs": [],
   "source": [
    "# Matrix shape\n",
    "M = 10\n",
    "N = 4\n",
    "r = 2\n",
    "A,b = creates_A_b((M,N),r)"
   ]
  },
  {
   "cell_type": "code",
   "execution_count": null,
   "metadata": {
    "id": "j7i6tY5iIM-W"
   },
   "outputs": [],
   "source": [
    "print(la.cond(A))"
   ]
  },
  {
   "cell_type": "markdown",
   "metadata": {
    "id": "uGAeH4bBIM-a"
   },
   "source": [
    "### 1) Using normal equations (unique solution, full rank)"
   ]
  },
  {
   "cell_type": "code",
   "execution_count": null,
   "metadata": {
    "id": "73Xpf9FSIM-b"
   },
   "outputs": [],
   "source": [
    "# solve"
   ]
  },
  {
   "cell_type": "code",
   "execution_count": null,
   "metadata": {
    "id": "JXi7qPN1IM-d"
   },
   "outputs": [],
   "source": [
    "# get norm of residual"
   ]
  },
  {
   "cell_type": "code",
   "execution_count": null,
   "metadata": {
    "id": "d6vUD2bjIM-e"
   },
   "outputs": [],
   "source": [
    "# get norm of least-squares solution"
   ]
  },
  {
   "cell_type": "markdown",
   "metadata": {
    "id": "ITN2enYFIM-f"
   },
   "source": [
    "### 2) Using SVD"
   ]
  },
  {
   "cell_type": "code",
   "execution_count": null,
   "metadata": {
    "id": "hcFz93VwIM-g"
   },
   "outputs": [],
   "source": [
    "UR,SR,VRt = la.svd(A,full_matrices=False)\n",
    "print(SR)"
   ]
  },
  {
   "cell_type": "code",
   "execution_count": null,
   "metadata": {
    "id": "Ga3B3VHJIM-h"
   },
   "outputs": [],
   "source": [
    "# Determine the solution using SVD\n",
    "        "
   ]
  },
  {
   "cell_type": "code",
   "execution_count": null,
   "metadata": {
    "id": "ZdC4IqLOIM-j"
   },
   "outputs": [],
   "source": [
    "# get norm of residual"
   ]
  },
  {
   "cell_type": "code",
   "execution_count": null,
   "metadata": {
    "id": "Wate--VQIM-l"
   },
   "outputs": [],
   "source": [
    "# get norm of least-squares solution"
   ]
  },
  {
   "cell_type": "markdown",
   "metadata": {
    "id": "usdP5pPHIM-m"
   },
   "source": [
    "### 3) Using numpy.linalg Least Squares method"
   ]
  },
  {
   "cell_type": "code",
   "execution_count": null,
   "metadata": {
    "id": "iZjCILVGIM-m"
   },
   "outputs": [],
   "source": [
    "# Determine the solution using built-in function"
   ]
  },
  {
   "cell_type": "code",
   "execution_count": null,
   "metadata": {
    "id": "70D2KI8NIM-o"
   },
   "outputs": [],
   "source": [
    "# get norm of residual"
   ]
  },
  {
   "cell_type": "code",
   "execution_count": null,
   "metadata": {
    "id": "KXRY8mO_IM-p"
   },
   "outputs": [],
   "source": [
    "# get norm of least-squares solution"
   ]
  },
  {
   "cell_type": "code",
   "execution_count": null,
   "metadata": {
    "id": "e6JX2V-JIM-q"
   },
   "outputs": [],
   "source": [
    "# show rank and other return values"
   ]
  },
  {
   "cell_type": "markdown",
   "metadata": {
    "id": "StRWEWSxIM-r"
   },
   "source": [
    "# D) Least Squares Predictor for Fantasy Football\n",
    "\n",
    "In Fantasy Football, contestants choose from a pool of available (American) football players to build a team.  Contestants' teams score points depending on how their chosen players performed in real-life.  The more points scored, the better!\n",
    "\n",
    "There are literally hundreds of websites and blogs dedicated to predicting who will have a good game.  They use a variety of methodologies (including no methodology at all) to generate their predictions.  We will try to develop a predictor using Linear Least Squares that will answer the question: \"Should I pick this player?\""
   ]
  },
  {
   "cell_type": "markdown",
   "metadata": {
    "id": "75OjsxuaIM-s"
   },
   "source": [
    "There are two data sets, `FF-data-2018.csv` and `FF-data-2019.csv` that were collected using scoring from the Yahoo Fantasy Football platform.  The 2018 data was collected from [here](http://rotoguru1.com/cgi-bin/fyday.pl?week=16&year=2018&game=yh&scsv=1).  You can choose other years going back to 2011 from a variety of platforms.\n",
    "\n",
    "Let's read in the data and see what it looks like."
   ]
  },
  {
   "cell_type": "code",
   "execution_count": null,
   "metadata": {
    "id": "Ifwe-MybIM-s"
   },
   "outputs": [],
   "source": [
    "ff_2018 = pd.read_csv('./additional_files/FF-data-2018.csv')\n",
    "ff_2018"
   ]
  },
  {
   "cell_type": "markdown",
   "metadata": {
    "id": "Z-bFia0RIM-u"
   },
   "source": [
    "There are 6,355 data points which have a number of fields.  They are:\n",
    "- **Week**: The NFL season features 17 weeks of games, and each team plays 16 games in this time period.  This column tells you which week the player's game was.  I didn't include week 17, because many of the best players take that week off.\n",
    "\n",
    "\n",
    "- **Year**: Which year the game was played.  For this data set, all the year values are equal to 2018.\n",
    "\n",
    "\n",
    "- **GID**: A unique ID tag for each player.  We'll ignore this column.\n",
    "\n",
    "\n",
    "- **Name**: The actual name of the player.  In the case of defenses, the defense of the entire team is included, so in that case, this is the name of a city.\n",
    "\n",
    "\n",
    "- **Pos**: This is the position of the player.  The available choices are quarterback (QB), running back (RB), wide receiver (WR), tight end (TE), and defense (Def).\n",
    "\n",
    "\n",
    "- **Team**: An abbreviation that indicates which team the player belongs to.  Ryan Fitzpatrick was a member of the Tampa Bay Buccaneers, so his Team value is \"tam\".\n",
    "\n",
    "\n",
    "- **h/a**: Whether the player's game was played at home or on the road.  The possible values are 'h' (home) and 'a' (away).\n",
    "\n",
    "\n",
    "- **Oppt**: The opposing team that the player faced.  Ryan Fitzpatrick played against the New Orleans Saints in week 1, so his Oppt value is \"nor\".\n",
    "\n",
    "\n",
    "- **YH points**: The amount of points the player scored that week.  Ryan Fitzpatrick scored a whopping 42.28 points in week 1.\n",
    "\n",
    "\n",
    "- **YH salary**: On many Fantasy Football sites, you start with a certain budget, and select a team of players within the constraints of that budget.  Ryan Fitzpatrick only took 25.0 \"dollars\" of your available budget if you selected him on your team.  It gives an indication of how the platform judges the quality of a player."
   ]
  },
  {
   "cell_type": "markdown",
   "metadata": {
    "id": "gkDFFzWoIM-u"
   },
   "source": [
    "We can access the labels and put them in a list:"
   ]
  },
  {
   "cell_type": "code",
   "execution_count": null,
   "metadata": {
    "id": "qvGSYW6xIM-v"
   },
   "outputs": [],
   "source": [
    "labels = list(ff_2018.columns)\n",
    "print(labels)"
   ]
  },
  {
   "cell_type": "markdown",
   "metadata": {
    "id": "myuc3r-lIM-w"
   },
   "source": [
    "We can print out the available values of the positions for the data set by passing the key `Pos` as a string to the data set."
   ]
  },
  {
   "cell_type": "code",
   "execution_count": null,
   "metadata": {
    "id": "jMV7BOylIM-y"
   },
   "outputs": [],
   "source": [
    "print(ff_2018['Pos'].values)"
   ]
  },
  {
   "cell_type": "markdown",
   "metadata": {
    "id": "QW84MBVFIM-z"
   },
   "source": [
    "To remove all the duplicates, we can call the function `numpy.unique` to access all distinct values.  (Just like every other time you use a new function, review the documentation of `numpy.unique`!  You can do so by running a cell with the following command: `np.unique?`)"
   ]
  },
  {
   "cell_type": "code",
   "execution_count": null,
   "metadata": {
    "id": "2bcKvdV-IM-0"
   },
   "outputs": [],
   "source": [
    "positions = np.unique(ff_2018['Pos'])\n",
    "print(positions)"
   ]
  },
  {
   "cell_type": "markdown",
   "metadata": {
    "id": "prDuD3uMIM-1"
   },
   "source": [
    "Since the positions in football are so different, we really want to focus on one at a time.  It would be very ambitious to try and create a general predictor for all positions.  Let's focus on quarterbacks first.  "
   ]
  },
  {
   "cell_type": "markdown",
   "metadata": {
    "id": "Rsx-2ySUIM-1"
   },
   "source": [
    "How can we extract all the data for quarterbacks?  We can find the rows in the dataframe that has position equal to  `QB`"
   ]
  },
  {
   "cell_type": "code",
   "execution_count": null,
   "metadata": {
    "id": "kX3RlAzfIM-2"
   },
   "outputs": [],
   "source": [
    "POS = 'QB'\n",
    "ff_2018['Pos'] == POS"
   ]
  },
  {
   "cell_type": "markdown",
   "metadata": {
    "id": "jRRNBb9XIM-4"
   },
   "source": [
    "We will create another (smaller) dataframe that has the rows referring to the quarterback position."
   ]
  },
  {
   "cell_type": "code",
   "execution_count": null,
   "metadata": {
    "id": "8UrP4I-PIM-5"
   },
   "outputs": [],
   "source": [
    "df_POS = ff_2018[ff_2018['Pos'] == POS].copy()\n",
    "df_POS.head()"
   ]
  },
  {
   "cell_type": "markdown",
   "metadata": {
    "id": "o7pT_gdrIM-7"
   },
   "source": [
    "We can access the names of all the quarterbacks by referring to the columns `Name`"
   ]
  },
  {
   "cell_type": "code",
   "execution_count": null,
   "metadata": {
    "id": "JJQMVksdIM-7"
   },
   "outputs": [],
   "source": [
    "df_POS['Name']"
   ]
  },
  {
   "cell_type": "markdown",
   "metadata": {
    "id": "gIOrRhcyIM--"
   },
   "source": [
    "Linear Least Squares works with numerical data, not strings.  Eventually, we will want our predictive models to incorporate whether the player played at home or on the road, or how good their opponent was.  But the columns `h/a` and `Oppt` are strings:"
   ]
  },
  {
   "cell_type": "code",
   "execution_count": null,
   "metadata": {
    "id": "jxEQtYs0IM--"
   },
   "outputs": [],
   "source": [
    "df_POS['h/a']"
   ]
  },
  {
   "cell_type": "code",
   "execution_count": null,
   "metadata": {
    "id": "UEXwUCRWIM-_"
   },
   "outputs": [],
   "source": [
    "df_POS['Oppt']"
   ]
  },
  {
   "cell_type": "markdown",
   "metadata": {
    "id": "nlJk6QH7IM_B"
   },
   "source": [
    "At this point, we need to make decisions about what numerical values these should take.  For the home/away column: \n",
    "\n",
    "- let's make an array with the value +1.0 when the game is played at home, and -1.0 when the game is played away.\n",
    "\n",
    "- store this array as another column in the pandas dataframe, with label `home_away`"
   ]
  },
  {
   "cell_type": "code",
   "execution_count": null,
   "metadata": {
    "id": "0Cy2uVrrIM_B"
   },
   "outputs": [],
   "source": [
    "df_POS['home_away'] = np.where(df_POS['h/a']=='a',-1,1)\n",
    "df_POS"
   ]
  },
  {
   "cell_type": "markdown",
   "metadata": {
    "id": "leNztSxDIM_C"
   },
   "source": [
    "For the opponents, we need some kind of information about how many points they give up to a position on average.  We have compiled that information in a separate file, called `team_rankings.py`.  Importing this file will give us access to a collection of dictionaries that provides this information.\n",
    "\n",
    "After importing this file, the number `vs_2018[Pos][team]` will give us a relevant ranking."
   ]
  },
  {
   "cell_type": "code",
   "execution_count": null,
   "metadata": {
    "id": "eKxFIcYIIM_D"
   },
   "outputs": [],
   "source": [
    "from team_rankings import *  # asterik just means we import everything from that namespace"
   ]
  },
  {
   "cell_type": "markdown",
   "metadata": {
    "id": "_bFXiqi7IM_E"
   },
   "source": [
    "We can take a look at the keys in the dictionary:"
   ]
  },
  {
   "cell_type": "code",
   "execution_count": null,
   "metadata": {
    "id": "HZyRICDOIM_E"
   },
   "outputs": [],
   "source": [
    "print( vs_2018.keys() )"
   ]
  },
  {
   "cell_type": "markdown",
   "metadata": {
    "id": "DbZxVyQkIM_H"
   },
   "source": [
    "Note that the keys are just the player positions. Let's see the information for the key `QB` (we have been storing this string in the variable `POS`)"
   ]
  },
  {
   "cell_type": "code",
   "execution_count": null,
   "metadata": {
    "id": "fuz31I0RIM_H"
   },
   "outputs": [],
   "source": [
    "vs_2018[POS]"
   ]
  },
  {
   "cell_type": "code",
   "execution_count": null,
   "metadata": {
    "id": "ViM5p7wLIM_I"
   },
   "outputs": [],
   "source": [
    "print(vs_2018[POS]['atl'])\n",
    "print(vs_2018[POS]['buf'])"
   ]
  },
  {
   "cell_type": "markdown",
   "metadata": {
    "id": "jU1NIGVfIM_K"
   },
   "source": [
    "There are 32 football teams in the NFL.  \n",
    "\n",
    "The fact that `vs_2018['QB']['atl']` has the value 1.0, means that the Atlanta Falcons gave up the **most** points to quarterbacks on average in the 2018 season.  \n",
    "\n",
    "Since `vs_2018['QB']['buf']` has the value 32.0, this means that the Buffalo Bills gave up the **least** points to quarterbacks on average in the 2018 season.\n",
    "\n",
    "So, we would expect a better performance out of a quarterback if he is playing the Atlanta Falcons, compared to the Buffalo Bills. "
   ]
  },
  {
   "cell_type": "markdown",
   "metadata": {
    "id": "bu2Odo4WIM_K"
   },
   "source": [
    "The rankings can be very different for different positions:"
   ]
  },
  {
   "cell_type": "code",
   "execution_count": null,
   "metadata": {
    "id": "pPcVAJE_IM_K"
   },
   "outputs": [],
   "source": [
    "print(vs_2018['RB']['atl'])\n",
    "print(vs_2018['RB']['buf'])\n",
    "print()\n",
    "print(vs_2018['WR']['atl'])\n",
    "print(vs_2018['WR']['buf'])\n",
    "print()\n",
    "print(vs_2018['TE']['atl'])\n",
    "print(vs_2018['TE']['buf'])\n",
    "print()\n",
    "print(vs_2018['Def']['atl'])\n",
    "print(vs_2018['Def']['buf'])\n",
    "print()"
   ]
  },
  {
   "cell_type": "markdown",
   "metadata": {
    "id": "GoVAb5cgIM_M"
   },
   "source": [
    "For the quarterback position (POS = 'QB'), convert the strings in the column `Oppt` into their corresponding numerical values using the dictionary `vs_2018`. Store this as another column of the pandas dataframe `oppt_rank`"
   ]
  },
  {
   "cell_type": "code",
   "execution_count": null,
   "metadata": {
    "id": "ltUCnociIM_M"
   },
   "outputs": [],
   "source": [
    "def get_rank(x):\n",
    "    return vs_2018[POS][x]\n",
    "\n",
    "df_POS['oppt_rank'] = df_POS['Oppt'].apply(get_rank)\n",
    "df_POS"
   ]
  },
  {
   "cell_type": "markdown",
   "metadata": {
    "id": "efakCIryIM_N"
   },
   "source": [
    "Now, players' names will be repeated in the array `names` for every game they played.  We will find it convenient to have another array collecting the names without these repeats.  We'll use `pandas.Series.unique` to do this."
   ]
  },
  {
   "cell_type": "code",
   "execution_count": null,
   "metadata": {
    "id": "pc7fDHJhIM_N"
   },
   "outputs": [],
   "source": [
    "unique_players = df_POS['Name'].unique()\n",
    "len(unique_players)"
   ]
  },
  {
   "cell_type": "markdown",
   "metadata": {
    "id": "zqa8T3-TIM_O"
   },
   "source": [
    "So 73 quarterbacks played in 2018.  But there are only 32 teams!  Who are all these people?"
   ]
  },
  {
   "cell_type": "code",
   "execution_count": null,
   "metadata": {
    "id": "fnpCkT-PIM_P"
   },
   "outputs": [],
   "source": [
    "print(unique_players[7])\n",
    "print(unique_players[72])"
   ]
  },
  {
   "cell_type": "markdown",
   "metadata": {
    "id": "nB-V3NsTIM_Q"
   },
   "source": [
    "I know who Tom Brady is, but I've never heard of Nate Sudfeld. Let's count how many times a players played a game.\n",
    "\n",
    "We can use `groupby` to group players by Name, and then count the number of times each player appears:"
   ]
  },
  {
   "cell_type": "code",
   "execution_count": null,
   "metadata": {
    "id": "dwzJMZRDIM_Q"
   },
   "outputs": [],
   "source": [
    "df_POS.groupby('Name')['Name'].count()"
   ]
  },
  {
   "cell_type": "markdown",
   "metadata": {
    "id": "zuE4B96NIM_R"
   },
   "source": [
    "We want to add the frequency (game count) back to the original dataframe, and for that we will use transform to return an aligned index."
   ]
  },
  {
   "cell_type": "code",
   "execution_count": null,
   "metadata": {
    "id": "v8dUMulMIM_S"
   },
   "outputs": [],
   "source": [
    "df_POS['game_count'] = df_POS.groupby('Name')['Name'].transform('count')\n",
    "df_POS"
   ]
  },
  {
   "cell_type": "markdown",
   "metadata": {
    "id": "t1_m50Z4IM_T"
   },
   "source": [
    "Note that Nate Sudfeld only played in 1 game in 2018.  He probably took over when the starter was injured, or when his team was involved in a lopsided game.  We probably want to remove his data, since it won't be very helpful.\n",
    "\n",
    "Let's us create an array of the names of all the players that are relevant to our analysis. For that, we will exclude the names for all the players that participated in less than `min_games`."
   ]
  },
  {
   "cell_type": "code",
   "execution_count": null,
   "metadata": {
    "id": "fOQd_Va1IM_T"
   },
   "outputs": [],
   "source": [
    "min_games = 5\n",
    "relevant_players =  df_POS[df_POS['game_count']>=min_games]['Name'].unique()\n",
    "print(len(relevant_players))\n",
    "relevant_players"
   ]
  },
  {
   "cell_type": "markdown",
   "metadata": {
    "id": "8PBsSPwzIM_V"
   },
   "source": [
    "Now we only consider 43 quarterbacks playing in 2018."
   ]
  },
  {
   "cell_type": "markdown",
   "metadata": {
    "id": "MlfchH1sIM_V"
   },
   "source": [
    "### Let's put all of this together! \n",
    "Write a function `prepare_data` that creates the dataframe `df_POS` for a given player position. The function also returns as an argument the list of relevant unique players."
   ]
  },
  {
   "cell_type": "code",
   "execution_count": null,
   "metadata": {
    "id": "mtDLVtjPIM_W"
   },
   "outputs": [],
   "source": [
    "def prepare_data(ff_data,POS,min_games):  \n",
    "    # returns (new_df,relevant_players) as described above\n",
    "    #clear\n",
    "    df_POS = ff_data[ff_data['Pos'] == POS].copy()\n",
    "    df_POS['home_away'] = np.where(df_POS['h/a']=='a',-1,1)\n",
    "    df_POS['oppt_rank'] = df_POS['Oppt'].apply(get_rank)\n",
    "    df_POS['game_count'] = df_POS.groupby('Name')['Name'].transform('count')\n",
    "    df_new = df_POS[df_POS['game_count']>=min_games].copy()\n",
    "    relevant_players =  df_POS[df_POS['game_count']>=min_games]['Name'].unique()\n",
    "    return(df_POS, relevant_players)\n"
   ]
  },
  {
   "cell_type": "markdown",
   "metadata": {
    "id": "qy-DZJ2NIM_X"
   },
   "source": [
    "Test out that your function works as expected:"
   ]
  },
  {
   "cell_type": "code",
   "execution_count": null,
   "metadata": {
    "id": "0ELJdVKUIM_Y",
    "outputId": "9caabbc5-5e0d-4571-dafc-f63c5ce6b51b"
   },
   "outputs": [
    {
     "ename": "NameError",
     "evalue": "name 'ff_2018' is not defined",
     "output_type": "error",
     "traceback": [
      "\u001b[0;31m---------------------------------------------------------------------------\u001b[0m",
      "\u001b[0;31mNameError\u001b[0m                                 Traceback (most recent call last)",
      "\u001b[0;32m<ipython-input-2-9f80f0d136fb>\u001b[0m in \u001b[0;36m<module>\u001b[0;34m\u001b[0m\n\u001b[0;32m----> 1\u001b[0;31m \u001b[0mdf_test\u001b[0m\u001b[0;34m,\u001b[0m\u001b[0mplayers_test\u001b[0m \u001b[0;34m=\u001b[0m \u001b[0mprepare_data\u001b[0m\u001b[0;34m(\u001b[0m\u001b[0mff_2018\u001b[0m\u001b[0;34m,\u001b[0m\u001b[0;34m'WR'\u001b[0m\u001b[0;34m,\u001b[0m\u001b[0;36m3\u001b[0m\u001b[0;34m)\u001b[0m\u001b[0;34m\u001b[0m\u001b[0;34m\u001b[0m\u001b[0m\n\u001b[0m\u001b[1;32m      2\u001b[0m \u001b[0mdf_test\u001b[0m\u001b[0;34m\u001b[0m\u001b[0;34m\u001b[0m\u001b[0m\n",
      "\u001b[0;31mNameError\u001b[0m: name 'ff_2018' is not defined"
     ]
    }
   ],
   "source": [
    "df_test,players_test = prepare_data(ff_2018,'WR',3)\n",
    "df_test"
   ]
  },
  {
   "cell_type": "markdown",
   "metadata": {
    "id": "sYusfdS9IM_a"
   },
   "source": [
    "### Simple Model - Last $n$ games\n",
    "\n",
    "We'll start with a simple linear model. For now, we will keep using our example where we constructed a dataset for quarterbacks in the variable `df_POS`, along with `relevant_players`\n",
    "\n",
    "The points scored in the previous $n$ games will be the only data considered when making a prediction.  Let's look at what the model would look like for only one player, say Andy Dalton, with $n = 3$."
   ]
  },
  {
   "cell_type": "code",
   "execution_count": null,
   "metadata": {
    "id": "Kp6JKt45IM_a"
   },
   "outputs": [],
   "source": [
    "pl = relevant_players[13]\n",
    "pl_points = df_POS[df_POS['Name']==pl]['YH points'].values\n",
    "\n",
    "print('Player:', pl)\n",
    "print('Points:', pl_points)"
   ]
  },
  {
   "cell_type": "markdown",
   "metadata": {
    "id": "Y11WAk-JIM_d"
   },
   "source": [
    "Andy Dalton played 11 games.  So we could try to build a model that predicted the points he scored in his 4th game, based on his first 3, and similarly try to predict the points he scored in the 5th games based on games 2,3, and 4.\n",
    "\n",
    "I.e. a \"local\" least squares system might look something like\n",
    "\n",
    "$$\\mathbf{Ax}\\cong \\mathbf{b}$$\n",
    "\n",
    "where\n",
    "\n",
    "$$\\mathbf{A} = \\begin{pmatrix} 17.52 & 26.6 & 18.08\\\\ 26.6 & 18.08 & 25.78 \\\\ 18.08 & 25.78 & 13.92 \\\\\n",
    "25.78 & 13.92 & 17.16 \\\\ 13.92 & 17.16 & 8.92 \\\\ 17.16 & 8.92 & 20.2 \\\\ 8.92 & 20.2 & 8.92 \\\\\n",
    "20.2 & 8.92 & 19.34 \\end{pmatrix}, \\hspace{5mm} \\mathbf{b}= \\begin{pmatrix} 25.78 \\\\ 13.92 \\\\ 17.16 \\\\ 8.92 \\\\\n",
    "20.2 \\\\ 8.92 \\\\ 19.34 \\\\ 9.1\\end{pmatrix}$$"
   ]
  },
  {
   "cell_type": "markdown",
   "metadata": {
    "id": "5MokslBwIM_d"
   },
   "source": [
    "This was with $n = 3$ games.  If instead, we base our \"local\" least squares on the previous $n = 4$ games, then our system would instead look like:\n",
    "\n",
    "$$\\mathbf{A} = \\begin{pmatrix} 17.52 & 26.6 & 18.08 & 25.78\\\\ 26.6 & 18.08 & 25.78 & 13.92 \\\\ \n",
    "18.08 & 25.78 & 13.92 & 17.16\\\\ 25.78 & 13.92 & 17.16 & 8.92 \\\\ 13.92 & 17.16 & 8.92 & 20.2 \\\\ \n",
    "17.16 & 8.92 & 20.2 & 8.92\\\\ 8.92 & 20.2 & 8.92 & 19.34 \\end{pmatrix},\\hspace{4mm} \\mathbf{b}= \\begin{pmatrix} 13.92 \\\\ 17.16 \\\\ 8.92 \\\\\n",
    "20.2 \\\\ 8.92 \\\\ 19.34 \\\\ 9.1\\end{pmatrix} $$"
   ]
  },
  {
   "cell_type": "markdown",
   "metadata": {
    "id": "cdDn-bYFIM_d"
   },
   "source": [
    "Write a function that generates this local system for a given (relevant) player.  Use the example above to debug your function (i.e., data for Andy Dalton)"
   ]
  },
  {
   "cell_type": "code",
   "execution_count": null,
   "metadata": {
    "id": "M6V6UaZ9IM_d"
   },
   "outputs": [],
   "source": [
    "def player_point_history(df, pl, n_games):   \n",
    "    # df: dataframe\n",
    "    # rel_player (string): name of a player\n",
    "    # n_games (int): number of games used for the prediction\n",
    "    # clear\n",
    "    pts = df[df['Name']==pl]['YH points'].values\n",
    "    \n",
    "    m = pts[n_games:].shape[0]\n",
    "    A = np.zeros((m,n_games))\n",
    "    for k in range(n_games):\n",
    "        A[:,k] = pts[k:-n_games + k]\n",
    "    b = pts[n_games:]\n",
    "      \n",
    "    return A,b\n",
    "\n",
    "A,b = player_point_history(df_POS, relevant_players[13], 4) \n",
    "print(A)\n",
    "print(b)"
   ]
  },
  {
   "cell_type": "markdown",
   "metadata": {
    "id": "qyFIal9MIM_f"
   },
   "source": [
    "Now, with this function, we can loop over the relevant players, generate their local systems, and \"stack\" them on top of each other to generate the global system.  We'll do this with $n = 3$"
   ]
  },
  {
   "cell_type": "code",
   "execution_count": null,
   "metadata": {
    "id": "HOi7H6KBIM_f"
   },
   "outputs": [],
   "source": [
    "n_games = 3\n",
    "\n",
    "# empty array for right hand side of size M x 1\n",
    "pts_scored = np.array([])\n",
    "\n",
    "# empty array for matrix of size M x n_games.  We had to reshape to size 0 x n_games to allow for \"stacking\" \n",
    "game_hist = np.array([]).reshape(0,n_games)\n",
    "\n",
    "for pl in relevant_players:\n",
    "    # generate local system\n",
    "    a,c = player_point_history(df_POS,pl,n_games)\n",
    "    \n",
    "    # use numpy.append to append local system to global vector\n",
    "    pts_scored = np.append(pts_scored,c)\n",
    "    \n",
    "    # use numpy.vstack (i.e. \"vertical stack\") to stack the global matrix and the local matrix\n",
    "    game_hist = np.vstack((game_hist,a))\n",
    "    \n",
    "print(pts_scored.shape)\n",
    "print(game_hist.shape)"
   ]
  },
  {
   "cell_type": "markdown",
   "metadata": {
    "id": "37v70iBaIM_g"
   },
   "source": [
    "### When should we start a player?\n",
    "\n",
    "It would be an overly ambitious task to try to predict a players exact point total.  What we can do instead is set a \"threshold\".  I.e. if a player's points exceed this threshold, then we can deem them \"startable\".  If they don't exceed this threshold, then we should look choose a different player.\n",
    "\n",
    "What threshold should we use?  That's debatable, but I've compiled the following dictionary based on additional data I collected from nfl.com."
   ]
  },
  {
   "cell_type": "code",
   "execution_count": null,
   "metadata": {
    "id": "ujM1j1X7IM_g"
   },
   "outputs": [],
   "source": [
    "start_threshold = {'QB': 19.3999, 'RB': 14.599, 'WR': 15.099, 'TE': 7.899, 'Def': 7.499}"
   ]
  },
  {
   "cell_type": "markdown",
   "metadata": {
    "id": "Z7hVLW7jIM_i"
   },
   "source": [
    "So, if a quarterback scores more than 19.3999, we declare them startable.  If a defense scores less than 7.499, then we should pick a different defense, etc.\n",
    "\n",
    "We can finally set up our least squares system.  Set the matrix `A` to the variable `game_hist` defined above.  The components of the vector `b` should have a value of +1.0 if the corresponding component of `pts_scored` exceeds the threshold, and -1.0 if it lies below the threshold.  (I chose the thresholds so that it is impossible for the points to equal the threshold)."
   ]
  },
  {
   "cell_type": "markdown",
   "metadata": {
    "id": "vTtjEhSPIM_i"
   },
   "source": [
    "Set up the right hand side vector, and solve the Linear Least Squares problem for $\\mathbf{x}$.  You can use `numpy.linalg.lstsq` to compute the least-squares solution.  Then compute a numpy array `b_predict` that tests how this linear model performs on the data."
   ]
  },
  {
   "cell_type": "code",
   "execution_count": null,
   "metadata": {
    "id": "tdjSOMcsIM_i"
   },
   "outputs": [],
   "source": [
    "threshold = start_threshold[POS]\n",
    "A = game_hist\n",
    "\n",
    "# clear\n",
    "b = np.sign(pts_scored - threshold)\n",
    "LSTQ = la.lstsq(A,b,rcond=None)\n",
    "x = LSTQ[0]\n",
    "b_predict = np.sign(A@x)"
   ]
  },
  {
   "cell_type": "markdown",
   "metadata": {
    "id": "azR-ZK8oIM_j"
   },
   "source": [
    "We can have the following situations:\n",
    "- The prediction tells you to start a player that ends up performing poorly (a \"false positive\")\n",
    "- The prediction tells you to exclude a player that ends up performing well (a \"false negative\")\n",
    "- The prediction tells you to start a player that ends up performing well (a correct prediction)"
   ]
  },
  {
   "cell_type": "markdown",
   "metadata": {
    "id": "9hsbrdNBIM_j"
   },
   "source": [
    "Compute the number of false positives, false negatives, and correct prediction.  What percentage of each do we obtain on the data?"
   ]
  },
  {
   "cell_type": "code",
   "execution_count": null,
   "metadata": {
    "id": "k4C4HgwrIM_k"
   },
   "outputs": [],
   "source": [
    "# clear\n",
    "false_positive = np.sum(b_predict > b)\n",
    "false_negative = np.sum(b > b_predict)\n",
    "correct_prediction = np.sum(b == b_predict)\n",
    "\n",
    "print(false_positive)\n",
    "print(false_negative)\n",
    "print(correct_prediction)\n",
    "print()\n",
    "print(false_positive/b.shape[0])\n",
    "print(false_negative/b.shape[0])\n",
    "print(correct_prediction/b.shape[0])"
   ]
  },
  {
   "cell_type": "markdown",
   "metadata": {
    "id": "Woheqi04IM_l"
   },
   "source": [
    "The model is only correct 60.57% of the time.  However, it only return a \"false positive\" 3.39% of the time, which is very nice: if the model tells you to start a player, there's a good chance you will be happy with the results."
   ]
  },
  {
   "cell_type": "markdown",
   "metadata": {
    "id": "6-aW4QtDIM_l"
   },
   "source": [
    "Let's put it all together into a single function.  This will mostly be copying and pasting from above.  The function should return the variables `A`, `b`, `x`.  "
   ]
  },
  {
   "cell_type": "code",
   "execution_count": null,
   "metadata": {
    "id": "Fn8aCgETIM_l"
   },
   "outputs": [],
   "source": [
    "def linear_predictor(ff_data, Pos, min_games, n_games, threshold):\n",
    "    # clear\n",
    "    \n",
    "    df,relevant_players = prepare_data(ff_data,Pos,min_games)\n",
    "    \n",
    "    pts_scored = np.array([])\n",
    "    game_hist = np.array([]).reshape(0,n_games)\n",
    "\n",
    "    for pl in relevant_players:\n",
    "        a,c = player_point_history(df,pl,n_games)\n",
    "        pts_scored = np.append(pts_scored,c)\n",
    "        game_hist = np.vstack((game_hist,a))\n",
    "    \n",
    "    A = game_hist\n",
    "    b = np.sign(pts_scored - threshold)\n",
    "    \n",
    "    LSTQ = np.linalg.lstsq(A,b,rcond = None)\n",
    "    x = LSTQ[0]\n",
    "    #\n",
    "    \n",
    "    return A, b, x"
   ]
  },
  {
   "cell_type": "markdown",
   "metadata": {
    "id": "IH0vWdE-IM_n"
   },
   "source": [
    "We can call the routine for any position, and we can tweak the number of `min_games` and `n_games`.  You can also tweak the threshold.  Try changing the input variables and see how this affects model accuracy"
   ]
  },
  {
   "cell_type": "code",
   "execution_count": null,
   "metadata": {
    "id": "UOyAWLhiIM_o"
   },
   "outputs": [],
   "source": [
    "Pos = 'WR'\n",
    "min_games = 5\n",
    "n_games = 3\n",
    "threshold = start_threshold[Pos]\n",
    "\n",
    "A, b, x = linear_predictor(ff_2018, Pos, min_games, n_games, threshold)\n",
    "\n",
    "# clear\n",
    "b_predict = np.sign(A@x)\n",
    "\n",
    "false_negative = np.sum(b > b_predict)\n",
    "false_positive = np.sum(b_predict > b)\n",
    "correct_prediction = np.sum(b == b_predict)\n",
    "\n",
    "print(false_negative)\n",
    "print(false_positive)\n",
    "print(correct_prediction)\n",
    "print()\n",
    "print(false_negative/b.shape[0])\n",
    "print(false_positive/b.shape[0])\n",
    "print(correct_prediction/b.shape[0])"
   ]
  },
  {
   "cell_type": "markdown",
   "metadata": {
    "id": "4soBN9dvIM_p"
   },
   "source": [
    "Notice we didn't make use of the fact that a player is playing on home or on the road, or the ranking of the opponent.  Let's try to enrich the features used in this problem to include this data.  Let's go back to Andy Dalton:"
   ]
  },
  {
   "cell_type": "code",
   "execution_count": null,
   "metadata": {
    "id": "Bg-9nngVIM_p"
   },
   "outputs": [],
   "source": [
    "pl = relevant_players[13]\n",
    "pl_points = df_POS[df_POS['Name']==pl]['YH points'].values\n",
    "pl_home_away = df_POS[df_POS['Name']==pl]['home_away'].values\n",
    "pl_oppt_rank = df_POS[df_POS['Name']==pl]['oppt_rank'].values\n",
    "\n",
    "print('Player:', pl)\n",
    "print('Points:', pl_points)\n",
    "print('Location:', pl_home_away)\n",
    "print('Opp Rank:', pl_oppt_rank)"
   ]
  },
  {
   "cell_type": "markdown",
   "metadata": {
    "id": "o6TZX_4AIM_q"
   },
   "source": [
    "When $n = 3$ we had the following system when we only took previous games played:\n",
    "\n",
    "$$\\mathbf{A} = \\begin{pmatrix} 17.52 & 26.6 & 18.08\\\\ 26.6 & 18.08 & 25.78 \\\\ 18.08 & 25.78 & 13.92 \\\\\n",
    "25.78 & 13.92 & 17.16 \\\\ 13.92 & 17.16 & 8.92 \\\\ 17.16 & 8.92 & 20.2 \\\\ 8.92 & 20.2 & 8.92 \\\\\n",
    "20.2 & 8.92 & 19.34 \\end{pmatrix}, \\hspace{5mm} \\mathbf{b}= \\begin{pmatrix} 25.78 \\\\ 13.92 \\\\ 17.16 \\\\ 8.92 \\\\\n",
    "20.2 \\\\ 8.92 \\\\ 19.34 \\\\ 9.1\\end{pmatrix}$$\n",
    "\n",
    "With the location and opponent data, it should now look like this:\n",
    "\n",
    "$$\\mathbf{A} = \\begin{pmatrix} 17.52 & 26.6 & 18.08 & -1 & 1\\\\ 26.6 & 18.08 & 25.78 & 1 & 10 \\\\ 18.08 & 25.78 & 13.92 & 1 & 17\\\\ 25.78 & 13.92 & 17.16 & -1 & 5\\\\ 13.92 & 17.16 & 8.92 & 1 & 4\\\\ 17.16 & 8.92 & 20.2 & 1 & 2\\\\ 8.92 & 20.2 & 8.92 & -1 & 29 \\\\\n",
    "20.2 & 8.92 & 19.34  & 1 & 13\\end{pmatrix}, \\hspace{5mm} \\mathbf{b}= \\begin{pmatrix} 25.78 \\\\ 13.92 \\\\ 17.16 \\\\ 8.92 \\\\\n",
    "20.2 \\\\ 8.92 \\\\ 19.34 \\\\ 9.1\\end{pmatrix}$$"
   ]
  },
  {
   "cell_type": "markdown",
   "metadata": {
    "id": "d-LFDweZIM_q"
   },
   "source": [
    "Create an enriched linear regression, by adding these two extra columns to the matrix $\\mathbf{A}$.  The routine should return `A` with the two added columns.  It should also return the right hand side `b` and least-squares solution `x`."
   ]
  },
  {
   "cell_type": "code",
   "execution_count": null,
   "metadata": {
    "id": "bIkGCugIIM_q"
   },
   "outputs": [],
   "source": [
    "def linear_predictor_enriched(ff_data, Pos, min_games, n_games, threshold):\n",
    "    # clear\n",
    "    \n",
    "    df,relevant_players = prepare_data(ff_data,Pos,min_games)\n",
    "    \n",
    "    pts_scored = np.array([])\n",
    "    game_hist = np.array([]).reshape(0,n_games+2)\n",
    "\n",
    "    for pl in relevant_players:\n",
    "        a,c = player_point_history(df,pl,n_games)\n",
    "        location = df[df['Name']==pl]['home_away'].values\n",
    "        opponent = df[df['Name']==pl]['oppt_rank'].values\n",
    "        last_two_columns = np.vstack((location[n_games:],opponent[n_games:])).T\n",
    "        anew = np.hstack((a,last_two_columns ))\n",
    "        \n",
    "        pts_scored = np.append(pts_scored,c)\n",
    "        game_hist = np.vstack((game_hist,anew))\n",
    "        \n",
    "    \n",
    "    b = np.sign(pts_scored - threshold)\n",
    "    A = game_hist\n",
    "    \n",
    "    LSTQ = np.linalg.lstsq(A,b,rcond = None)\n",
    "    x = LSTQ[0]\n",
    "    #\n",
    "    \n",
    "    return A, b, x"
   ]
  },
  {
   "cell_type": "markdown",
   "metadata": {
    "id": "zAhLBc1eIM_r"
   },
   "source": [
    "This enriched version is considerably better for running backs, with our standard inputs:"
   ]
  },
  {
   "cell_type": "code",
   "execution_count": null,
   "metadata": {
    "id": "ldBzU9-RIM_r"
   },
   "outputs": [],
   "source": [
    "Pos = 'RB'\n",
    "min_games = 5\n",
    "n_games = 3\n",
    "threshold = start_threshold[Pos]\n",
    "\n",
    "A, b, x  = linear_predictor(ff_2018, Pos, min_games, n_games, threshold)\n",
    "\n",
    "b_predict = np.sign(A@x)\n",
    "false_negative = np.sum(b > b_predict)\n",
    "false_positive = np.sum(b_predict > b)\n",
    "correct_prediction = np.sum(b == b_predict)\n",
    "\n",
    "print('Standard Model')\n",
    "print('Fraction of false negatives:    ', false_negative/b.shape[0])\n",
    "print('Fraction of false positives:    ', false_positive/b.shape[0])\n",
    "print('Fraction of correct predictions:', correct_prediction/b.shape[0])\n",
    "print()\n",
    "\n",
    "A, b, x = linear_predictor_enriched(ff_2018, Pos, min_games, n_games, threshold)\n",
    "\n",
    "b_predict = np.sign(A@x)\n",
    "\n",
    "false_negative = np.sum(b > b_predict)\n",
    "false_positive = np.sum(b_predict > b)\n",
    "correct_prediction = np.sum(b == b_predict)\n"
   ]
  },
  {
   "cell_type": "markdown",
   "metadata": {
    "id": "7GipYNWAIM_s"
   },
   "source": [
    "But it's not very effective for quarterbacks:"
   ]
  },
  {
   "cell_type": "code",
   "execution_count": null,
   "metadata": {
    "id": "gcFjZNxPIM_t"
   },
   "outputs": [],
   "source": [
    "Pos = 'WR'\n",
    "min_games = 10\n",
    "n_games = 1\n",
    "threshold = start_threshold[Pos]\n",
    "\n",
    "A, b, x  = linear_predictor(ff_2018, Pos, min_games, n_games, threshold)\n",
    "\n",
    "b_predict = np.sign(A@x)\n",
    "false_negative = np.sum(b > b_predict)\n",
    "false_positive = np.sum(b_predict > b)\n",
    "correct_prediction = np.sum(b == b_predict)\n",
    "\n",
    "print('Standard Model')\n",
    "print('Fraction of false negatives:    ', false_negative/b.shape[0])\n",
    "print('Fraction of false positives:    ', false_positive/b.shape[0])\n",
    "print('Fraction of correct predictions:', correct_prediction/b.shape[0])\n",
    "print()\n",
    "\n",
    "A, b, x = linear_predictor_enriched(ff_2018, Pos, min_games, n_games, threshold)\n",
    "\n",
    "b_predict = np.sign(A@x)\n",
    "\n",
    "false_negative = np.sum(b > b_predict)\n",
    "false_positive = np.sum(b_predict > b)\n",
    "correct_prediction = np.sum(b == b_predict)\n",
    "\n",
    "print('Enriched Model')\n",
    "print('Fraction of false negatives:    ', false_negative/b.shape[0])\n",
    "print('Fraction of false positives:    ', false_positive/b.shape[0])\n",
    "print('Fraction of correct predictions:', correct_prediction/b.shape[0])\n",
    "print()"
   ]
  },
  {
   "cell_type": "markdown",
   "metadata": {
    "id": "-AkaD09ZIM_v"
   },
   "source": [
    "The number of false positives has shot up dramatically.  Despite the (slightly) better accuracy, I would probably avoid this one.\n",
    "\n",
    "It seems that running backs are more \"matchup-dependent\" than quarterbacks.  That is, where they are playing and how good the other team is are bigger factors in their performance compared to quarterbacks."
   ]
  },
  {
   "cell_type": "markdown",
   "metadata": {
    "id": "SkJSjbtIIM_v"
   },
   "source": [
    "### Validation set\n",
    "Of course, you never want to conclude anything about your model based on the data you used to construct it.  You should validate its accuracy on a different data set.  We can do so on this years fantasy football data.  We can also select the optimal **hyperparameters** (a fancy word for parameters) based on this validation set.\n",
    "\n",
    "Some questions to ask as you test the model on the validation set:\n",
    "\n",
    "- Should we include the home/away and opponent data or not?\n",
    "- Is our decision to exclude players that have played less than 5 games a good one?  Should we bump that number up to 7 games?  Or down to 3?\n",
    "- How many games should we include in our history?  Is 3 games really the best choice?  What about 5?  What about just the last game?\n",
    "\n",
    "I.e. the inclusion of the extra data, the minimum number of games, and the history length are the **hyperparameters** for this model."
   ]
  },
  {
   "cell_type": "code",
   "execution_count": null,
   "metadata": {
    "id": "xZOCyxouIM_w"
   },
   "outputs": [],
   "source": [
    "ff_2019 = pd.read_csv('./additional_files/FF-data-2019.csv')\n",
    "\n",
    "# position\n",
    "Pos = 'WR'\n",
    "\n",
    "# these are your hyperparameters\n",
    "min_games = 5\n",
    "n_games = 2\n",
    "enriched = True\n",
    "\n",
    "# build model on 2018 data and retrieve least squares solution x\n",
    "if enriched:\n",
    "    OUT_2018 = linear_predictor_enriched(ff_2018, Pos, min_games,n_games,threshold)\n",
    "    x = OUT_2018[2]\n",
    "else:\n",
    "    OUT_2018 = linear_predictor(ff_2018, Pos, min_games,n_games,threshold)\n",
    "    x = OUT_2018[2]\n",
    "    \n",
    "\n",
    "# retrieve Data matrix A and outcomes vector b using 2019 data\n",
    "if enriched:\n",
    "    OUT_2019 = linear_predictor_enriched(ff_2019, Pos, min_games,n_games,threshold)\n",
    "    A,b = OUT_2019[0], OUT_2019[1]\n",
    "else:\n",
    "    OUT_2019 = linear_predictor(ff_2019, Pos, min_games,n_games,threshold)\n",
    "    A,b = OUT_2019[0], OUT_2019[1]\n",
    "    \n",
    "# assess model\n",
    "b_predict = np.sign(A@x)\n",
    "\n",
    "false_negative = np.sum(b > b_predict)\n",
    "false_positive = np.sum(b_predict > b)\n",
    "correct_prediction = np.sum(b == b_predict)\n",
    "print('Fraction of false negatives:    ', false_negative/b.shape[0])\n",
    "print('Fraction of false positives:    ', false_positive/b.shape[0])\n",
    "print('Fraction of correct predictions:', correct_prediction/b.shape[0])\n",
    "print()"
   ]
  }
 ],
 "metadata": {
  "colab": {
   "name": "17-least_squares.ipynb",
   "provenance": []
  },
  "kernelspec": {
   "display_name": "Python 3",
   "language": "python",
   "name": "python3"
  },
  "language_info": {
   "codemirror_mode": {
    "name": "ipython",
    "version": 3
   },
   "file_extension": ".py",
   "mimetype": "text/x-python",
   "name": "python",
   "nbconvert_exporter": "python",
   "pygments_lexer": "ipython3",
   "version": "3.8.3"
  }
 },
 "nbformat": 4,
 "nbformat_minor": 1
}
