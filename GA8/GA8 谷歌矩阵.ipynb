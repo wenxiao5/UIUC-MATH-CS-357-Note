{
 "cells": [
  {
   "cell_type": "code",
   "execution_count": 8,
   "metadata": {},
   "outputs": [],
   "source": [
    "import numpy as np\n",
    "import numpy.linalg as la\n",
    "page_names = ['Twitter', 'Ebay', 'Wikipedia', 'The Guardian']\n",
    "A = np.array([[0., 0., 1., 0.],\n",
    "       [1., 0., 1., 1.],\n",
    "       [0., 1., 0., 1.],\n",
    "       [0., 1., 0., 0.]])"
   ]
  },
  {
   "cell_type": "code",
   "execution_count": 21,
   "metadata": {},
   "outputs": [],
   "source": [
    "M=A.copy()\n",
    "for i in range(len(A)):\n",
    "    if sum(A[:,i])!=0:\n",
    "        M[:,i]=A[:,i]/la.norm(A[:,i],1)\n",
    "    else:\n",
    "        M[:,i]=np.array([1/len(A)]*len(A))\n",
    "#需要考虑全为0的情况\n",
    "G=0.85*M+0.15/len(A)"
   ]
  },
  {
   "cell_type": "code",
   "execution_count": 22,
   "metadata": {},
   "outputs": [],
   "source": [
    "R=np.array([1]+[0]*(len(A)-1))\n",
    "R1=np.array([0]*len(A))\n",
    "while (R!=R1).any():\n",
    "    R1=R\n",
    "    R=G@R\n",
    "probs=R\n",
    "#Slow"
   ]
  },
  {
   "cell_type": "code",
   "execution_count": 29,
   "metadata": {},
   "outputs": [
    {
     "data": {
      "text/plain": [
       "array([0.15570261, 0.37099902, 0.27812378, 0.19517458])"
      ]
     },
     "execution_count": 29,
     "metadata": {},
     "output_type": "execute_result"
    }
   ],
   "source": [
    "b=0.15/len(A)*np.array([1]*len(A))\n",
    "B=-0.85*M\n",
    "for i in range(len(A)):\n",
    "    B[i,i]=B[i,i]+1\n",
    "probs=la.solve(B,b)\n",
    "#fast"
   ]
  },
  {
   "cell_type": "code",
   "execution_count": 23,
   "metadata": {},
   "outputs": [
    {
     "data": {
      "text/plain": [
       "array([0.15570261, 0.37099902, 0.27812378, 0.19517458])"
      ]
     },
     "execution_count": 23,
     "metadata": {},
     "output_type": "execute_result"
    }
   ],
   "source": [
    "R"
   ]
  },
  {
   "cell_type": "code",
   "execution_count": 10,
   "metadata": {},
   "outputs": [
    {
     "data": {
      "text/plain": [
       "array([0, 3, 2, 1], dtype=int64)"
      ]
     },
     "execution_count": 10,
     "metadata": {},
     "output_type": "execute_result"
    }
   ],
   "source": [
    "np.argsort(probs)"
   ]
  },
  {
   "cell_type": "code",
   "execution_count": 13,
   "metadata": {},
   "outputs": [
    {
     "name": "stdout",
     "output_type": "stream",
     "text": [
      "1\n",
      "2\n",
      "3\n",
      "0\n"
     ]
    }
   ],
   "source": [
    "ranking = []\n",
    "for index in np.argsort(probs)[::-1]:\n",
    "    print(index)\n",
    "    ranking.append(page_names[index])\n",
    "#降序"
   ]
  },
  {
   "cell_type": "code",
   "execution_count": 12,
   "metadata": {
    "scrolled": true
   },
   "outputs": [
    {
     "data": {
      "text/plain": [
       "['Ebay', 'Wikipedia', 'The Guardian', 'Twitter']"
      ]
     },
     "execution_count": 12,
     "metadata": {},
     "output_type": "execute_result"
    }
   ],
   "source": [
    "ranking"
   ]
  },
  {
   "cell_type": "code",
   "execution_count": 38,
   "metadata": {},
   "outputs": [],
   "source": [
    "probs=np.array(sorted(probs,reverse=True))"
   ]
  }
 ],
 "metadata": {
  "kernelspec": {
   "display_name": "Python 3",
   "language": "python",
   "name": "python3"
  },
  "language_info": {
   "codemirror_mode": {
    "name": "ipython",
    "version": 3
   },
   "file_extension": ".py",
   "mimetype": "text/x-python",
   "name": "python",
   "nbconvert_exporter": "python",
   "pygments_lexer": "ipython3",
   "version": "3.8.3"
  }
 },
 "nbformat": 4,
 "nbformat_minor": 4
}
