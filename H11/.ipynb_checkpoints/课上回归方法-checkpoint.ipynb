{
 "cells": [
  {
   "cell_type": "code",
   "execution_count": 1,
   "metadata": {},
   "outputs": [],
   "source": [
    "import numpy as np\n",
    "import numpy.linalg as la"
   ]
  },
  {
   "cell_type": "code",
   "execution_count": null,
   "metadata": {},
   "outputs": [],
   "source": [
    "y=ypts\n",
    "x1=xpts\n",
    "x2=x1**2\n",
    "x3=x1**3\n",
    "x4=x1**4\n",
    "n=len(xpts)\n",
    "r=np.array([1]*n)\n",
    "A=np.vstack((r,x1,x2,x3,x4)).T\n",
    "a=la.solve(A.T@A,A.T@y)"
   ]
  },
  {
   "cell_type": "code",
   "execution_count": null,
   "metadata": {},
   "outputs": [],
   "source": []
  },
  {
   "cell_type": "code",
   "execution_count": 8,
   "metadata": {},
   "outputs": [],
   "source": [
    "b=np.array([-44.7,-5.1,-21.]).T\n",
    "A=np.array([[-5.,4.8,-2.9],[25.,4.8**2,2.9**2]]).T"
   ]
  },
  {
   "cell_type": "code",
   "execution_count": 12,
   "metadata": {},
   "outputs": [],
   "source": [
    "M=A.T@A\n",
    "n=A.T@b"
   ]
  },
  {
   "cell_type": "code",
   "execution_count": 13,
   "metadata": {},
   "outputs": [
    {
     "data": {
      "text/plain": [
       "array([ 3.8982057, -1.0275611])"
      ]
     },
     "execution_count": 13,
     "metadata": {},
     "output_type": "execute_result"
    }
   ],
   "source": [
    "la.solve(M,n)"
   ]
  },
  {
   "cell_type": "code",
   "execution_count": null,
   "metadata": {},
   "outputs": [],
   "source": []
  },
  {
   "cell_type": "code",
   "execution_count": 47,
   "metadata": {},
   "outputs": [],
   "source": [
    "A = np.array([[2.84800, -3.29410, 2.66020, 3.72210], [1.19520, 3.78810, -1.26500, 3.51830], [0.17480, 2.92780, 3.66720, 2.47100], [1.05520, -0.24520, -0.30480, 4.21000]])\n",
    "X = np.array([[-0.35000, 0.21000, 0.18000, -0.90000], [-0.13000, -0.94000, -0.21000, -0.21000], [-0.32000, 0.25000, -0.92000, 0.00000], [-0.87000, -0.03000, 0.29000, 0.39000]])\n",
    "D = np.array([[64,  0,  0,  0], [ 0, 36,  0,  0], [ 0,  0, 16,  0], [ 0,  0,  0,  1]])"
   ]
  },
  {
   "cell_type": "code",
   "execution_count": 49,
   "metadata": {},
   "outputs": [],
   "source": [
    "s=np.array([[8,  0,  0,  0], [ 0, 6,  0,  0], [ 0,  0, 4,  0], [ 0,  0,  0,  1]])"
   ]
  },
  {
   "cell_type": "code",
   "execution_count": 48,
   "metadata": {},
   "outputs": [
    {
     "data": {
      "text/plain": [
       "array([[-4.658058,  4.247921, -0.163574, -0.41982 ],\n",
       "       [-3.566894, -3.731621,  1.603742, -0.499044],\n",
       "       [-3.765068, -1.872754, -3.240608,  0.191532],\n",
       "       [-3.902608,  0.24958 ,  1.742744,  0.743712]])"
      ]
     },
     "execution_count": 48,
     "metadata": {},
     "output_type": "execute_result"
    }
   ],
   "source": [
    "A@X"
   ]
  },
  {
   "cell_type": "code",
   "execution_count": 50,
   "metadata": {},
   "outputs": [
    {
     "data": {
      "text/plain": [
       "array([[0.125     , 0.        , 0.        , 0.        ],\n",
       "       [0.        , 0.16666667, 0.        , 0.        ],\n",
       "       [0.        , 0.        , 0.25      , 0.        ],\n",
       "       [0.        , 0.        , 0.        , 1.        ]])"
      ]
     },
     "execution_count": 50,
     "metadata": {},
     "output_type": "execute_result"
    }
   ],
   "source": [
    "la.inv(s)"
   ]
  },
  {
   "cell_type": "code",
   "execution_count": 51,
   "metadata": {},
   "outputs": [
    {
     "data": {
      "text/plain": [
       "array([[-0.58225725,  0.70798683, -0.0408935 , -0.41982   ],\n",
       "       [-0.44586175, -0.62193683,  0.4009355 , -0.499044  ],\n",
       "       [-0.4706335 , -0.31212567, -0.810152  ,  0.191532  ],\n",
       "       [-0.487826  ,  0.04159667,  0.435686  ,  0.743712  ]])"
      ]
     },
     "execution_count": 51,
     "metadata": {},
     "output_type": "execute_result"
    }
   ],
   "source": [
    "A@X@la.inv(s)"
   ]
  },
  {
   "cell_type": "code",
   "execution_count": null,
   "metadata": {},
   "outputs": [],
   "source": []
  },
  {
   "cell_type": "code",
   "execution_count": 52,
   "metadata": {},
   "outputs": [
    {
     "data": {
      "text/plain": [
       "(array([[ 0.58427622,  0.70663243,  0.02637642,  0.39824137],\n",
       "        [ 0.44511317, -0.63124347, -0.39982378,  0.4935047 ],\n",
       "        [ 0.47099416, -0.31762938,  0.80290766, -0.18059725],\n",
       "        [ 0.48852847,  0.03624729, -0.44134399, -0.75182548]]),\n",
       " array([7.99435374, 5.9880684 , 4.00277551, 1.00410512]),\n",
       " array([[ 0.34947703,  0.12767241,  0.32142057,  0.87077803],\n",
       "        [ 0.2072043 , -0.94484131,  0.25090695, -0.03724213],\n",
       "        [-0.1819006 ,  0.21422924,  0.91308849, -0.29544442],\n",
       "        [ 0.89545763,  0.21232164,  0.00198026, -0.3912432 ]]))"
      ]
     },
     "execution_count": 52,
     "metadata": {},
     "output_type": "execute_result"
    }
   ],
   "source": [
    "la.svd(A)"
   ]
  },
  {
   "cell_type": "code",
   "execution_count": 62,
   "metadata": {},
   "outputs": [],
   "source": [
    "V=X\n",
    "Sigma=[]\n",
    "for i in [64,36,16,1]:\n",
    "    Sigma.append(i**0.5)\n",
    "Sigma=np.array(Sigma)\n",
    "U=A@V@la.inv(np.diag(Sigma))"
   ]
  },
  {
   "cell_type": "code",
   "execution_count": 63,
   "metadata": {},
   "outputs": [
    {
     "data": {
      "text/plain": [
       "array([[-0.58225725,  0.70798683, -0.0408935 , -0.41982   ],\n",
       "       [-0.44586175, -0.62193683,  0.4009355 , -0.499044  ],\n",
       "       [-0.4706335 , -0.31212567, -0.810152  ,  0.191532  ],\n",
       "       [-0.487826  ,  0.04159667,  0.435686  ,  0.743712  ]])"
      ]
     },
     "execution_count": 63,
     "metadata": {},
     "output_type": "execute_result"
    }
   ],
   "source": [
    "U"
   ]
  },
  {
   "cell_type": "code",
   "execution_count": null,
   "metadata": {},
   "outputs": [],
   "source": []
  }
 ],
 "metadata": {
  "kernelspec": {
   "display_name": "Python 3",
   "language": "python",
   "name": "python3"
  },
  "language_info": {
   "codemirror_mode": {
    "name": "ipython",
    "version": 3
   },
   "file_extension": ".py",
   "mimetype": "text/x-python",
   "name": "python",
   "nbconvert_exporter": "python",
   "pygments_lexer": "ipython3",
   "version": "3.8.3"
  }
 },
 "nbformat": 4,
 "nbformat_minor": 4
}
