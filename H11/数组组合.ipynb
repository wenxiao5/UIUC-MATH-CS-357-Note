{
 "cells": [
  {
   "cell_type": "code",
   "execution_count": 1,
   "metadata": {},
   "outputs": [],
   "source": [
    "import numpy as np\n",
    "import numpy.linalg as la"
   ]
  },
  {
   "cell_type": "code",
   "execution_count": 2,
   "metadata": {},
   "outputs": [],
   "source": [
    "t=np.array([2.84800, -3.29410, 2.66020, 3.72210])"
   ]
  },
  {
   "cell_type": "code",
   "execution_count": 17,
   "metadata": {
    "scrolled": true
   },
   "outputs": [
    {
     "data": {
      "text/plain": [
       "array([[ 8.111104  ,  2.848     ],\n",
       "       [10.85109481, -3.2941    ],\n",
       "       [ 7.07666404,  2.6602    ],\n",
       "       [13.85402841,  3.7221    ]])"
      ]
     },
     "execution_count": 17,
     "metadata": {},
     "output_type": "execute_result"
    }
   ],
   "source": [
    "np.hstack(((t**2).reshape(4,1),t.reshape(4,1)))"
   ]
  },
  {
   "cell_type": "code",
   "execution_count": 2,
   "metadata": {},
   "outputs": [],
   "source": [
    "A = np.array([[2.84800, -3.29410, 2.66020, 3.72210], [1.19520, 3.78810, -1.26500, 3.51830], [0.17480, 2.92780, 3.66720, 2.47100], [1.05520, -0.24520, -0.30480, 4.21000]])\n",
    "X = np.array([[-0.35000, 0.21000, 0.18000, -0.90000], [-0.13000, -0.94000, -0.21000, -0.21000], [-0.32000, 0.25000, -0.92000, 0.00000], [-0.87000, -0.03000, 0.29000, 0.39000]])\n",
    "D = np.array([[64,  0,  0,  0], [ 0, 36,  0,  0], [ 0,  0, 16,  0], [ 0,  0,  0,  1]])"
   ]
  },
  {
   "cell_type": "code",
   "execution_count": 5,
   "metadata": {},
   "outputs": [
    {
     "data": {
      "text/plain": [
       "array([[ 2.848 , -3.2941,  2.6602,  3.7221, -0.35  ,  0.21  ,  0.18  ,\n",
       "        -0.9   ],\n",
       "       [ 1.1952,  3.7881, -1.265 ,  3.5183, -0.13  , -0.94  , -0.21  ,\n",
       "        -0.21  ],\n",
       "       [ 0.1748,  2.9278,  3.6672,  2.471 , -0.32  ,  0.25  , -0.92  ,\n",
       "         0.    ],\n",
       "       [ 1.0552, -0.2452, -0.3048,  4.21  , -0.87  , -0.03  ,  0.29  ,\n",
       "         0.39  ]])"
      ]
     },
     "execution_count": 5,
     "metadata": {},
     "output_type": "execute_result"
    }
   ],
   "source": [
    "#水平组合\n",
    "np.hstack((A,X))"
   ]
  },
  {
   "cell_type": "code",
   "execution_count": 6,
   "metadata": {},
   "outputs": [
    {
     "data": {
      "text/plain": [
       "array([[ 2.848 , -3.2941,  2.6602,  3.7221, -0.35  ,  0.21  ,  0.18  ,\n",
       "        -0.9   ],\n",
       "       [ 1.1952,  3.7881, -1.265 ,  3.5183, -0.13  , -0.94  , -0.21  ,\n",
       "        -0.21  ],\n",
       "       [ 0.1748,  2.9278,  3.6672,  2.471 , -0.32  ,  0.25  , -0.92  ,\n",
       "         0.    ],\n",
       "       [ 1.0552, -0.2452, -0.3048,  4.21  , -0.87  , -0.03  ,  0.29  ,\n",
       "         0.39  ]])"
      ]
     },
     "execution_count": 6,
     "metadata": {},
     "output_type": "execute_result"
    }
   ],
   "source": [
    "np.concatenate((A,X),axis=1)"
   ]
  },
  {
   "cell_type": "code",
   "execution_count": 7,
   "metadata": {},
   "outputs": [
    {
     "data": {
      "text/plain": [
       "array([[ 2.848 , -3.2941,  2.6602,  3.7221],\n",
       "       [ 1.1952,  3.7881, -1.265 ,  3.5183],\n",
       "       [ 0.1748,  2.9278,  3.6672,  2.471 ],\n",
       "       [ 1.0552, -0.2452, -0.3048,  4.21  ],\n",
       "       [-0.35  ,  0.21  ,  0.18  , -0.9   ],\n",
       "       [-0.13  , -0.94  , -0.21  , -0.21  ],\n",
       "       [-0.32  ,  0.25  , -0.92  ,  0.    ],\n",
       "       [-0.87  , -0.03  ,  0.29  ,  0.39  ]])"
      ]
     },
     "execution_count": 7,
     "metadata": {},
     "output_type": "execute_result"
    }
   ],
   "source": [
    "#垂直组合\n",
    "np.vstack((A,X))"
   ]
  },
  {
   "cell_type": "code",
   "execution_count": 8,
   "metadata": {},
   "outputs": [
    {
     "data": {
      "text/plain": [
       "array([[ 2.848 , -3.2941,  2.6602,  3.7221],\n",
       "       [ 1.1952,  3.7881, -1.265 ,  3.5183],\n",
       "       [ 0.1748,  2.9278,  3.6672,  2.471 ],\n",
       "       [ 1.0552, -0.2452, -0.3048,  4.21  ],\n",
       "       [-0.35  ,  0.21  ,  0.18  , -0.9   ],\n",
       "       [-0.13  , -0.94  , -0.21  , -0.21  ],\n",
       "       [-0.32  ,  0.25  , -0.92  ,  0.    ],\n",
       "       [-0.87  , -0.03  ,  0.29  ,  0.39  ]])"
      ]
     },
     "execution_count": 8,
     "metadata": {},
     "output_type": "execute_result"
    }
   ],
   "source": [
    "np.concatenate((A,X),axis=0)"
   ]
  },
  {
   "cell_type": "code",
   "execution_count": null,
   "metadata": {},
   "outputs": [],
   "source": []
  },
  {
   "cell_type": "code",
   "execution_count": null,
   "metadata": {},
   "outputs": [],
   "source": []
  },
  {
   "cell_type": "code",
   "execution_count": null,
   "metadata": {},
   "outputs": [],
   "source": []
  },
  {
   "cell_type": "code",
   "execution_count": null,
   "metadata": {},
   "outputs": [],
   "source": []
  },
  {
   "cell_type": "code",
   "execution_count": null,
   "metadata": {},
   "outputs": [],
   "source": []
  },
  {
   "cell_type": "code",
   "execution_count": null,
   "metadata": {},
   "outputs": [],
   "source": []
  }
 ],
 "metadata": {
  "kernelspec": {
   "display_name": "Python 3",
   "language": "python",
   "name": "python3"
  },
  "language_info": {
   "codemirror_mode": {
    "name": "ipython",
    "version": 3
   },
   "file_extension": ".py",
   "mimetype": "text/x-python",
   "name": "python",
   "nbconvert_exporter": "python",
   "pygments_lexer": "ipython3",
   "version": "3.8.3"
  }
 },
 "nbformat": 4,
 "nbformat_minor": 4
}
