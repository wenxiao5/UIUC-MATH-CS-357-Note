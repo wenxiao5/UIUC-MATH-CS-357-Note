{
 "cells": [
  {
   "cell_type": "code",
   "execution_count": 2,
   "metadata": {},
   "outputs": [],
   "source": [
    "import numpy as np\n",
    "import sympy as sp\n",
    "import numpy.linalg as la"
   ]
  },
  {
   "cell_type": "code",
   "execution_count": 25,
   "metadata": {},
   "outputs": [],
   "source": [
    "tau=(5**0.5-1)/2"
   ]
  },
  {
   "cell_type": "code",
   "execution_count": 26,
   "metadata": {
    "scrolled": true
   },
   "outputs": [
    {
     "data": {
      "text/plain": [
       "0.6180339887498949"
      ]
     },
     "execution_count": 26,
     "metadata": {},
     "output_type": "execute_result"
    }
   ],
   "source": [
    "tau"
   ]
  },
  {
   "cell_type": "markdown",
   "metadata": {},
   "source": [
    "### Golden Section Search Method"
   ]
  },
  {
   "cell_type": "markdown",
   "metadata": {},
   "source": [
    "#### function f(x)"
   ]
  },
  {
   "cell_type": "code",
   "execution_count": 27,
   "metadata": {},
   "outputs": [],
   "source": [
    "def f_G(x):\n",
    "    return (x-7.2)**2"
   ]
  },
  {
   "cell_type": "markdown",
   "metadata": {},
   "source": [
    "#### 循环n次"
   ]
  },
  {
   "cell_type": "code",
   "execution_count": 21,
   "metadata": {},
   "outputs": [],
   "source": [
    "def Golden_n(a,b,n):\n",
    "    if a>=b:\n",
    "        return 'wrong'\n",
    "    h=b-a\n",
    "    x1=a+(1-tau)*h\n",
    "    x2=a+tau*h\n",
    "    f1=f_G(x1)\n",
    "    f2=f_G(x2)\n",
    "    for i in range(n):\n",
    "        if f1<f2:\n",
    "            b=x2\n",
    "            x2=x1\n",
    "            h=b-a\n",
    "            x1=a+(1-tau)*h\n",
    "            f2=f1\n",
    "            f1=f_G(x1)\n",
    "        else:\n",
    "            a=x1\n",
    "            x1=x2\n",
    "            h=b-a\n",
    "            x2=a+tau*h\n",
    "            f1=f2\n",
    "            f2=f_G(x2)\n",
    "    return a,b,h"
   ]
  },
  {
   "cell_type": "code",
   "execution_count": 22,
   "metadata": {},
   "outputs": [
    {
     "data": {
      "text/plain": [
       "(2.583592135001261, 10, 7.416407864998739)"
      ]
     },
     "execution_count": 22,
     "metadata": {},
     "output_type": "execute_result"
    }
   ],
   "source": [
    "Golden_n(-2,10,1)"
   ]
  },
  {
   "cell_type": "markdown",
   "metadata": {},
   "source": [
    "#### 控制区间长度"
   ]
  },
  {
   "cell_type": "code",
   "execution_count": 28,
   "metadata": {},
   "outputs": [],
   "source": [
    "def Golden_n(a,b,tol):\n",
    "    if a>=b:\n",
    "        return 'wrong'\n",
    "    h=b-a\n",
    "    x1=a+(1-tau)*h\n",
    "    x2=a+tau*h\n",
    "    f1=f_G(x1)\n",
    "    f2=f_G(x2)\n",
    "    while b-a>tol:\n",
    "        if f1<f2:\n",
    "            b=x2\n",
    "            x2=x1\n",
    "            h=b-a\n",
    "            x1=a+(1-tau)*h\n",
    "            f2=f1\n",
    "            f1=f_G(x1)\n",
    "        else:\n",
    "            a=x1\n",
    "            x1=x2\n",
    "            h=b-a\n",
    "            x2=a+tau*h\n",
    "            f1=f2\n",
    "            f2=f_G(x2)\n",
    "    return a,b,h"
   ]
  },
  {
   "cell_type": "code",
   "execution_count": 29,
   "metadata": {},
   "outputs": [
    {
     "data": {
      "text/plain": [
       "(7.199995016315011, 7.20000146620101, 6.4498859986272805e-06)"
      ]
     },
     "execution_count": 29,
     "metadata": {},
     "output_type": "execute_result"
    }
   ],
   "source": [
    "Golden_n(-2,10,1e-5)"
   ]
  },
  {
   "cell_type": "markdown",
   "metadata": {},
   "source": [
    "### Newton's Method"
   ]
  },
  {
   "cell_type": "markdown",
   "metadata": {},
   "source": [
    "#### function f(x) f'(x) f''(x)"
   ]
  },
  {
   "cell_type": "code",
   "execution_count": 14,
   "metadata": {},
   "outputs": [],
   "source": [
    "def f_N(x):\n",
    "    return x**2+24*x-3\n",
    "def df_N(x):\n",
    "    return 2*x+24\n",
    "def ddf_N(x):\n",
    "    return 2"
   ]
  },
  {
   "cell_type": "code",
   "execution_count": 16,
   "metadata": {},
   "outputs": [],
   "source": [
    "def Newton(x0):\n",
    "    i=0\n",
    "    x=x0\n",
    "    df=df_N(x)\n",
    "    ddf=ddf_N(x)\n",
    "    while df!=0:\n",
    "        i+=1\n",
    "        x=x-df/ddf\n",
    "        df=df_N(x)\n",
    "        ddf=ddf_N(x)\n",
    "    return x,i"
   ]
  },
  {
   "cell_type": "code",
   "execution_count": 17,
   "metadata": {},
   "outputs": [
    {
     "data": {
      "text/plain": [
       "(-12.0, 1)"
      ]
     },
     "execution_count": 17,
     "metadata": {},
     "output_type": "execute_result"
    }
   ],
   "source": [
    "Newton(0)"
   ]
  },
  {
   "cell_type": "markdown",
   "metadata": {},
   "source": [
    "### ND Newton's Method"
   ]
  },
  {
   "cell_type": "code",
   "execution_count": 7,
   "metadata": {},
   "outputs": [],
   "source": [
    "x=sp.var('x')\n",
    "y=sp.var('y')\n",
    "f=4*x**2+2*x*y+4*y**2+8*sp.exp(3*x*y)+2*sp.sin(y)**2+2*sp.cos(x*y)"
   ]
  },
  {
   "cell_type": "code",
   "execution_count": 8,
   "metadata": {},
   "outputs": [
    {
     "data": {
      "text/latex": [
       "$\\displaystyle 4 x^{2} + 2 x y + 4 y^{2} + 8 e^{3 x y} + 2 \\sin^{2}{\\left(y \\right)} + 2 \\cos{\\left(x y \\right)}$"
      ],
      "text/plain": [
       "4*x**2 + 2*x*y + 4*y**2 + 8*exp(3*x*y) + 2*sin(y)**2 + 2*cos(x*y)"
      ]
     },
     "execution_count": 8,
     "metadata": {},
     "output_type": "execute_result"
    }
   ],
   "source": [
    "f"
   ]
  },
  {
   "cell_type": "code",
   "execution_count": 19,
   "metadata": {},
   "outputs": [
    {
     "data": {
      "text/latex": [
       "$\\displaystyle - 4 \\sin^{2}{\\left(1 \\right)} + 4 \\cos^{2}{\\left(1 \\right)} + 8$"
      ],
      "text/plain": [
       "-4*sin(1)**2 + 4*cos(1)**2 + 8"
      ]
     },
     "execution_count": 19,
     "metadata": {},
     "output_type": "execute_result"
    }
   ],
   "source": [
    "f.diff(y).diff(y).subs(x,0).subs(y,1)"
   ]
  },
  {
   "cell_type": "code",
   "execution_count": 20,
   "metadata": {},
   "outputs": [
    {
     "data": {
      "text/plain": [
       "6.335412653811431"
      ]
     },
     "execution_count": 20,
     "metadata": {},
     "output_type": "execute_result"
    }
   ],
   "source": [
    "float(f.diff(y).diff(y).subs(x,0).subs(y,1))"
   ]
  },
  {
   "cell_type": "code",
   "execution_count": 22,
   "metadata": {},
   "outputs": [],
   "source": [
    "H=np.array([[78,26],[26,6.335412653811431]])\n",
    "df=np.array([26,9.818594853651364])"
   ]
  },
  {
   "cell_type": "code",
   "execution_count": 23,
   "metadata": {},
   "outputs": [],
   "source": [
    "s=la.solve(H,-df)"
   ]
  },
  {
   "cell_type": "code",
   "execution_count": 24,
   "metadata": {},
   "outputs": [
    {
     "data": {
      "text/plain": [
       "array([-0.49804128,  0.49412384])"
      ]
     },
     "execution_count": 24,
     "metadata": {},
     "output_type": "execute_result"
    }
   ],
   "source": [
    "s"
   ]
  },
  {
   "cell_type": "code",
   "execution_count": 38,
   "metadata": {},
   "outputs": [],
   "source": [
    "def f_NDN(X):\n",
    "    x=X[0]\n",
    "    y=X[1]\n",
    "    return 17*x**2-5*x+7+23*y**2-x*y\n",
    "def df_x_NDN(X):\n",
    "    x=X[0]\n",
    "    y=X[1]\n",
    "    return 34*x-5-y\n",
    "def df_y_NDN(X):\n",
    "    x=X[0]\n",
    "    y=X[1]\n",
    "    return 46*y-x\n",
    "def ddf_xx_NDN(X):\n",
    "    x=X[0]\n",
    "    y=X[1]\n",
    "    return 34\n",
    "def ddf_xy_NDN(X):\n",
    "    x=X[0]\n",
    "    y=X[1]\n",
    "    return -1\n",
    "def ddf_yy_NDN(X):\n",
    "    x=X[0]\n",
    "    y=X[1]\n",
    "    return 46\n",
    "def H(X):\n",
    "    return np.array([[ddf_xx_NDN(X),ddf_xy_NDN(X)],[ddf_xy_NDN(X),ddf_yy_NDN(X)]])\n",
    "def gf(X):\n",
    "    return np.array([df_x_NDN(X),df_y_NDN(X)])"
   ]
  },
  {
   "cell_type": "code",
   "execution_count": 44,
   "metadata": {},
   "outputs": [],
   "source": [
    "X_opt=np.array([230/1563,5/1563])\n",
    "optv=f_NDN(X_opt)"
   ]
  },
  {
   "cell_type": "code",
   "execution_count": 105,
   "metadata": {},
   "outputs": [],
   "source": [
    "n=[r_init]\n",
    "def ND_Newton(X,tol):\n",
    "    i=0\n",
    "    step=np.array([1,1])\n",
    "    while la.normgf(X),2)>tol:\n",
    "        step=la.solve(H(X),gf(X))\n",
    "        X=X+step\n",
    "        n.append(X)\n",
    "        i+=1\n",
    "    return X,i"
   ]
  },
  {
   "cell_type": "code",
   "execution_count": 106,
   "metadata": {},
   "outputs": [
    {
     "data": {
      "text/plain": [
       "array([1.30555181, 1.32295445, 1.3236364 , 1.32363666])"
      ]
     },
     "execution_count": 106,
     "metadata": {},
     "output_type": "execute_result"
    }
   ],
   "source": [
    "r,num=ND_Newton(r_init,stop)\n",
    "n=np.array(n)\n",
    "n=n-r*(num+1)\n",
    "y_n=[]\n",
    "for i in n:\n",
    "    y_n.append(np.log(la.norm(i,2)))\n",
    "y_n=np.array(y_n)\n",
    "y_n"
   ]
  },
  {
   "cell_type": "markdown",
   "metadata": {},
   "source": [
    "### Steepest descent method"
   ]
  },
  {
   "cell_type": "markdown",
   "metadata": {},
   "source": [
    "#### Use  scipy.optimize.minimize_scalar() "
   ]
  },
  {
   "cell_type": "code",
   "execution_count": 30,
   "metadata": {},
   "outputs": [],
   "source": [
    "from scipy.optimize import minimize_scalar"
   ]
  },
  {
   "cell_type": "code",
   "execution_count": 93,
   "metadata": {},
   "outputs": [],
   "source": [
    "def f(r):\n",
    "    x, y = r\n",
    "    return 3 +((x**2)/8) + ((y**2)/8) - np.sin(x)*np.cos((2**-0.5)*y)\n",
    "def gf(r):\n",
    "    x,y=r\n",
    "    return np.array([x/4-np.cos(x)*np.cos((2**-0.5)*y),y/4+(2**-0.5)*np.sin(x)*np.sin((2**-0.5)*y)])\n",
    "def H(r):\n",
    "    x,y=r\n",
    "    return np.array([[1./4+np.sin(x)*np.cos((2**-0.5)*y),(2**-0.5)*np.cos(x)*np.sin((2**-0.5)*y)],[(2**-0.5)*np.cos(x)*np.sin((2**-0.5)*y),1./4+(2**-1)*np.sin(x)*np.cos((2**-0.5)*y)]])"
   ]
  },
  {
   "cell_type": "code",
   "execution_count": 75,
   "metadata": {},
   "outputs": [],
   "source": [
    "r_init=np.array([1.32745344,0.23925211])\n",
    "stop=1e-06"
   ]
  },
  {
   "cell_type": "code",
   "execution_count": 91,
   "metadata": {},
   "outputs": [],
   "source": [
    "def Steepest(x0,tol):\n",
    "    i=0\n",
    "    step=np.array([1,1])\n",
    "    while la.norm(gf(x0),2)>tol:\n",
    "        gra=gf(x0)\n",
    "        def alphaf(a):\n",
    "            return f(x0-a*gra)\n",
    "        alpha=minimize_scalar(alphaf)\n",
    "        step=alpha.x*gra\n",
    "        x0=x0-step\n",
    "        i+=1\n",
    "    return f(x0),i"
   ]
  },
  {
   "cell_type": "code",
   "execution_count": 89,
   "metadata": {},
   "outputs": [
    {
     "data": {
      "text/plain": [
       "     fun: 2.2474853432601027\n",
       "    nfev: 17\n",
       "     nit: 13\n",
       " success: True\n",
       "       x: 1.180039652076722"
      ]
     },
     "execution_count": 89,
     "metadata": {},
     "output_type": "execute_result"
    }
   ],
   "source": [
    "x0=r_init\n",
    "gra=gf(x0)\n",
    "def alphaf(a):\n",
    "    return f(x0-a*gra)\n",
    "alpha=minimize_scalar(alphaf)\n",
    "alpha"
   ]
  },
  {
   "cell_type": "code",
   "execution_count": 92,
   "metadata": {},
   "outputs": [
    {
     "data": {
      "text/plain": [
       "(2.246324559463954, 8)"
      ]
     },
     "execution_count": 92,
     "metadata": {},
     "output_type": "execute_result"
    }
   ],
   "source": [
    "Steepest(r_init,stop)"
   ]
  },
  {
   "cell_type": "code",
   "execution_count": 111,
   "metadata": {},
   "outputs": [],
   "source": [
    "f=(x**2-5*x+6)/(x**2+1)"
   ]
  },
  {
   "cell_type": "code",
   "execution_count": null,
   "metadata": {},
   "outputs": [],
   "source": [
    "-2*x*(x**2-5*x+6)/(x**2+1)**2+(2*x-5)/(x**2+1)"
   ]
  },
  {
   "cell_type": "code",
   "execution_count": 115,
   "metadata": {},
   "outputs": [
    {
     "data": {
      "text/latex": [
       "$\\displaystyle \\frac{8 x^{2} \\left(x^{2} - 5 x + 6\\right)}{\\left(x^{2} + 1\\right)^{3}} - \\frac{4 x \\left(2 x - 5\\right)}{\\left(x^{2} + 1\\right)^{2}} + \\frac{2}{x^{2} + 1} - \\frac{2 \\left(x^{2} - 5 x + 6\\right)}{\\left(x^{2} + 1\\right)^{2}}$"
      ],
      "text/plain": [
       "8*x**2*(x**2 - 5*x + 6)/(x**2 + 1)**3 - 4*x*(2*x - 5)/(x**2 + 1)**2 + 2/(x**2 + 1) - 2*(x**2 - 5*x + 6)/(x**2 + 1)**2"
      ]
     },
     "execution_count": 115,
     "metadata": {},
     "output_type": "execute_result"
    }
   ],
   "source": [
    "f.diff(x).diff(x)"
   ]
  }
 ],
 "metadata": {
  "kernelspec": {
   "display_name": "Python 3",
   "language": "python",
   "name": "python3"
  },
  "language_info": {
   "codemirror_mode": {
    "name": "ipython",
    "version": 3
   },
   "file_extension": ".py",
   "mimetype": "text/x-python",
   "name": "python",
   "nbconvert_exporter": "python",
   "pygments_lexer": "ipython3",
   "version": "3.8.3"
  }
 },
 "nbformat": 4,
 "nbformat_minor": 4
}
