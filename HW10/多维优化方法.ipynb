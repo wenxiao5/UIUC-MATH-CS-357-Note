{
 "cells": [
  {
   "cell_type": "code",
   "execution_count": 2,
   "metadata": {},
   "outputs": [],
   "source": [
    "import numpy as np\n",
    "import numpy.linalg as la\n",
    "from scipy.optimize import minimize_scalar\n",
    "import matplotlib.pyplot as plt"
   ]
  },
  {
   "cell_type": "code",
   "execution_count": 3,
   "metadata": {},
   "outputs": [],
   "source": [
    "r_init=np.array([1.32745344,0.23925211])\n",
    "stop=1e-06"
   ]
  },
  {
   "cell_type": "code",
   "execution_count": 4,
   "metadata": {},
   "outputs": [],
   "source": [
    "def f(r):\n",
    "    x, y = r\n",
    "    return 3 +((x**2)/8) + ((y**2)/8) - np.sin(x)*np.cos((2**-0.5)*y)\n",
    "def gf(r):\n",
    "    x,y=r\n",
    "    return np.array([x/4-np.cos(x)*np.cos((2**-0.5)*y),y/4+(2**-0.5)*np.sin(x)*np.sin((2**-0.5)*y)])\n",
    "def H(r):\n",
    "    x,y=r\n",
    "    return np.array([[1./4+np.sin(x)*np.cos((2**-0.5)*y),(2**-0.5)*np.cos(x)*np.sin((2**-0.5)*y)],[(2**-0.5)*np.cos(x)*np.sin((2**-0.5)*y),1./4+(2**-1)*np.sin(x)*np.cos((2**-0.5)*y)]])"
   ]
  },
  {
   "cell_type": "code",
   "execution_count": 24,
   "metadata": {},
   "outputs": [
    {
     "name": "stderr",
     "output_type": "stream",
     "text": [
      "<ipython-input-24-2a02487f2bc1>:16: RuntimeWarning: divide by zero encountered in log\n",
      "  y_n.append(np.log(la.norm(i,2)))\n"
     ]
    }
   ],
   "source": [
    "n=[r_init]\n",
    "def ND_Newton(X,tol):\n",
    "    i=0\n",
    "    step=np.array([1,1])\n",
    "    while la.norm(gf(X),2)>tol:\n",
    "        step=la.solve(H(X),-gf(X))\n",
    "        X=X+step\n",
    "        i+=1\n",
    "        n.append(X)\n",
    "    return X,i\n",
    "r_newton,iteration_count_newton=ND_Newton(r_init,stop)\n",
    "n=np.array(n)\n",
    "n=n-r_newton\n",
    "y_n=[]\n",
    "for i in n:\n",
    "    y_n.append(np.log(la.norm(i,2)))\n",
    "y_n=np.array(y_n)"
   ]
  },
  {
   "cell_type": "code",
   "execution_count": 26,
   "metadata": {},
   "outputs": [
    {
     "name": "stderr",
     "output_type": "stream",
     "text": [
      "<ipython-input-26-7fc40a8d38d4>:20: RuntimeWarning: divide by zero encountered in log\n",
      "  y_s.append(np.log(la.norm(i,2)))\n"
     ]
    }
   ],
   "source": [
    "s=[r_init]\n",
    "def Steepest(x0,tol):\n",
    "    i=0\n",
    "    step=np.array([1,1])\n",
    "    while la.norm(gf(x0),2)>tol:\n",
    "        gra=gf(x0)\n",
    "        def alphaf(a):\n",
    "            return f(x0-a*gra)\n",
    "        alpha=minimize_scalar(alphaf)\n",
    "        step=alpha.x*gra\n",
    "        x0=x0-step\n",
    "        s.append(x0)\n",
    "        i+=1\n",
    "    return x0,i\n",
    "r_sd,iteration_count_sd=Steepest(r_init,stop)\n",
    "s=np.array(s)\n",
    "s=s-r_sd\n",
    "y_s=[]\n",
    "for i in s:\n",
    "    y_s.append(np.log(la.norm(i,2)))\n",
    "y_s=np.array(y_s)"
   ]
  },
  {
   "cell_type": "code",
   "execution_count": 34,
   "metadata": {},
   "outputs": [
    {
     "data": {
      "image/png": "[encoded data removed]",
      "text/plain": [
       "<Figure size 432x288 with 1 Axes>"
      ]
     },
     "metadata": {
      "needs_background": "light"
     },
     "output_type": "display_data"
    }
   ],
   "source": [
    "plt.plot(np.array(range(iteration_count_newton+1)),y_n)\n",
    "plt.plot(np.array(range(iteration_count_sd+1)),y_s)\n",
    "plt.xlabel('times')\n",
    "plt.ylabel('log error')\n",
    "plt.legend('ns')\n",
    "plt.title('n vs s')\n",
    "plt.show()"
   ]
  },
  {
   "cell_type": "code",
   "execution_count": null,
   "metadata": {},
   "outputs": [],
   "source": []
  },
  {
   "cell_type": "code",
   "execution_count": null,
   "metadata": {},
   "outputs": [],
   "source": []
  },
  {
   "cell_type": "code",
   "execution_count": null,
   "metadata": {},
   "outputs": [],
   "source": []
  },
  {
   "cell_type": "code",
   "execution_count": null,
   "metadata": {},
   "outputs": [],
   "source": []
  },
  {
   "cell_type": "code",
   "execution_count": null,
   "metadata": {},
   "outputs": [],
   "source": []
  }
 ],
 "metadata": {
  "kernelspec": {
   "display_name": "Python 3",
   "language": "python",
   "name": "python3"
  },
  "language_info": {
   "codemirror_mode": {
    "name": "ipython",
    "version": 3
   },
   "file_extension": ".py",
   "mimetype": "text/x-python",
   "name": "python",
   "nbconvert_exporter": "python",
   "pygments_lexer": "ipython3",
   "version": "3.8.3"
  }
 },
 "nbformat": 4,
 "nbformat_minor": 4
}
