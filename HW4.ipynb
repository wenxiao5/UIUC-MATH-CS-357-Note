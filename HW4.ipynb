{
 "cells": [
  {
   "cell_type": "code",
   "execution_count": 1,
   "metadata": {},
   "outputs": [],
   "source": [
    "import numpy as np\n",
    "from math import factorial"
   ]
  },
  {
   "cell_type": "code",
   "execution_count": 2,
   "metadata": {},
   "outputs": [],
   "source": [
    "import sympy as sp"
   ]
  },
  {
   "cell_type": "code",
   "execution_count": 13,
   "metadata": {},
   "outputs": [],
   "source": [
    "import math"
   ]
  },
  {
   "cell_type": "code",
   "execution_count": 3,
   "metadata": {},
   "outputs": [
    {
     "data": {
      "text/latex": [
       "$\\displaystyle x$"
      ],
      "text/plain": [
       "x"
      ]
     },
     "execution_count": 3,
     "metadata": {},
     "output_type": "execute_result"
    }
   ],
   "source": [
    "x=sp.var('x')\n",
    "x"
   ]
  },
  {
   "cell_type": "code",
   "execution_count": 4,
   "metadata": {},
   "outputs": [],
   "source": [
    "y=sp.sin(x)"
   ]
  },
  {
   "cell_type": "code",
   "execution_count": 5,
   "metadata": {},
   "outputs": [
    {
     "data": {
      "text/latex": [
       "$\\displaystyle \\sin{\\left(x \\right)}$"
      ],
      "text/plain": [
       "sin(x)"
      ]
     },
     "execution_count": 5,
     "metadata": {},
     "output_type": "execute_result"
    }
   ],
   "source": [
    "y"
   ]
  },
  {
   "cell_type": "code",
   "execution_count": 15,
   "metadata": {},
   "outputs": [
    {
     "data": {
      "text/plain": [
       "0.7853981633974483"
      ]
     },
     "execution_count": 15,
     "metadata": {},
     "output_type": "execute_result"
    }
   ],
   "source": [
    "np.pi/4"
   ]
  },
  {
   "cell_type": "code",
   "execution_count": 11,
   "metadata": {},
   "outputs": [
    {
     "name": "stdout",
     "output_type": "stream",
     "text": [
      "0.00214889148774176\n"
     ]
    }
   ],
   "source": [
    "import numpy as np\n",
    "from math import factorial\n",
    "import sympy as sp\n",
    "import math\n",
    "x=sp.var('x')\n",
    "y=sp.sin(x)\n",
    "x0=0\n",
    "x1=0.7\n",
    "real=y.subs(x,x1)\n",
    "ap=0\n",
    "for i in range(4):\n",
    "    ap+=y.diff(x,i).subs(x,x0)/factorial(i)*(x1-x0)**i\n",
    "print(abs((real-ap)/real))"
   ]
  },
  {
   "cell_type": "code",
   "execution_count": 36,
   "metadata": {},
   "outputs": [
    {
     "name": "stdout",
     "output_type": "stream",
     "text": [
      "-5/6 + sin(1) 3\n"
     ]
    }
   ],
   "source": [
    "x0=0\n",
    "x1=1\n",
    "real=y.subs(x,x1)\n",
    "ap=0\n",
    "e=0.01\n",
    "i=0\n",
    "while abs(real-ap)>=e:\n",
    "    ap+=y.diff(x,i).subs(x,x0)/factorial(i)*(x1-x0)**i\n",
    "    i+=1\n",
    "print(abs(real-ap),i-1)"
   ]
  },
  {
   "cell_type": "code",
   "execution_count": 34,
   "metadata": {},
   "outputs": [
    {
     "data": {
      "text/plain": [
       "0.8414709848078965"
      ]
     },
     "execution_count": 34,
     "metadata": {},
     "output_type": "execute_result"
    }
   ],
   "source": [
    "math.sin(1)"
   ]
  },
  {
   "cell_type": "code",
   "execution_count": 42,
   "metadata": {},
   "outputs": [],
   "source": [
    "x=1\n",
    "desired_rel_error=0.001"
   ]
  },
  {
   "cell_type": "code",
   "execution_count": 72,
   "metadata": {},
   "outputs": [
    {
     "data": {
      "text/plain": [
       "[<matplotlib.lines.Line2D at 0x20ce71ef400>]"
      ]
     },
     "execution_count": 72,
     "metadata": {},
     "output_type": "execute_result"
    },
    {
     "data": {
      "image/png": "[encoded data removed]",
      "text/plain": [
       "<Figure size 432x288 with 1 Axes>"
      ]
     },
     "metadata": {
      "needs_background": "light"
     },
     "output_type": "display_data"
    }
   ],
   "source": [
    "import numpy as np\n",
    "import matplotlib.pyplot as plt\n",
    "import math\n",
    "\n",
    "exp_approx = np.zeros(10)\n",
    "abs_error = np.zeros(10)\n",
    "rel_error = np.zeros(10)\n",
    "N_cutoff = 0\n",
    "\n",
    "r=0\n",
    "for i in range(10):\n",
    "    r+=x**i/math.factorial(i)\n",
    "    exp_approx[i]=r\n",
    "    \n",
    "abs_error=np.abs(exp_approx-np.exp(x))\n",
    "rel_error=abs_error/np.exp(x)\n",
    "N_cutoff=10-len(rel_error[rel_error<=desired_rel_error])\n",
    "\n",
    "# Save plot for grading\n",
    "plot = plt.gca()#change plot into Axes\n",
    "plot.set_xlabel('N')#用Axes的语法\n",
    "plot.set_ylabel('relative error')\n",
    "plot.set_title('semilogy plot of the relative error vs. N')\n",
    "plot.semilogy(rel_error)"
   ]
  },
  {
   "cell_type": "code",
   "execution_count": 45,
   "metadata": {},
   "outputs": [
    {
     "data": {
      "text/plain": [
       "array([1.        , 2.        , 2.5       , 2.66666667, 2.70833333,\n",
       "       2.71666667, 2.71805556, 2.71825397, 2.71827877, 2.71828153])"
      ]
     },
     "execution_count": 45,
     "metadata": {},
     "output_type": "execute_result"
    }
   ],
   "source": [
    "exp_approx"
   ]
  },
  {
   "cell_type": "code",
   "execution_count": 47,
   "metadata": {},
   "outputs": [
    {
     "data": {
      "text/plain": [
       "array([1.71828183e+00, 7.18281828e-01, 2.18281828e-01, 5.16151618e-02,\n",
       "       9.94849513e-03, 1.61516179e-03, 2.26272903e-04, 2.78602051e-05,\n",
       "       3.05861778e-06, 3.02885853e-07])"
      ]
     },
     "execution_count": 47,
     "metadata": {},
     "output_type": "execute_result"
    }
   ],
   "source": [
    "abs_error"
   ]
  },
  {
   "cell_type": "code",
   "execution_count": 49,
   "metadata": {},
   "outputs": [
    {
     "data": {
      "text/plain": [
       "array([6.32120559e-01, 2.64241118e-01, 8.03013971e-02, 1.89881569e-02,\n",
       "       3.65984683e-03, 5.94184818e-04, 8.32411493e-05, 1.02491967e-05,\n",
       "       1.12520260e-06, 1.11425478e-07])"
      ]
     },
     "execution_count": 49,
     "metadata": {},
     "output_type": "execute_result"
    }
   ],
   "source": [
    "rel_error"
   ]
  },
  {
   "cell_type": "code",
   "execution_count": 56,
   "metadata": {},
   "outputs": [
    {
     "data": {
      "text/plain": [
       "array([5.94184818e-04, 8.32411493e-05, 1.02491967e-05, 1.12520260e-06,\n",
       "       1.11425478e-07])"
      ]
     },
     "execution_count": 56,
     "metadata": {},
     "output_type": "execute_result"
    }
   ],
   "source": [
    "rel_error[rel_error<=desired_rel_error]"
   ]
  },
  {
   "cell_type": "code",
   "execution_count": 73,
   "metadata": {},
   "outputs": [],
   "source": [
    "import numpy as np\n",
    "from math import factorial\n",
    "import sympy as sp\n",
    "x=sp.var('x')\n",
    "y=sp.sin(x)\n",
    "x1=0.7\n",
    "real=y.subs(x,x1)\n",
    "\n",
    "def r_e(x0,n):\n",
    "    ap=0\n",
    "    for i in range(n+1):\n",
    "        ap+=y.diff(x,i).subs(x,x0)/factorial(i)*(x1-x0)**i\n",
    "    r=abs((ap-real)/real)\n",
    "    return r\n",
    "\n",
    "err_0_1=r_e(0,1)\n",
    "err_0_3=r_e(0,3)\n",
    "err_pi4_3=r_e(np.pi/4,3)"
   ]
  },
  {
   "cell_type": "code",
   "execution_count": 76,
   "metadata": {},
   "outputs": [
    {
     "data": {
      "text/latex": [
       "$\\displaystyle 2.39027283145738 \\cdot 10^{-6}$"
      ],
      "text/plain": [
       "2.39027283145738e-6"
      ]
     },
     "execution_count": 76,
     "metadata": {},
     "output_type": "execute_result"
    }
   ],
   "source": [
    "err_pi4_3"
   ]
  },
  {
   "cell_type": "code",
   "execution_count": 77,
   "metadata": {},
   "outputs": [
    {
     "data": {
      "text/plain": [
       "1.19268343236509"
      ]
     },
     "execution_count": 77,
     "metadata": {},
     "output_type": "execute_result"
    }
   ],
   "source": [
    "0.9**2+math.sin(math.pi/8)"
   ]
  },
  {
   "cell_type": "code",
   "execution_count": 83,
   "metadata": {},
   "outputs": [
    {
     "data": {
      "text/plain": [
       "range(0, 5)"
      ]
     },
     "execution_count": 83,
     "metadata": {},
     "output_type": "execute_result"
    }
   ],
   "source": [
    "range(5)"
   ]
  },
  {
   "cell_type": "code",
   "execution_count": 20,
   "metadata": {},
   "outputs": [],
   "source": [
    "import matplotlib.pyplot as plt"
   ]
  },
  {
   "cell_type": "code",
   "execution_count": 23,
   "metadata": {},
   "outputs": [
    {
     "data": {
      "image/png": "[encoded data removed]",
      "text/plain": [
       "<Figure size 432x288 with 1 Axes>"
      ]
     },
     "metadata": {
      "needs_background": "light"
     },
     "output_type": "display_data"
    }
   ],
   "source": [
    "import numpy as np\n",
    "import matplotlib\n",
    "import matplotlib.pyplot as plt\n",
    "\n",
    "\n",
    "def duplicate_birthdays(n):\n",
    "  # Generate 1000 simulations of room of size n\n",
    "    t=0\n",
    "    for i in range(1000):\n",
    "        r=genroom(n)\n",
    "        if len(r)!=len(set(r)):\n",
    "            t+=1\n",
    "  # Determine if the room has duplicate birthdays\n",
    "  # Returns the number of rooms with duplicate birthdays\n",
    "    return t\n",
    "\n",
    "# Part 1\n",
    "prob_n=[]\n",
    "for i in range(2,101):\n",
    "    prob_n.append(duplicate_birthdays(i)/1000.0)\n",
    "prob_n=np.array(prob_n)\n",
    "\n",
    "# Part 2\n",
    "# Estimate perc_50\n",
    "perc_50=101-len(prob_n[prob_n>0.5])\n",
    "\n",
    "# Part 3\n",
    "# Plot prob_n\n",
    "plt.plot(range(2,101),prob_n)\n",
    "plt.xlabel('n')\n",
    "plt.ylabel('p_n')\n",
    "plt.title('p_n vs. n')\n",
    "# Save plot for grading\n",
    "plot = plt.gca()"
   ]
  },
  {
   "cell_type": "code",
   "execution_count": 4,
   "metadata": {},
   "outputs": [],
   "source": [
    "def genroom(n):\n",
    "    return np.random.randint(1,366, n)"
   ]
  },
  {
   "cell_type": "code",
   "execution_count": 5,
   "metadata": {},
   "outputs": [],
   "source": [
    "def duplicate_birthdays(n):\n",
    "  # Generate 1000 simulations of room of size n\n",
    "    t=0\n",
    "    for i in range(1000):\n",
    "        r=genroom(n)\n",
    "        if len(r)!=len(set(r)):\n",
    "            t+=1\n",
    "  # Determine if the room has duplicate birthdays\n",
    "  # Returns the number of rooms with duplicate birthdays\n",
    "    return t"
   ]
  },
  {
   "cell_type": "code",
   "execution_count": 34,
   "metadata": {},
   "outputs": [
    {
     "data": {
      "text/plain": [
       "0.003"
      ]
     },
     "execution_count": 34,
     "metadata": {},
     "output_type": "execute_result"
    }
   ],
   "source": [
    "duplicate_birthdays(2)/1000.00"
   ]
  },
  {
   "cell_type": "code",
   "execution_count": 35,
   "metadata": {},
   "outputs": [],
   "source": [
    "prob_n=[]\n",
    "for i in range(2,101):\n",
    "    prob_n.append(duplicate_birthdays(i)/1000.00)\n",
    "prob_n=np.array(prob_n)"
   ]
  },
  {
   "cell_type": "code",
   "execution_count": 24,
   "metadata": {},
   "outputs": [],
   "source": [
    "perc_50=101-len(prob_n[prob_n>0.5])"
   ]
  },
  {
   "cell_type": "code",
   "execution_count": 41,
   "metadata": {},
   "outputs": [
    {
     "data": {
      "text/plain": [
       "array([0.006, 0.014, 0.018, 0.026, 0.052, 0.061, 0.07 , 0.092, 0.108,\n",
       "       0.166, 0.158, 0.209, 0.224, 0.248, 0.288, 0.319, 0.383, 0.369,\n",
       "       0.422, 0.452, 0.453, 0.526, 0.515, 0.556, 0.574, 0.628, 0.631,\n",
       "       0.689, 0.716, 0.715, 0.751, 0.759, 0.82 , 0.823, 0.816, 0.853,\n",
       "       0.87 , 0.862, 0.884, 0.882, 0.903, 0.926, 0.942, 0.942, 0.942,\n",
       "       0.955, 0.961, 0.97 , 0.966, 0.979, 0.986, 0.985, 0.986, 0.984,\n",
       "       0.984, 0.989, 0.994, 0.993, 0.991, 0.994, 0.992, 0.995, 0.997,\n",
       "       0.998, 1.   , 0.997, 0.999, 1.   , 0.998, 0.999, 0.999, 1.   ,\n",
       "       1.   , 1.   , 0.999, 0.999, 1.   , 1.   , 1.   , 1.   , 1.   ,\n",
       "       1.   , 1.   , 1.   , 1.   , 1.   , 1.   , 1.   , 1.   , 1.   ,\n",
       "       1.   , 1.   , 1.   , 1.   , 1.   , 1.   , 1.   , 1.   , 1.   ])"
      ]
     },
     "execution_count": 41,
     "metadata": {},
     "output_type": "execute_result"
    }
   ],
   "source": [
    "prob_n"
   ]
  },
  {
   "cell_type": "code",
   "execution_count": 37,
   "metadata": {},
   "outputs": [
    {
     "data": {
      "text/plain": [
       "23"
      ]
     },
     "execution_count": 37,
     "metadata": {},
     "output_type": "execute_result"
    }
   ],
   "source": [
    "perc_50"
   ]
  },
  {
   "cell_type": "code",
   "execution_count": 21,
   "metadata": {},
   "outputs": [
    {
     "data": {
      "text/plain": [
       "Text(0.5, 1.0, 'p_n vs. n')"
      ]
     },
     "execution_count": 21,
     "metadata": {},
     "output_type": "execute_result"
    },
    {
     "data": {
      "image/png": "[encoded data removed]",
      "text/plain": [
       "<Figure size 432x288 with 1 Axes>"
      ]
     },
     "metadata": {
      "needs_background": "light"
     },
     "output_type": "display_data"
    }
   ],
   "source": [
    "plt.plot(range(2,101),prob_n)\n",
    "plt.xlabel('n')\n",
    "plt.ylabel('p_n')\n",
    "plt.title('p_n vs. n')"
   ]
  },
  {
   "cell_type": "code",
   "execution_count": 22,
   "metadata": {},
   "outputs": [],
   "source": [
    "import numpy as np\n",
    "from math import factorial\n",
    "import sympy as sp\n",
    "import math\n",
    "x=sp.var('x')\n",
    "y=sp.sin(x)\n",
    "x0=math.pi/4\n",
    "x1=0.7\n",
    "real=y.subs(x,x1)\n",
    "ap=0\n",
    "for i in range(4):\n",
    "    ap+=y.diff(x,i).subs(x,x0)/factorial(i)*(x1-x0)**i\n",
    "err_pi4_3=abs(ap-real/real)"
   ]
  },
  {
   "cell_type": "code",
   "execution_count": 26,
   "metadata": {},
   "outputs": [
    {
     "data": {
      "text/latex": [
       "$\\displaystyle 0.644216147381656$"
      ],
      "text/plain": [
       "0.644216147381656"
      ]
     },
     "execution_count": 26,
     "metadata": {},
     "output_type": "execute_result"
    }
   ],
   "source": [
    "ap"
   ]
  },
  {
   "cell_type": "code",
   "execution_count": 21,
   "metadata": {},
   "outputs": [
    {
     "data": {
      "text/plain": [
       "array([[0.43167836, 0.08330291, 0.24698498],\n",
       "       [0.89543921, 0.9735928 , 0.66351678],\n",
       "       [0.84209734, 0.36959016, 0.23428113],\n",
       "       [0.85993785, 0.58553691, 0.89433249],\n",
       "       [0.55652342, 0.22737739, 0.85773336],\n",
       "       [0.15781406, 0.34615334, 0.02988564],\n",
       "       [0.48584317, 0.00310117, 0.36919461],\n",
       "       [0.26848328, 0.44320543, 0.84934881],\n",
       "       [0.26059124, 0.10923602, 0.81137992],\n",
       "       [0.4200745 , 0.30968848, 0.59267004],\n",
       "       [0.8026778 , 0.72469146, 0.30964969],\n",
       "       [0.76883434, 0.44834305, 0.68772393],\n",
       "       [0.24270158, 0.96944448, 0.7168393 ],\n",
       "       [0.20792391, 0.07859556, 0.67990741],\n",
       "       [0.28714283, 0.09065032, 0.73682734],\n",
       "       [0.396786  , 0.73998056, 0.05073055],\n",
       "       [0.11846222, 0.2157362 , 0.46797866],\n",
       "       [0.66494165, 0.35636824, 0.74064597],\n",
       "       [0.19565436, 0.41103152, 0.4220057 ],\n",
       "       [0.29874453, 0.09620563, 0.06405321],\n",
       "       [0.47970666, 0.24752339, 0.76693979],\n",
       "       [0.42311353, 0.67989068, 0.38355711],\n",
       "       [0.6913729 , 0.40752394, 0.39562554],\n",
       "       [0.25449792, 0.1687688 , 0.97733225],\n",
       "       [0.68268205, 0.93074839, 0.84103932],\n",
       "       [0.4072292 , 0.59359634, 0.33924616],\n",
       "       [0.72780632, 0.52973185, 0.05365724],\n",
       "       [0.44610819, 0.3700514 , 0.14418282],\n",
       "       [0.33340534, 0.03239874, 0.19807065],\n",
       "       [0.75960028, 0.72560112, 0.82535958],\n",
       "       [0.34846219, 0.75033593, 0.96914575],\n",
       "       [0.46969923, 0.99367169, 0.0892207 ],\n",
       "       [0.01757099, 0.96723597, 0.41079033],\n",
       "       [0.03065041, 0.82298543, 0.20945546],\n",
       "       [0.52174654, 0.87774266, 0.82334079],\n",
       "       [0.82916151, 0.478019  , 0.40566416],\n",
       "       [0.88574695, 0.51564603, 0.91366318],\n",
       "       [0.93605395, 0.96096322, 0.15909256],\n",
       "       [0.90501884, 0.68547102, 0.84046675],\n",
       "       [0.95703071, 0.58503999, 0.16977913],\n",
       "       [0.03123421, 0.50836312, 0.29145299],\n",
       "       [0.68684075, 0.30523135, 0.27842977],\n",
       "       [0.89933354, 0.97714044, 0.53658391],\n",
       "       [0.90714808, 0.44683153, 0.31283395],\n",
       "       [0.6568363 , 0.38410378, 0.67241786],\n",
       "       [0.01896431, 0.32364874, 0.90139541],\n",
       "       [0.73334077, 0.88620496, 0.55851076],\n",
       "       [0.48462072, 0.79968981, 0.66688569],\n",
       "       [0.49890765, 0.46710226, 0.7814763 ],\n",
       "       [0.82815967, 0.73480535, 0.95603349],\n",
       "       [0.93117829, 0.48432247, 0.18029274],\n",
       "       [0.35344409, 0.5874925 , 0.79492452],\n",
       "       [0.71736995, 0.84302507, 0.84308811],\n",
       "       [0.16171676, 0.55538881, 0.11838872],\n",
       "       [0.9709734 , 0.36415293, 0.71219604],\n",
       "       [0.27667882, 0.70147489, 0.53872144],\n",
       "       [0.54221031, 0.16425971, 0.13803623],\n",
       "       [0.8118654 , 0.78821044, 0.45475621],\n",
       "       [0.76469113, 0.99941603, 0.38594424],\n",
       "       [0.20939807, 0.23371791, 0.69340918],\n",
       "       [0.07391519, 0.2952304 , 0.65376507],\n",
       "       [0.73129958, 0.64934587, 0.28841603],\n",
       "       [0.79924036, 0.33011903, 0.70541293],\n",
       "       [0.78284101, 0.31539129, 0.18270516],\n",
       "       [0.82207889, 0.401978  , 0.01164659],\n",
       "       [0.89325421, 0.99935017, 0.82560939],\n",
       "       [0.03587277, 0.46367814, 0.92135693],\n",
       "       [0.32414322, 0.9742557 , 0.99676689],\n",
       "       [0.61747661, 0.30096242, 0.92024902],\n",
       "       [0.97492672, 0.10979406, 0.0717197 ],\n",
       "       [0.37353212, 0.36687861, 0.70831142],\n",
       "       [0.82520259, 0.03920609, 0.81938197],\n",
       "       [0.42040458, 0.08546757, 0.06920978],\n",
       "       [0.10069964, 0.78534602, 0.84349113],\n",
       "       [0.02955873, 0.30390413, 0.95401948],\n",
       "       [0.15736734, 0.97919591, 0.1821058 ],\n",
       "       [0.48215615, 0.27348383, 0.55951217],\n",
       "       [0.87383544, 0.89329685, 0.08953126],\n",
       "       [0.99817471, 0.34679608, 0.54644701],\n",
       "       [0.99318495, 0.31955679, 0.3274084 ],\n",
       "       [0.42281253, 0.2903182 , 0.79378409],\n",
       "       [0.92568966, 0.19540518, 0.42465352],\n",
       "       [0.05006308, 0.00888144, 0.63257057],\n",
       "       [0.45302873, 0.13485705, 0.12794057],\n",
       "       [0.26482581, 0.12335859, 0.26666794],\n",
       "       [0.40687069, 0.52893883, 0.6181221 ],\n",
       "       [0.80562796, 0.22648724, 0.91201861],\n",
       "       [0.9925575 , 0.15578267, 0.79880347],\n",
       "       [0.69448954, 0.2836389 , 0.95680846],\n",
       "       [0.31547751, 0.80746127, 0.14872872],\n",
       "       [0.82475804, 0.5805992 , 0.42502162],\n",
       "       [0.49866353, 0.49487225, 0.681363  ],\n",
       "       [0.48238541, 0.04076241, 0.05064424],\n",
       "       [0.24430161, 0.0101245 , 0.32689768],\n",
       "       [0.38471121, 0.2496926 , 0.97952769],\n",
       "       [0.70047987, 0.18845707, 0.49043713],\n",
       "       [0.86009092, 0.52435488, 0.8464987 ],\n",
       "       [0.63892906, 0.19512957, 0.73367907],\n",
       "       [0.37306032, 0.64436194, 0.60772584],\n",
       "       [0.16171763, 0.71573472, 0.15561816]])"
      ]
     },
     "execution_count": 21,
     "metadata": {},
     "output_type": "execute_result"
    }
   ],
   "source": [
    "np.random.rand(100,3)"
   ]
  },
  {
   "cell_type": "code",
   "execution_count": null,
   "metadata": {},
   "outputs": [],
   "source": []
  },
  {
   "cell_type": "code",
   "execution_count": null,
   "metadata": {},
   "outputs": [],
   "source": []
  }
 ],
 "metadata": {
  "kernelspec": {
   "display_name": "Python 3",
   "language": "python",
   "name": "python3"
  },
  "language_info": {
   "codemirror_mode": {
    "name": "ipython",
    "version": 3
   },
   "file_extension": ".py",
   "mimetype": "text/x-python",
   "name": "python",
   "nbconvert_exporter": "python",
   "pygments_lexer": "ipython3",
   "version": "3.8.3"
  }
 },
 "nbformat": 4,
 "nbformat_minor": 4
}
