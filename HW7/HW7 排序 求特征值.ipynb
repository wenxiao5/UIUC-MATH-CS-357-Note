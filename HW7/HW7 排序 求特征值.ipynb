{
 "cells": [
  {
   "cell_type": "code",
   "execution_count": 3,
   "metadata": {},
   "outputs": [],
   "source": [
    "%matplotlib inline\n",
    "import matplotlib.pyplot as plt\n",
    "import numpy as np\n",
    "import numpy.linalg as la\n",
    "import scipy.linalg as sla"
   ]
  },
  {
   "cell_type": "code",
   "execution_count": 4,
   "metadata": {},
   "outputs": [],
   "source": [
    "N = 200"
   ]
  },
  {
   "cell_type": "code",
   "execution_count": 80,
   "metadata": {},
   "outputs": [],
   "source": [
    "A=[[2,-1]+[0.]*(N-2)]\n",
    "for i in range(1,N-1):\n",
    "    a=[0.]*(i-1)+[-1,2,-1]+[0.]*(N-i-2)\n",
    "    A.append(a)\n",
    "A.append([0.]*(N-2)+[-1,2])\n",
    "A=np.array(A)"
   ]
  },
  {
   "cell_type": "code",
   "execution_count": 82,
   "metadata": {},
   "outputs": [],
   "source": [
    "val1=la.eig(A)[0]\n",
    "vec1=la.eig(A)[1]"
   ]
  },
  {
   "cell_type": "code",
   "execution_count": 78,
   "metadata": {},
   "outputs": [],
   "source": [
    "w=val1**0.5\n",
    "w_s=np.sort(w)\n",
    "w_s_i=np.argsort(w)\n",
    "val1_low5freq=w_s[0:5]"
   ]
  },
  {
   "cell_type": "code",
   "execution_count": 77,
   "metadata": {},
   "outputs": [],
   "source": [
    "l5i=w_s_i[0:5]\n",
    "vec1_low5freq=np.array([0]*5*N).reshape(N,5)\n",
    "for i in range(5):\n",
    "    vec1_low5freq[:,i]=vec1[l5i[i]]"
   ]
  },
  {
   "cell_type": "code",
   "execution_count": 79,
   "metadata": {},
   "outputs": [
    {
     "data": {
      "text/plain": [
       "array([  0, 121, 122, 123, 124], dtype=int64)"
      ]
     },
     "execution_count": 79,
     "metadata": {},
     "output_type": "execute_result"
    }
   ],
   "source": [
    "l5i"
   ]
  },
  {
   "cell_type": "code",
   "execution_count": 50,
   "metadata": {},
   "outputs": [],
   "source": [
    "l5i=w_s_i[0:5]\n",
    "vec1_low5freq=vec1[l5i]"
   ]
  },
  {
   "cell_type": "code",
   "execution_count": 51,
   "metadata": {},
   "outputs": [
    {
     "data": {
      "text/plain": [
       "array([ 44,  45,  46,  47,  48,  49,  50,  51,  52,  53,  54,  55,  94,\n",
       "        95,  96,  97,  98,  99, 100, 101, 102, 103, 104, 105, 169, 170,\n",
       "       171, 172, 173, 174, 175, 176, 177, 178, 179, 180])"
      ]
     },
     "execution_count": 51,
     "metadata": {},
     "output_type": "execute_result"
    }
   ],
   "source": [
    "pillar_positions = np.array([]).astype(int)\n",
    "l = N//16\n",
    "for base_idx in [N//4, N//2, 7*N//8]:\n",
    "    pillar_positions = np.append(pillar_positions, np.arange(base_idx-l//2,base_idx+l//2))\n",
    "pillar_positions"
   ]
  },
  {
   "cell_type": "code",
   "execution_count": 55,
   "metadata": {},
   "outputs": [],
   "source": [
    "B=A.copy()\n",
    "for i in pillar_positions:\n",
    "    B[i,i]=B[i,i]+0.05"
   ]
  },
  {
   "cell_type": "code",
   "execution_count": 58,
   "metadata": {},
   "outputs": [],
   "source": [
    "val2=la.eig(B)[0]\n",
    "vec2=la.eig(B)[1]\n",
    "w=val2**0.5\n",
    "w_s=np.sort(w)\n",
    "w_s_i=np.argsort(w)\n",
    "val2_low5freq=w_s[0:5]\n",
    "l5i=w_s_i[0:5]\n",
    "vec2_low5freq=vec2[l5i]"
   ]
  },
  {
   "cell_type": "code",
   "execution_count": null,
   "metadata": {},
   "outputs": [],
   "source": []
  },
  {
   "cell_type": "code",
   "execution_count": null,
   "metadata": {},
   "outputs": [],
   "source": []
  },
  {
   "cell_type": "code",
   "execution_count": null,
   "metadata": {},
   "outputs": [],
   "source": []
  },
  {
   "cell_type": "code",
   "execution_count": null,
   "metadata": {},
   "outputs": [],
   "source": []
  },
  {
   "cell_type": "code",
   "execution_count": null,
   "metadata": {},
   "outputs": [],
   "source": []
  },
  {
   "cell_type": "code",
   "execution_count": null,
   "metadata": {},
   "outputs": [],
   "source": []
  },
  {
   "cell_type": "code",
   "execution_count": null,
   "metadata": {},
   "outputs": [],
   "source": []
  },
  {
   "cell_type": "code",
   "execution_count": null,
   "metadata": {},
   "outputs": [],
   "source": []
  },
  {
   "cell_type": "code",
   "execution_count": null,
   "metadata": {},
   "outputs": [],
   "source": []
  }
 ],
 "metadata": {
  "kernelspec": {
   "display_name": "Python 3",
   "language": "python",
   "name": "python3"
  },
  "language_info": {
   "codemirror_mode": {
    "name": "ipython",
    "version": 3
   },
   "file_extension": ".py",
   "mimetype": "text/x-python",
   "name": "python",
   "nbconvert_exporter": "python",
   "pygments_lexer": "ipython3",
   "version": "3.8.3"
  }
 },
 "nbformat": 4,
 "nbformat_minor": 4
}
