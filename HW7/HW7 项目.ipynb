{
 "cells": [
  {
   "cell_type": "code",
   "execution_count": 1,
   "metadata": {},
   "outputs": [],
   "source": [
    "import numpy as np\n",
    "import numpy.linalg as la\n",
    "import scipy.linalg as sla"
   ]
  },
  {
   "cell_type": "code",
   "execution_count": 2,
   "metadata": {},
   "outputs": [],
   "source": [
    "A=[[1,2],[2,3]]"
   ]
  },
  {
   "cell_type": "code",
   "execution_count": 32,
   "metadata": {},
   "outputs": [],
   "source": [
    "n=len(A)\n",
    "Ai=la.inv(A)"
   ]
  },
  {
   "cell_type": "code",
   "execution_count": 33,
   "metadata": {},
   "outputs": [],
   "source": [
    "x_0=np.random.rand(n,1)\n",
    "x_0=x_0/la.norm(x_0)"
   ]
  },
  {
   "cell_type": "code",
   "execution_count": 41,
   "metadata": {},
   "outputs": [],
   "source": [
    "x_k=x_0\n",
    "for i in range(10000):\n",
    "    x_k=Ai@x_k\n",
    "    x_k=x_k/la.norm(x_k)"
   ]
  },
  {
   "cell_type": "code",
   "execution_count": 42,
   "metadata": {},
   "outputs": [],
   "source": [
    "eigvec=x_k.reshape(n)\n",
    "eigval=float((x_k.T@A@x_k)/(x_k.T@x_k))"
   ]
  },
  {
   "cell_type": "code",
   "execution_count": 43,
   "metadata": {},
   "outputs": [
    {
     "data": {
      "text/plain": [
       "-0.23606797749978972"
      ]
     },
     "execution_count": 43,
     "metadata": {},
     "output_type": "execute_result"
    }
   ],
   "source": [
    "eigval"
   ]
  },
  {
   "cell_type": "code",
   "execution_count": 44,
   "metadata": {},
   "outputs": [],
   "source": [
    "import matplotlib.pyplot as plt"
   ]
  },
  {
   "cell_type": "code",
   "execution_count": 3,
   "metadata": {},
   "outputs": [],
   "source": [
    "As=[[[ 2.16142967e+03,-4.21076180e+03],\n",
    "  [ 1.05515493e+03,-2.05549354e+03]],\n",
    " [[-3.41306577e+01,9.00931276e+01],\n",
    "  [-5.75973457e+01,1.41566787e+02]],\n",
    " [[ 1.43099846e+02,-1.30999302e+02],\n",
    "  [ 4.12382359e+01,-3.41637170e+01]]]"
   ]
  },
  {
   "cell_type": "code",
   "execution_count": 4,
   "metadata": {},
   "outputs": [],
   "source": [
    "n=len(As)\n",
    "x_0=np.array([1/2**0.5,1/2**0.5])"
   ]
  },
  {
   "cell_type": "code",
   "execution_count": 45,
   "metadata": {},
   "outputs": [
    {
     "data": {
      "text/plain": [
       "Text(0.5, 1.0, 'cnt_v_ratios')"
      ]
     },
     "execution_count": 45,
     "metadata": {},
     "output_type": "execute_result"
    },
    {
     "data": {
      "image/png": "[encoded data removed]",
      "text/plain": [
       "<Figure size 432x288 with 1 Axes>"
      ]
     },
     "metadata": {
      "needs_background": "light"
     },
     "output_type": "display_data"
    }
   ],
   "source": [
    "import numpy as np\n",
    "import scipy.linalg as sla\n",
    "import matplotlib.pyplot as plt\n",
    "eigenval1=[]\n",
    "eigenvec1=[]\n",
    "cnt=[]\n",
    "n=len(As)\n",
    "for i in range(n):\n",
    "    A=As[i]\n",
    "    x_k=x_0\n",
    "    x_kp1=A@x_k\n",
    "    x_kp1=x_kp1/np.linalg.norm(x_kp1,2)\n",
    "    m=1.0\n",
    "    while np.linalg.norm(x_kp1-x_k,2)>10.**(-12):\n",
    "        x_k=x_kp1\n",
    "        x_kp1=A@x_kp1\n",
    "        m+=1.\n",
    "        x_kp1=x_kp1/np.linalg.norm(x_kp1,2)\n",
    "    cnt.append(m)\n",
    "    eigenvec1.append(x_kp1)\n",
    "    eigenval1.append(float((x_kp1.T@A@x_kp1)/(x_kp1.T@x_kp1)))\n",
    "eigenval2=[]\n",
    "eigenvec2=[]\n",
    "for i in range(n):\n",
    "    A=As[i]\n",
    "    P,L,U=sla.lu(A)\n",
    "    x_k=x_0\n",
    "    y=sla.solve_triangular(L,P.T@x_k,lower=True)#默认使用上三角\n",
    "    x_kp1=sla.solve_triangular(U,y,lower=False)\n",
    "    x_kp1=x_kp1/np.linalg.norm(x_kp1,2)\n",
    "    while np.linalg.norm(x_kp1-x_k,2)>10.**(-12):\n",
    "        x_k=x_kp1\n",
    "        y=sla.solve_triangular(L,P.T@x_kp1,lower=True)\n",
    "        x_kp1=sla.solve_triangular(U,y,lower=False)\n",
    "        x_kp1=x_kp1/np.linalg.norm(x_kp1,2)\n",
    "    eigenvec2.append(x_kp1)\n",
    "    eigenval2.append(float((x_kp1.T@A@x_kp1)/(x_kp1.T@x_kp1)))\n",
    "m=len(x_0)\n",
    "I=np.array([0.]*(m**2)).reshape(m,m)\n",
    "for i in range(m):\n",
    "    I[i,i]=1.0\n",
    "shifted_eigval=[]\n",
    "shifted_eigvec=[]\n",
    "for i in range(n):\n",
    "    A=As[i]-I\n",
    "    P,L,U=sla.lu(A)\n",
    "    x_k=x_0\n",
    "    y=sla.solve_triangular(L,P.T@x_k,lower=True)\n",
    "    x_kp1=sla.solve_triangular(U,y,lower=False)\n",
    "    x_kp1=x_kp1/np.linalg.norm(x_kp1,2)\n",
    "    for j in range(500):\n",
    "        x_k=x_kp1\n",
    "        y=sla.solve_triangular(L,P.T@x_k,lower=True)\n",
    "        x_kp1=sla.solve_triangular(U,y,lower=False)\n",
    "        x_kp1=x_kp1/np.linalg.norm(x_kp1,2)\n",
    "    shifted_eigvec.append(x_kp1)\n",
    "    shifted_eigval.append(float((x_kp1.T@(A+I)@x_kp1)/(x_kp1.T@x_kp1)))\n",
    "eigenval1=np.array(eigenval1)\n",
    "eigenval2=np.array(eigenval2)\n",
    "eigenvec1=np.array(eigenvec1)\n",
    "eigenvec2=np.array(eigenvec2)\n",
    "shifted_eigval=np.array(shifted_eigval)\n",
    "shifted_eigvec=np.array(shifted_eigvec)\n",
    "cnt=np.array(cnt)\n",
    "ratios=abs(eigenval2/eigenval1)\n",
    "plt.plot(cnt,ratios)\n",
    "plt.xlabel('cnt')\n",
    "plt.ylabel('ratios')\n",
    "plt.title('cnt_v_ratios')"
   ]
  },
  {
   "cell_type": "code",
   "execution_count": 47,
   "metadata": {},
   "outputs": [
    {
     "data": {
      "text/plain": [
       "array([[ 2160.42967, -4210.7618 ],\n",
       "       [ 1055.15493, -2056.49354]])"
      ]
     },
     "execution_count": 47,
     "metadata": {},
     "output_type": "execute_result"
    }
   ],
   "source": [
    "As[0]-I"
   ]
  },
  {
   "cell_type": "code",
   "execution_count": 44,
   "metadata": {},
   "outputs": [
    {
     "data": {
      "text/plain": [
       "array([0.93604139, 2.43612949, 3.93612962])"
      ]
     },
     "execution_count": 44,
     "metadata": {},
     "output_type": "execute_result"
    }
   ],
   "source": [
    "shifted_eigval"
   ]
  }
 ],
 "metadata": {
  "kernelspec": {
   "display_name": "Python 3",
   "language": "python",
   "name": "python3"
  },
  "language_info": {
   "codemirror_mode": {
    "name": "ipython",
    "version": 3
   },
   "file_extension": ".py",
   "mimetype": "text/x-python",
   "name": "python",
   "nbconvert_exporter": "python",
   "pygments_lexer": "ipython3",
   "version": "3.8.3"
  }
 },
 "nbformat": 4,
 "nbformat_minor": 4
}
