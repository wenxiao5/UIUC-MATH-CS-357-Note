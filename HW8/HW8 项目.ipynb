{
 "cells": [
  {
   "cell_type": "code",
   "execution_count": 1,
   "metadata": {},
   "outputs": [],
   "source": [
    "import numpy as np\n",
    "import matplotlib.pyplot as plt"
   ]
  },
  {
   "cell_type": "code",
   "execution_count": 12,
   "metadata": {},
   "outputs": [
    {
     "data": {
      "image/png": "[encoded data removed]",
      "text/plain": [
       "<Figure size 432x288 with 1 Axes>"
      ]
     },
     "metadata": {
      "needs_background": "light"
     },
     "output_type": "display_data"
    }
   ],
   "source": [
    "xvec=np.array([3.2,6.9])\n",
    "dxvec=np.array([1.00000000e+00,5.00000000e-01,2.50000000e-01])\n",
    "def func(x):\n",
    "    '''\n",
    "    Parameters\n",
    "    x: 1D numpy array\n",
    "    Returns\n",
    "    f: scalar function value\n",
    "    '''\n",
    "    f=2*x[0]**2-0.5*x[0]*x[1]+5*x[1]**3\n",
    "    # WRITE YOUR CODE HERE\n",
    "    return f\n",
    "\n",
    "def dfunc(x):\n",
    "    '''\n",
    "    Parameters\n",
    "    x: 1D numpy array\n",
    "    Returns\n",
    "    df: 1D numpy array containing first derivatives wrt x\n",
    "    '''\n",
    "    # WRITE YOUR CODE HERE\n",
    "    df1=4*x[0]-0.5*x[1]\n",
    "    df2=-0.5*x[0]+15*x[1]**2\n",
    "    df=np.array([df1,df2])\n",
    "    return df\n",
    "\n",
    "def fd(x,dx):\n",
    "    '''\n",
    "    Parameters\n",
    "    x: 1D numpy array\n",
    "    dx: small perturbation (increment in x)  (scalar)\n",
    "    Returns\n",
    "    df: 1D numpy array containing approximations for the first derivatives wrt x\n",
    "    '''\n",
    "    # WRITE YOUR CODE HERE\n",
    "    fd1=(func(x+np.array([dx,0]))-func(x))/dx\n",
    "    fd2=(func(x+np.array([0,dx]))-func(x))/dx\n",
    "    fd=np.array([fd1,fd2])\n",
    "    return fd\n",
    "# COMPUTE FINITE DIFFERENCE APPROXIMATIONS FOR DECREASING VALUES OF dx\n",
    "error=[]\n",
    "for dx in dxvec:\n",
    "    # compute df_approx (using df function)\n",
    "    # compute df_exact (using dfunc)\n",
    "    # update variable error\n",
    "    e=max(abs(dfunc(xvec)-fd(xvec,dx)))\n",
    "    error.append(e)\n",
    "error=np.array(error)\n",
    "\n",
    "\n",
    "plt.figure()\n",
    "## Plot the error as a function of the perturbation dx\n",
    "plt.plot(dxvec,error)\n",
    "plt.xlabel('dxvec')\n",
    "plt.ylabel('error')\n",
    "plt.title('dvse')\n",
    "plt.show()"
   ]
  },
  {
   "cell_type": "code",
   "execution_count": 11,
   "metadata": {},
   "outputs": [
    {
     "data": {
      "text/plain": [
       "array([1.  , 0.5 , 0.25])"
      ]
     },
     "execution_count": 11,
     "metadata": {},
     "output_type": "execute_result"
    }
   ],
   "source": [
    "dxvec"
   ]
  },
  {
   "cell_type": "code",
   "execution_count": 10,
   "metadata": {},
   "outputs": [
    {
     "data": {
      "text/plain": [
       "array([108.5   ,  53.    ,  26.1875])"
      ]
     },
     "execution_count": 10,
     "metadata": {},
     "output_type": "execute_result"
    }
   ],
   "source": [
    "error"
   ]
  }
 ],
 "metadata": {
  "kernelspec": {
   "display_name": "Python 3",
   "language": "python",
   "name": "python3"
  },
  "language_info": {
   "codemirror_mode": {
    "name": "ipython",
    "version": 3
   },
   "file_extension": ".py",
   "mimetype": "text/x-python",
   "name": "python",
   "nbconvert_exporter": "python",
   "pygments_lexer": "ipython3",
   "version": "3.8.3"
  }
 },
 "nbformat": 4,
 "nbformat_minor": 4
}
