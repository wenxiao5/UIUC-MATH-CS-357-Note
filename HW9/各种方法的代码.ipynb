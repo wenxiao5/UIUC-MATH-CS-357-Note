{
 "cells": [
  {
   "cell_type": "code",
   "execution_count": 1,
   "metadata": {},
   "outputs": [],
   "source": [
    "import numpy as np\n",
    "import numpy.linalg as la\n",
    "import sympy as sp\n",
    "import math"
   ]
  },
  {
   "cell_type": "code",
   "execution_count": 2,
   "metadata": {},
   "outputs": [],
   "source": [
    "def Bisection(a,b,tol,maxiter):\n",
    "    for i in range(maxiter):\n",
    "        m=(a+b)/2\n",
    "        print(m)\n",
    "        if f(m)*f(a)>0:\n",
    "            a=m\n",
    "        else:\n",
    "            b=m\n",
    "        if abs(f(m))<tol:\n",
    "            return m,i+1"
   ]
  },
  {
   "cell_type": "code",
   "execution_count": 3,
   "metadata": {
    "scrolled": true
   },
   "outputs": [
    {
     "name": "stdout",
     "output_type": "stream",
     "text": [
      "0.0\n"
     ]
    },
    {
     "ename": "NameError",
     "evalue": "name 'f' is not defined",
     "output_type": "error",
     "traceback": [
      "\u001b[1;31m---------------------------------------------------------------------------\u001b[0m",
      "\u001b[1;31mNameError\u001b[0m                                 Traceback (most recent call last)",
      "\u001b[1;32m<ipython-input-3-d488010de307>\u001b[0m in \u001b[0;36m<module>\u001b[1;34m\u001b[0m\n\u001b[1;32m----> 1\u001b[1;33m \u001b[0mBisection\u001b[0m\u001b[1;33m(\u001b[0m\u001b[1;33m-\u001b[0m\u001b[1;36m2\u001b[0m\u001b[1;33m,\u001b[0m\u001b[1;36m2\u001b[0m\u001b[1;33m,\u001b[0m\u001b[1;36m1e-5\u001b[0m\u001b[1;33m,\u001b[0m\u001b[1;36m1000\u001b[0m\u001b[1;33m)\u001b[0m\u001b[1;33m\u001b[0m\u001b[1;33m\u001b[0m\u001b[0m\n\u001b[0m",
      "\u001b[1;32m<ipython-input-2-99abba6f1559>\u001b[0m in \u001b[0;36mBisection\u001b[1;34m(a, b, tol, maxiter)\u001b[0m\n\u001b[0;32m      3\u001b[0m         \u001b[0mm\u001b[0m\u001b[1;33m=\u001b[0m\u001b[1;33m(\u001b[0m\u001b[0ma\u001b[0m\u001b[1;33m+\u001b[0m\u001b[0mb\u001b[0m\u001b[1;33m)\u001b[0m\u001b[1;33m/\u001b[0m\u001b[1;36m2\u001b[0m\u001b[1;33m\u001b[0m\u001b[1;33m\u001b[0m\u001b[0m\n\u001b[0;32m      4\u001b[0m         \u001b[0mprint\u001b[0m\u001b[1;33m(\u001b[0m\u001b[0mm\u001b[0m\u001b[1;33m)\u001b[0m\u001b[1;33m\u001b[0m\u001b[1;33m\u001b[0m\u001b[0m\n\u001b[1;32m----> 5\u001b[1;33m         \u001b[1;32mif\u001b[0m \u001b[0mf\u001b[0m\u001b[1;33m(\u001b[0m\u001b[0mm\u001b[0m\u001b[1;33m)\u001b[0m\u001b[1;33m*\u001b[0m\u001b[0mf\u001b[0m\u001b[1;33m(\u001b[0m\u001b[0ma\u001b[0m\u001b[1;33m)\u001b[0m\u001b[1;33m>\u001b[0m\u001b[1;36m0\u001b[0m\u001b[1;33m:\u001b[0m\u001b[1;33m\u001b[0m\u001b[1;33m\u001b[0m\u001b[0m\n\u001b[0m\u001b[0;32m      6\u001b[0m             \u001b[0ma\u001b[0m\u001b[1;33m=\u001b[0m\u001b[0mm\u001b[0m\u001b[1;33m\u001b[0m\u001b[1;33m\u001b[0m\u001b[0m\n\u001b[0;32m      7\u001b[0m         \u001b[1;32melse\u001b[0m\u001b[1;33m:\u001b[0m\u001b[1;33m\u001b[0m\u001b[1;33m\u001b[0m\u001b[0m\n",
      "\u001b[1;31mNameError\u001b[0m: name 'f' is not defined"
     ]
    }
   ],
   "source": [
    "Bisection(-2,2,1e-5,1000)"
   ]
  },
  {
   "cell_type": "code",
   "execution_count": 128,
   "metadata": {},
   "outputs": [
    {
     "data": {
      "text/latex": [
       "$\\displaystyle x$"
      ],
      "text/plain": [
       "x"
      ]
     },
     "execution_count": 128,
     "metadata": {},
     "output_type": "execute_result"
    }
   ],
   "source": [
    "x=sp.var('x')\n",
    "x"
   ]
  },
  {
   "cell_type": "code",
   "execution_count": 136,
   "metadata": {},
   "outputs": [],
   "source": [
    "y=x**3+2*x-9"
   ]
  },
  {
   "cell_type": "code",
   "execution_count": 137,
   "metadata": {},
   "outputs": [
    {
     "data": {
      "text/latex": [
       "$\\displaystyle x^{3} + 2 x - 9$"
      ],
      "text/plain": [
       "x**3 + 2*x - 9"
      ]
     },
     "execution_count": 137,
     "metadata": {},
     "output_type": "execute_result"
    }
   ],
   "source": [
    "y"
   ]
  },
  {
   "cell_type": "code",
   "execution_count": 138,
   "metadata": {},
   "outputs": [
    {
     "data": {
      "text/latex": [
       "$\\displaystyle 3 x^{2} + 2$"
      ],
      "text/plain": [
       "3*x**2 + 2"
      ]
     },
     "execution_count": 138,
     "metadata": {},
     "output_type": "execute_result"
    }
   ],
   "source": [
    "y.diff(x)"
   ]
  },
  {
   "cell_type": "code",
   "execution_count": 132,
   "metadata": {},
   "outputs": [],
   "source": [
    "def f(a):\n",
    "    return float(y.subs(x,a))\n",
    "def df(a):\n",
    "    return float(y.diff(x).subs(x,a))"
   ]
  },
  {
   "cell_type": "code",
   "execution_count": 44,
   "metadata": {},
   "outputs": [
    {
     "data": {
      "text/plain": [
       "0.0"
      ]
     },
     "execution_count": 44,
     "metadata": {},
     "output_type": "execute_result"
    }
   ],
   "source": [
    "df(1)"
   ]
  },
  {
   "cell_type": "code",
   "execution_count": 47,
   "metadata": {},
   "outputs": [],
   "source": [
    "def Newton(x0,tol,maxiter):\n",
    "    xnew=x0\n",
    "    for i in range(maxiter):\n",
    "        xold=xnew\n",
    "        xnew=xold-f(xold)/df(xold)\n",
    "        print(xnew)\n",
    "        if abs(f(xnew))<tol:\n",
    "            return xnew,i+1"
   ]
  },
  {
   "cell_type": "code",
   "execution_count": 139,
   "metadata": {},
   "outputs": [
    {
     "name": "stdout",
     "output_type": "stream",
     "text": [
      "4.5\n",
      "3.047808764940239\n",
      "2.197144764443793\n",
      "1.833064968446342\n",
      "1.7647342327842843\n",
      "1.7624987129175251\n",
      "1.7624963764579105\n"
     ]
    },
    {
     "data": {
      "text/plain": [
       "(1.7624963764579105, 7)"
      ]
     },
     "execution_count": 139,
     "metadata": {},
     "output_type": "execute_result"
    }
   ],
   "source": [
    "Newton(0,1e-5,10)"
   ]
  },
  {
   "cell_type": "code",
   "execution_count": 133,
   "metadata": {},
   "outputs": [],
   "source": [
    "def Secant(x1,x2,tol,maxiter):\n",
    "    for i in range(maxiter):\n",
    "        d=(f(x1)-f(x2))/(x1-x2)\n",
    "        print(d)\n",
    "        xnew=x2-f(x2)/d\n",
    "        print(xnew)\n",
    "        if abs(f(xnew))<tol:\n",
    "            return xnew,i+1\n",
    "        x1=x2\n",
    "        x2=xnew"
   ]
  },
  {
   "cell_type": "code",
   "execution_count": 135,
   "metadata": {},
   "outputs": [
    {
     "name": "stdout",
     "output_type": "stream",
     "text": [
      "-1.0\n",
      "8.0\n",
      "62.0\n",
      "-0.12903225806451601\n",
      "60.984391259105095\n",
      "-0.26440978739378207\n",
      "-1.879320748787366\n",
      "4.263999757164432\n",
      "15.12416319552897\n",
      "-0.8271076309750285\n",
      "13.339014224689086\n",
      "-1.5084462187659358\n",
      "2.207164406583105\n",
      "-4.944782366606592\n",
      "32.18522091154093\n",
      "-1.7440996839204703\n",
      "34.116949723209046\n",
      "-1.9253248815220576\n",
      "8.106718124166251\n",
      "-2.506782049392239\n"
     ]
    }
   ],
   "source": [
    "Secant(1,0,1e-5,10)"
   ]
  },
  {
   "cell_type": "code",
   "execution_count": 62,
   "metadata": {},
   "outputs": [],
   "source": [
    "x1=sp.var('x1')\n",
    "x2=sp.var('x2')"
   ]
  },
  {
   "cell_type": "code",
   "execution_count": 118,
   "metadata": {},
   "outputs": [],
   "source": [
    "f1=(1)*(x1**2)+(-3)*(x1)+(0)*(1)+(-3)*(x2**2)+(-1)*(x2)+(-1)*(x1*x2)\n",
    "f2=(-2)*(x1**2)+(-1)*(x1)+(-2)*(1)+(0)*(x2**2)+(-2)*(x2)+(0)*(x1*x2)\n",
    "df11=f1.diff(x1)\n",
    "df12=f1.diff(x2)\n",
    "df21=f2.diff(x1)\n",
    "df22=f2.diff(x2)"
   ]
  },
  {
   "cell_type": "code",
   "execution_count": 119,
   "metadata": {
    "scrolled": true
   },
   "outputs": [
    {
     "name": "stdout",
     "output_type": "stream",
     "text": [
      "x1**2 - x1*x2 - 3*x1 - 3*x2**2 - x2\n",
      "-2*x1**2 - x1 - 2*x2 - 2\n",
      "2*x1 - x2 - 3\n",
      "-x1 - 6*x2 - 1\n",
      "-4*x1 - 1\n",
      "-2\n"
     ]
    }
   ],
   "source": [
    "print(f1)\n",
    "print(f2)\n",
    "print(df11)\n",
    "print(df12)\n",
    "print(df21)\n",
    "print(df22)"
   ]
  },
  {
   "cell_type": "code",
   "execution_count": 120,
   "metadata": {},
   "outputs": [],
   "source": [
    "def F_f1(a,b):\n",
    "    return float(f1.subs(x1,a).subs(x2,b))\n",
    "def F_f2(a,b):\n",
    "    return float(f2.subs(x1,a).subs(x2,b))\n",
    "def F_df11(a,b):\n",
    "    return float(df11.subs(x1,a).subs(x2,b))\n",
    "def F_df12(a,b):\n",
    "    return float(df12.subs(x1,a).subs(x2,b))\n",
    "def F_df21(a,b):\n",
    "    return float(df21.subs(x1,a).subs(x2,b))\n",
    "def F_df22(a,b):\n",
    "    return float(df22.subs(x1,a).subs(x2,b))"
   ]
  },
  {
   "cell_type": "code",
   "execution_count": 110,
   "metadata": {},
   "outputs": [
    {
     "data": {
      "text/plain": [
       "6.0"
      ]
     },
     "execution_count": 110,
     "metadata": {},
     "output_type": "execute_result"
    }
   ],
   "source": [
    "F_df11(1,2)"
   ]
  },
  {
   "cell_type": "code",
   "execution_count": 124,
   "metadata": {},
   "outputs": [],
   "source": [
    "def system_Newton(xnew,tol,maxiter):\n",
    "    for i in range(maxiter):\n",
    "        xold=xnew\n",
    "        a=xold[0]\n",
    "        b=xold[1]\n",
    "        J=np.array([[F_df11(a,b),F_df12(a,b)],[F_df21(a,b),F_df22(a,b)]])\n",
    "        print(J)\n",
    "        f=np.array([F_f1(a,b),F_f2(a,b)])\n",
    "        if sum(abs(f))<tol:\n",
    "            return xnew,i\n",
    "        s=la.solve(J,-f)\n",
    "        xnew=s+xold\n",
    "        print(xnew)"
   ]
  },
  {
   "cell_type": "code",
   "execution_count": 125,
   "metadata": {
    "collapsed": true
   },
   "outputs": [
    {
     "name": "stdout",
     "output_type": "stream",
     "text": [
      "[[ -5. -13.]\n",
      " [ -1.  -2.]]\n",
      "[-16.66666667   7.33333333]\n",
      "[[-43.66666667 -28.33333333]\n",
      " [ 65.66666667  -2.        ]]\n",
      "[-8.29688362  4.3634324 ]\n",
      "[[-23.95719963 -18.88371076]\n",
      " [ 32.18753446  -2.        ]]\n",
      "[-4.05335079  2.60459361]\n",
      "[[-13.71129519 -12.57421087]\n",
      " [ 15.21340316  -2.        ]]\n",
      "[-1.83478205  1.47301313]\n",
      "[[-8.14257722 -8.00329672]\n",
      " [ 6.33912819 -2.        ]]\n",
      "[-0.55205125  0.61666335]\n",
      "[[-4.72076584 -4.14792883]\n",
      " [ 1.20820499 -2.        ]]\n",
      "[ 0.4676421  -0.41273566]\n",
      "[[-1.65198014  1.00877186]\n",
      " [-2.87056839 -2.        ]]\n",
      "[-0.22220848 -0.46237855]\n",
      "[[-2.98203841  1.99647977]\n",
      " [-0.11116608 -2.        ]]\n",
      "[-0.38899041 -0.92900212]\n",
      "[[-2.8489787   4.96300314]\n",
      " [ 0.55596165 -2.        ]]\n",
      "[-0.96153449 -1.11597461]\n",
      "[[-3.80709438  6.65738216]\n",
      " [ 2.84613797 -2.        ]]\n",
      "[-0.59687598 -0.92484712]\n"
     ]
    }
   ],
   "source": [
    "x=np.array([0,2])\n",
    "system_Newton(x,1e-5,10)"
   ]
  },
  {
   "cell_type": "code",
   "execution_count": 13,
   "metadata": {},
   "outputs": [],
   "source": [
    "def system_Newton(xnew,tol,maxiter):\n",
    "    for i in range(maxiter):\n",
    "        xold=xnew\n",
    "        a=xold[0]\n",
    "        b=xold[1]\n",
    "        j=J(a,b)\n",
    "        fv=f(a,b)\n",
    "        r=la.norm(fv,2)\n",
    "        if r<tol:\n",
    "            return xnew,r\n",
    "        s=la.solve(j,-fv)\n",
    "        xnew=s+xold\n",
    "    return xnew,r"
   ]
  },
  {
   "cell_type": "code",
   "execution_count": 4,
   "metadata": {},
   "outputs": [],
   "source": [
    "def system_Newton(xi,tol):\n",
    "    xo=xi\n",
    "    a=xo[0]\n",
    "    b=xo[1]\n",
    "    while la.norm(f(xo),2)>tol:\n",
    "        s=la.solve(J,-f)\n",
    "        xo=s+xo\n",
    "    return xo,la.norm(f(xo),2)"
   ]
  },
  {
   "cell_type": "code",
   "execution_count": 11,
   "metadata": {},
   "outputs": [
    {
     "data": {
      "text/plain": [
       "array([-0.64942529,  1.48275862])"
      ]
     },
     "execution_count": 11,
     "metadata": {},
     "output_type": "execute_result"
    }
   ],
   "source": [
    "J=np.array([[6.,6.],[-24.,5.]])\n",
    "f=np.array([-5.,6.])\n",
    "np.array([-1,1])+la.solve(J,-f)"
   ]
  },
  {
   "cell_type": "code",
   "execution_count": 10,
   "metadata": {},
   "outputs": [
    {
     "data": {
      "text/plain": [
       "array([[  6.,   6.],\n",
       "       [-24.,   5.]])"
      ]
     },
     "execution_count": 10,
     "metadata": {},
     "output_type": "execute_result"
    }
   ],
   "source": [
    "J"
   ]
  },
  {
   "cell_type": "code",
   "execution_count": null,
   "metadata": {},
   "outputs": [],
   "source": []
  },
  {
   "cell_type": "code",
   "execution_count": null,
   "metadata": {},
   "outputs": [],
   "source": []
  },
  {
   "cell_type": "code",
   "execution_count": null,
   "metadata": {},
   "outputs": [],
   "source": []
  },
  {
   "cell_type": "code",
   "execution_count": null,
   "metadata": {},
   "outputs": [],
   "source": []
  },
  {
   "cell_type": "code",
   "execution_count": null,
   "metadata": {},
   "outputs": [],
   "source": []
  }
 ],
 "metadata": {
  "kernelspec": {
   "display_name": "Python 3",
   "language": "python",
   "name": "python3"
  },
  "language_info": {
   "codemirror_mode": {
    "name": "ipython",
    "version": 3
   },
   "file_extension": ".py",
   "mimetype": "text/x-python",
   "name": "python",
   "nbconvert_exporter": "python",
   "pygments_lexer": "ipython3",
   "version": "3.8.3"
  }
 },
 "nbformat": 4,
 "nbformat_minor": 4
}
