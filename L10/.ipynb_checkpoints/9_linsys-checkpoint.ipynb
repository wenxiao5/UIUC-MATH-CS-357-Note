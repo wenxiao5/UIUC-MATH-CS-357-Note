{
 "cells": [
  {
   "cell_type": "markdown",
   "metadata": {
    "id": "EzAOx6jGLj3A"
   },
   "source": [
    "# Solving linear system of equations"
   ]
  },
  {
   "cell_type": "markdown",
   "metadata": {
    "id": "oPMFWYz8Lj3C"
   },
   "source": [
    "Useful libraries for this notebook:"
   ]
  },
  {
   "cell_type": "code",
   "execution_count": 37,
   "metadata": {
    "id": "UYSzymZTLj3D"
   },
   "outputs": [],
   "source": [
    "import numpy as np\n",
    "import numpy.linalg as la\n",
    "import scipy.linalg as sla\n",
    "import scipy.sparse as sparse\n",
    "\n",
    "import matplotlib.pyplot as plt\n",
    "%matplotlib inline\n",
    "\n",
    "from PIL import Image\n",
    "\n",
    "import seaborn as sns\n",
    "sns.set(font_scale=2)\n",
    "plt.style.use('seaborn-whitegrid')\n",
    "\n",
    "from time import time\n"
   ]
  },
  {
   "cell_type": "code",
   "execution_count": 27,
   "metadata": {},
   "outputs": [
    {
     "data": {
      "text/plain": [
       "(1, 8)"
      ]
     },
     "execution_count": 27,
     "metadata": {},
     "output_type": "execute_result"
    }
   ],
   "source": [
    "x=np.array([4,5,6,7,2,3,45,8])\n",
    "y=np.atleast_2d(x)#将输入的数据转化为至少二维\n",
    "y.shape"
   ]
  },
  {
   "cell_type": "markdown",
   "metadata": {
    "id": "MGnO0noSLj3P"
   },
   "source": [
    "## 1) Transforming images using linear operators:"
   ]
  },
  {
   "cell_type": "markdown",
   "metadata": {
    "id": "8-N0eEUILj3Q"
   },
   "source": [
    "### Import an image of a Social Security Number"
   ]
  },
  {
   "cell_type": "code",
   "execution_count": null,
   "metadata": {
    "id": "_EU4cfDdLj3R"
   },
   "outputs": [],
   "source": [
    "img = Image.open('figures/ssn.png')\n",
    "xmat = (255 - np.asarray(img).max(axis=2))/255"
   ]
  },
  {
   "cell_type": "code",
   "execution_count": null,
   "metadata": {
    "id": "ZS_BsGkTLj3W",
    "outputId": "0960ac60-2c27-4631-c0e4-5744ee7f494b"
   },
   "outputs": [
    {
     "name": "stdout",
     "output_type": "stream",
     "text": [
      "(40, 100)\n",
      "0.0 1.0\n"
     ]
    }
   ],
   "source": [
    "print(xmat.shape)\n",
    "print(xmat.min(),xmat.max())\n"
   ]
  },
  {
   "cell_type": "code",
   "execution_count": null,
   "metadata": {
    "id": "SwvGkEDtLj3c",
    "outputId": "fb136466-08c8-4280-85f9-ea227d4968c9"
   },
   "outputs": [
    {
     "data": {
      "image/png": "[encoded data removed]",
      "text/plain": [
       "<Figure size 432x288 with 1 Axes>"
      ]
     },
     "metadata": {
      "tags": []
     },
     "output_type": "display_data"
    }
   ],
   "source": [
    "plt.imshow(xmat);"
   ]
  },
  {
   "cell_type": "markdown",
   "metadata": {
    "id": "kNpCf9rHLj3g"
   },
   "source": [
    "#### \"Vectorize\" the image, creating the 1d array `x`"
   ]
  },
  {
   "cell_type": "code",
   "execution_count": null,
   "metadata": {
    "id": "X76i4UW-Lj3h",
    "outputId": "25532a40-7be1-41e6-e810-dcf760b90fc0"
   },
   "outputs": [
    {
     "data": {
      "text/plain": [
       "(4000,)"
      ]
     },
     "execution_count": 5,
     "metadata": {
      "tags": []
     },
     "output_type": "execute_result"
    }
   ],
   "source": [
    "x = xmat.flatten()\n",
    "x.shape"
   ]
  },
  {
   "cell_type": "markdown",
   "metadata": {
    "id": "UZmdcbhlLj3p"
   },
   "source": [
    "### Construct a \"blur\" matrix\n",
    "More about this blur matrix on a later MP..."
   ]
  },
  {
   "cell_type": "code",
   "execution_count": null,
   "metadata": {
    "id": "mZlvYcISLj3q"
   },
   "outputs": [],
   "source": [
    "def blur_operator(m,n,radius):\n",
    "    imat, jmat = np.meshgrid(np.arange(m), np.arange(n), indexing='ij')\n",
    "    ivec = np.atleast_2d(imat.flatten())\n",
    "    jvec = np.atleast_2d(jmat.flatten())\n",
    "    A = np.fmax(0, 1 - np.sqrt((ivec.T - ivec)**2 + (jvec.T - jvec)**2)/radius)\n",
    "    A /= A.sum(axis=1)\n",
    "    return A"
   ]
  },
  {
   "cell_type": "code",
   "execution_count": null,
   "metadata": {
    "id": "Ca8fre8xLj3w"
   },
   "outputs": [],
   "source": [
    "A = blur_operator(xmat.shape[0],xmat.shape[1],5)"
   ]
  },
  {
   "cell_type": "markdown",
   "metadata": {
    "id": "VgBujq-0Lj3y"
   },
   "source": [
    "### Compute b = A x"
   ]
  },
  {
   "cell_type": "code",
   "execution_count": null,
   "metadata": {
    "id": "eAi8jbw7Lj3z",
    "outputId": "a2ec6ef0-c26b-4e59-8363-7f7a92aa35ee"
   },
   "outputs": [
    {
     "data": {
      "text/plain": [
       "(4000,)"
      ]
     },
     "execution_count": 8,
     "metadata": {
      "tags": []
     },
     "output_type": "execute_result"
    }
   ],
   "source": [
    "b = A @ x\n",
    "b.shape"
   ]
  },
  {
   "cell_type": "code",
   "execution_count": null,
   "metadata": {
    "id": "c-4kAr-GLj33",
    "outputId": "e7fe1a3b-ebd0-49ce-c50f-294829ed1021"
   },
   "outputs": [
    {
     "data": {
      "text/plain": [
       "<matplotlib.image.AxesImage at 0x7f8f102f5cd0>"
      ]
     },
     "execution_count": 9,
     "metadata": {
      "tags": []
     },
     "output_type": "execute_result"
    },
    {
     "data": {
      "image/png": "[encoded data removed]",
      "text/plain": [
       "<Figure size 432x288 with 1 Axes>"
      ]
     },
     "metadata": {
      "tags": []
     },
     "output_type": "display_data"
    }
   ],
   "source": [
    "b2D = b.reshape(xmat.shape)\n",
    "plt.imshow(b2D)"
   ]
  },
  {
   "cell_type": "markdown",
   "metadata": {
    "id": "MBYDuIDoLj39"
   },
   "source": [
    "### Assume we have the blurred image (b), solve for the unblurred one (x)\n",
    "\n",
    "In essence, we want $x = A^{-1} b$. Instead of evaluating the inverse, we can evaluate:"
   ]
  },
  {
   "cell_type": "markdown",
   "metadata": {
    "id": "WM9KMdFGLj39"
   },
   "source": [
    "#### a)  `np.linalg.solve`:"
   ]
  },
  {
   "cell_type": "code",
   "execution_count": null,
   "metadata": {
    "id": "Nld9KLrkLj3-"
   },
   "outputs": [],
   "source": [
    "x_solve1 = la.solve(A,b)"
   ]
  },
  {
   "cell_type": "code",
   "execution_count": null,
   "metadata": {
    "id": "39iv90uELj4A",
    "outputId": "778d2e16-e5f5-452e-a28d-ed99e36bf3eb"
   },
   "outputs": [
    {
     "data": {
      "text/plain": [
       "<matplotlib.image.AxesImage at 0x7f8f1028a2e0>"
      ]
     },
     "execution_count": 11,
     "metadata": {
      "tags": []
     },
     "output_type": "execute_result"
    },
    {
     "data": {
      "image/png": "[encoded data removed]",
      "text/plain": [
       "<Figure size 432x288 with 1 Axes>"
      ]
     },
     "metadata": {
      "tags": []
     },
     "output_type": "display_data"
    }
   ],
   "source": [
    "plt.imshow(x_solve1.reshape(xmat.shape))"
   ]
  },
  {
   "cell_type": "markdown",
   "metadata": {
    "id": "oWlh4aWULj4D"
   },
   "source": [
    "Voila! We have our recovered original image :-)"
   ]
  },
  {
   "cell_type": "markdown",
   "metadata": {
    "id": "hrCrsa9OLj4E"
   },
   "source": [
    "We can check the results with inverse (but we will avoid using inverse in this course. More to come on that soon!)"
   ]
  },
  {
   "cell_type": "code",
   "execution_count": null,
   "metadata": {
    "id": "cpixR3UhLj4F",
    "outputId": "dd748ed3-07b0-4ed8-ee51-ad9edbdd36d7"
   },
   "outputs": [
    {
     "data": {
      "text/plain": [
       "4000"
      ]
     },
     "execution_count": 12,
     "metadata": {
      "tags": []
     },
     "output_type": "execute_result"
    }
   ],
   "source": [
    "xx = la.inv(A)@b\n",
    "np.isclose(xx, x_solve1, rtol=1e-05, atol=1e-08, equal_nan=False).sum()"
   ]
  },
  {
   "cell_type": "markdown",
   "metadata": {
    "id": "htte6nGvLj4M"
   },
   "source": [
    "### Now add some noise"
   ]
  },
  {
   "cell_type": "code",
   "execution_count": null,
   "metadata": {
    "id": "6KV869BGLj4M",
    "outputId": "5b55193c-b901-470c-b307-569966080cfe"
   },
   "outputs": [
    {
     "data": {
      "text/plain": [
       "<matplotlib.image.AxesImage at 0x7f8efc4771f0>"
      ]
     },
     "execution_count": 13,
     "metadata": {
      "tags": []
     },
     "output_type": "execute_result"
    },
    {
     "data": {
      "image/png": "[encoded data removed]",
      "text/plain": [
       "<Figure size 432x288 with 1 Axes>"
      ]
     },
     "metadata": {
      "tags": []
     },
     "output_type": "display_data"
    }
   ],
   "source": [
    "b_noisy = b + 1e-6 * np.random.rand(b.size)\n",
    "\n",
    "x_noisy = la.solve(A,b_noisy)\n",
    "\n",
    "plt.imshow(x_noisy.reshape(xmat.shape))\n"
   ]
  },
  {
   "cell_type": "markdown",
   "metadata": {
    "collapsed": true,
    "id": "5IuGGKEpLj4T"
   },
   "source": [
    "What happened to your solution. We will soon be talking about conditioning of matrices. "
   ]
  },
  {
   "cell_type": "markdown",
   "metadata": {
    "id": "JLhUh0L-Lj4U"
   },
   "source": [
    "## 2) Solving Triangular Systems"
   ]
  },
  {
   "cell_type": "markdown",
   "metadata": {
    "id": "gwnlzD8cLj4V"
   },
   "source": [
    "https://docs.scipy.org/doc/scipy/reference/generated/scipy.linalg.solve_triangular.html"
   ]
  },
  {
   "cell_type": "markdown",
   "metadata": {
    "id": "HxMLVpJzLj4W"
   },
   "source": [
    "#### Forward-substitution:"
   ]
  },
  {
   "cell_type": "code",
   "execution_count": 38,
   "metadata": {
    "id": "b50HRefkLj4Z"
   },
   "outputs": [],
   "source": [
    "M1 = np.array([[2,0,0,0],[3,2,0,0],[1,2,6,0],[1,3,4,2]])\n",
    "b1 = np.array([2,2,6,4])"
   ]
  },
  {
   "cell_type": "code",
   "execution_count": null,
   "metadata": {},
   "outputs": [],
   "source": []
  },
  {
   "cell_type": "code",
   "execution_count": null,
   "metadata": {},
   "outputs": [],
   "source": []
  },
  {
   "cell_type": "code",
   "execution_count": 32,
   "metadata": {},
   "outputs": [
    {
     "data": {
      "text/plain": [
       "array([ 1.  , -0.5 ,  1.  ,  0.25])"
      ]
     },
     "execution_count": 32,
     "metadata": {},
     "output_type": "execute_result"
    }
   ],
   "source": [
    "la.solve(M1,b1)"
   ]
  },
  {
   "cell_type": "code",
   "execution_count": 29,
   "metadata": {
    "id": "PDXjsAeWLj4d"
   },
   "outputs": [],
   "source": [
    "def my_forward_substitution(M,b):\n",
    "    n = len(b)\n",
    "    y = np.zeros(n)\n",
    "    for i in range(n):\n",
    "        tmp = b[i]\n",
    "        for j in range(i):\n",
    "            tmp -= y[j]*M[i,j]\n",
    "        y[i]=tmp/M[i,i]\n",
    "    return y"
   ]
  },
  {
   "cell_type": "code",
   "execution_count": 30,
   "metadata": {
    "id": "2kJOoVh_Lj4m",
    "outputId": "5bb7d0e2-a62a-4bf5-ec77-4f18fc04e0e8"
   },
   "outputs": [
    {
     "data": {
      "text/plain": [
       "array([ 1.  , -0.5 ,  1.  ,  0.25])"
      ]
     },
     "execution_count": 30,
     "metadata": {},
     "output_type": "execute_result"
    }
   ],
   "source": [
    "my_forward_substitution(M1,b1)"
   ]
  },
  {
   "cell_type": "code",
   "execution_count": 31,
   "metadata": {
    "id": "BQh9dk--Lj4q",
    "outputId": "d74d42f9-2df9-43cc-f9ba-cdceba355922",
    "scrolled": true
   },
   "outputs": [
    {
     "data": {
      "text/plain": [
       "array([ 1.  , -0.5 ,  1.  ,  0.25])"
      ]
     },
     "execution_count": 31,
     "metadata": {},
     "output_type": "execute_result"
    }
   ],
   "source": [
    "sla.solve_triangular(M1, b1, lower=True)"
   ]
  },
  {
   "cell_type": "markdown",
   "metadata": {
    "id": "LzKqdA4OLj4s"
   },
   "source": [
    "#### Backward-substitution:"
   ]
  },
  {
   "cell_type": "code",
   "execution_count": 33,
   "metadata": {
    "id": "yCUSZzoNLj4t"
   },
   "outputs": [],
   "source": [
    "M2 = np.array([[2,8,4,2],[0,4,4,3],[0,0,6,2],[0,0,0,2]])\n",
    "b2 = np.array([2,4,4,1])"
   ]
  },
  {
   "cell_type": "code",
   "execution_count": 34,
   "metadata": {
    "id": "D0nQq-O_Lj4v"
   },
   "outputs": [],
   "source": [
    "def my_backward_substitution(M,b):\n",
    "    n = len(b)\n",
    "    y = np.zeros(n)\n",
    "    for i in range(n-1, -1, -1):\n",
    "        tmp = b[i]\n",
    "        for j in range(i+1, n):\n",
    "            tmp -= y[j]*M[i,j]\n",
    "        y[i] = tmp/M[i,i]\n",
    "    return y"
   ]
  },
  {
   "cell_type": "code",
   "execution_count": 35,
   "metadata": {
    "id": "6qrIcUCuLj4x",
    "outputId": "86657edb-6128-448c-93e8-6bf1c8859cec"
   },
   "outputs": [
    {
     "data": {
      "text/plain": [
       "array([-1.   ,  0.125,  0.5  ,  0.5  ])"
      ]
     },
     "execution_count": 35,
     "metadata": {},
     "output_type": "execute_result"
    }
   ],
   "source": [
    "my_backward_substitution(M2,b2)"
   ]
  },
  {
   "cell_type": "code",
   "execution_count": 36,
   "metadata": {
    "id": "mIoo1B0nLj4z",
    "outputId": "63e12709-380f-4125-a374-8727dcc248be"
   },
   "outputs": [
    {
     "data": {
      "text/plain": [
       "array([-1.   ,  0.125,  0.5  ,  0.5  ])"
      ]
     },
     "execution_count": 36,
     "metadata": {},
     "output_type": "execute_result"
    }
   ],
   "source": [
    "sla.solve_triangular(M2, b2)"
   ]
  },
  {
   "cell_type": "markdown",
   "metadata": {
    "id": "_U4DBFglLj43"
   },
   "source": [
    "## 3) LU Factorization (without pivoting)"
   ]
  },
  {
   "cell_type": "markdown",
   "metadata": {
    "id": "CVfiwatgLj44"
   },
   "source": [
    "### Factorize and solve resulting triangular systems"
   ]
  },
  {
   "cell_type": "markdown",
   "metadata": {
    "id": "LuiRMQcYLj45"
   },
   "source": [
    "1) Factorize:\n",
    "\n",
    "$$A = L U$$\n",
    "\n",
    "to solve $Ax=b$\n",
    "\n",
    "2) Forward substitution:\n",
    "\n",
    "$y \\leftarrow \\text{solve}\\,\\, L y = b$\n",
    "    \n",
    "$$ y_i = b_i - \\sum_{j=1}^{i-1} L_{ij} y_j \\quad i=1,2,3,...,n$$\n",
    "\n",
    "Backward substitution:\n",
    "    \n",
    "$x \\leftarrow \\text{solve}\\,\\, U x = y$\n",
    "\n",
    "$$ x_i = y_i - \\sum_{j=i+1}^{n} U_{ij} x_j \\quad i=n, n-1, n-2, ..., 1$$"
   ]
  },
  {
   "cell_type": "markdown",
   "metadata": {
    "id": "57d13il3Lj46"
   },
   "source": [
    "#### What is happening inside \"solve\"?\n",
    "\n",
    "A factorization and substitutions. For example, let's think of LU factorization:\n",
    "\n",
    "If $Ax = P L U x = b$, then there are two steps:\n",
    "1. $y \\leftarrow \\text{solve}\\,\\, L y = P^Tb$\n",
    "2. $x \\leftarrow \\text{solve}\\,\\, U x = y$"
   ]
  },
  {
   "cell_type": "markdown",
   "metadata": {
    "id": "yJbrCBGRLj47"
   },
   "source": [
    "####  LU factorization and triangular substitutions:"
   ]
  },
  {
   "cell_type": "code",
   "execution_count": null,
   "metadata": {
    "id": "9ZbbrTEnLj47"
   },
   "outputs": [],
   "source": [
    "import scipy.linalg as sla\n",
    "P, L, U = sla.lu(A)"
   ]
  },
  {
   "cell_type": "code",
   "execution_count": null,
   "metadata": {
    "id": "vwAwEXKpLj4-",
    "outputId": "dd93d328-c79a-498b-88d7-6fe98976cb08"
   },
   "outputs": [
    {
     "data": {
      "text/plain": [
       "<matplotlib.image.AxesImage at 0x7f8efc65ed90>"
      ]
     },
     "execution_count": 23,
     "metadata": {
      "tags": []
     },
     "output_type": "execute_result"
    },
    {
     "data": {
      "image/png": "[encoded data removed]",
      "text/plain": [
       "<Figure size 432x288 with 1 Axes>"
      ]
     },
     "metadata": {
      "tags": []
     },
     "output_type": "display_data"
    }
   ],
   "source": [
    "y = sla.solve_triangular(L, P.T@b, lower=True)\n",
    "\n",
    "x_solve = sla.solve_triangular(U, y)\n",
    "\n",
    "plt.imshow(x_solve.reshape(xmat.shape))"
   ]
  },
  {
   "cell_type": "markdown",
   "metadata": {
    "id": "Cr6klrc6Lj5A"
   },
   "source": [
    "#### Why not just `np.linalg.solve`?"
   ]
  },
  {
   "cell_type": "markdown",
   "metadata": {
    "id": "CzvYgo1SLj5A"
   },
   "source": [
    "Suppose you have many social security numbers to un-blur. You should factorize your blur matrix only once and then perform several triangular solves.\n",
    "\n",
    "Let's time:\n",
    "\n",
    "1. solve including factorization\n",
    "2. factorization\n",
    "3. solve, given a factorization"
   ]
  },
  {
   "cell_type": "code",
   "execution_count": null,
   "metadata": {
    "id": "Qq50OB4_Lj5B"
   },
   "outputs": [],
   "source": [
    "%timeit sla.solve(A, b)"
   ]
  },
  {
   "cell_type": "code",
   "execution_count": null,
   "metadata": {
    "id": "y4j3PXFjLj5D"
   },
   "outputs": [],
   "source": [
    "%timeit P, L, U = sla.lu(A)"
   ]
  },
  {
   "cell_type": "code",
   "execution_count": null,
   "metadata": {
    "id": "WcWyToHqLj5F"
   },
   "outputs": [],
   "source": [
    "%timeit sla.solve_triangular(U, y)"
   ]
  },
  {
   "cell_type": "markdown",
   "metadata": {
    "id": "KaAoOnQ3Lj5I"
   },
   "source": [
    "### Let's take a look at the matrix format"
   ]
  },
  {
   "cell_type": "code",
   "execution_count": null,
   "metadata": {
    "id": "CewAZ7dcLj5I",
    "outputId": "3faea79e-daf0-40c6-d4c3-4018b98f5800"
   },
   "outputs": [
    {
     "data": {
      "image/png": "[encoded data removed]",
      "text/plain": [
       "<Figure size 864x432 with 3 Axes>"
      ]
     },
     "metadata": {
      "tags": []
     },
     "output_type": "display_data"
    }
   ],
   "source": [
    "plt.figure(figsize=(12,6))\n",
    "plt.subplot(131)\n",
    "plt.spy(A); plt.xticks([]); plt.yticks([]);\n",
    "\n",
    "plt.subplot(132)\n",
    "plt.spy(L); plt.xticks([]); plt.yticks([]);\n",
    "\n",
    "plt.subplot(133)\n",
    "plt.spy(U); plt.xticks([]); plt.yticks([]);"
   ]
  },
  {
   "cell_type": "markdown",
   "metadata": {
    "id": "YEfP1cDFLj5K"
   },
   "source": [
    "Note that many entries of the matrices are zeros! We don't need to store all of the zeros. In fact, we can even use solvers that efficiently take into account the format of the matrices."
   ]
  },
  {
   "cell_type": "code",
   "execution_count": null,
   "metadata": {
    "id": "bWBBFmAWLj5L"
   },
   "outputs": [],
   "source": [
    " A_csr = sparse.csr_matrix(A)"
   ]
  },
  {
   "cell_type": "code",
   "execution_count": null,
   "metadata": {
    "id": "jMkBeGGuLj5N",
    "outputId": "ed07d0f3-f68e-4fe2-d95d-4dc712a9792f"
   },
   "outputs": [
    {
     "name": "stdout",
     "output_type": "stream",
     "text": [
      "413 ms ± 40.4 ms per loop (mean ± std. dev. of 7 runs, 1 loop each)\n"
     ]
    }
   ],
   "source": [
    "%timeit sparse.linalg.spsolve(A_csr,b)"
   ]
  },
  {
   "cell_type": "code",
   "execution_count": null,
   "metadata": {
    "id": "wFynPB5nLj5P",
    "outputId": "d908e7e2-b09c-43ed-fd2d-a404763397d0"
   },
   "outputs": [
    {
     "data": {
      "text/plain": [
       "<matplotlib.image.AxesImage at 0x7f8ed85e2520>"
      ]
     },
     "execution_count": 30,
     "metadata": {
      "tags": []
     },
     "output_type": "execute_result"
    },
    {
     "data": {
      "image/png": "[encoded data removed]",
      "text/plain": [
       "<Figure size 432x288 with 1 Axes>"
      ]
     },
     "metadata": {
      "tags": []
     },
     "output_type": "display_data"
    }
   ],
   "source": [
    "x_solve_3 = sparse.linalg.spsolve(A_csr,b)\n",
    "plt.imshow(x_solve_3.reshape(xmat.shape))"
   ]
  },
  {
   "cell_type": "markdown",
   "metadata": {
    "id": "5BxjQfcPLj5R"
   },
   "source": [
    "This is just a teaser :-) We will talk more later about sparse systems."
   ]
  },
  {
   "cell_type": "markdown",
   "metadata": {
    "id": "_MF1qFI3Lj5S"
   },
   "source": [
    "## 4) Example:  Topology design optimization"
   ]
  },
  {
   "cell_type": "markdown",
   "metadata": {
    "id": "PnQjsAVgLj5S"
   },
   "source": [
    "![](https://github.com/cs357/demos-cs357/blob/master/figures/myfigure.png?raw=1)"
   ]
  },
  {
   "cell_type": "markdown",
   "metadata": {
    "id": "nqLI8v2oLj5S"
   },
   "source": [
    "When performing optimization of structural problem, for example to obtain the bridge design above, you may want to use a numerical method called Finite Element Method (you will learn this in a future MP). The optimization will consist of a series of `solve` of the form:\n",
    "$$ {\\bf K} {\\bf u} = {\\bf F} $$\n",
    "\n",
    "Here will load the matrix $ {\\bf K}$ from a file. The matrix is given in Compressed Sparse Column (CSC) format."
   ]
  },
  {
   "cell_type": "code",
   "execution_count": null,
   "metadata": {
    "id": "PujBKzhILj5T",
    "outputId": "26bb7993-5c48-4431-d69f-20aea2d42ab8"
   },
   "outputs": [
    {
     "data": {
      "text/plain": [
       "<6600x6600 sparse matrix of type '<class 'numpy.float64'>'\n",
       "\twith 105912 stored elements in Compressed Sparse Column format>"
      ]
     },
     "execution_count": 31,
     "metadata": {
      "tags": []
     },
     "output_type": "execute_result"
    }
   ],
   "source": [
    "K = sparse.load_npz('additional_files/yourmatrix.npz')\n",
    "K"
   ]
  },
  {
   "cell_type": "markdown",
   "metadata": {
    "id": "Un4zrcDSLj5U"
   },
   "source": [
    "We can `spy` the distribution of the non-zero entries of the matrix:"
   ]
  },
  {
   "cell_type": "code",
   "execution_count": null,
   "metadata": {
    "id": "pkI4V61lLj5V",
    "outputId": "a9cd487b-2190-42e3-ebe7-f9bb10c13bfa"
   },
   "outputs": [
    {
     "data": {
      "image/png": "[encoded data removed]",
      "text/plain": [
       "<Figure size 432x288 with 1 Axes>"
      ]
     },
     "metadata": {
      "tags": []
     },
     "output_type": "display_data"
    }
   ],
   "source": [
    "plt.spy(K)\n",
    "plt.show()"
   ]
  },
  {
   "cell_type": "markdown",
   "metadata": {
    "id": "fZOc-AvyLj5Y"
   },
   "source": [
    "The matrix ${\\bf K}$ has a banded format, and it is also symmetric and positive definite. "
   ]
  },
  {
   "cell_type": "code",
   "execution_count": null,
   "metadata": {
    "id": "W1hJiu5gLj5Y"
   },
   "outputs": [],
   "source": [
    "Kdense = K.todense()"
   ]
  },
  {
   "cell_type": "code",
   "execution_count": null,
   "metadata": {
    "id": "gFsTuv2JLj5b",
    "outputId": "f5551b32-4a13-4fcd-e45c-36d3a849071b"
   },
   "outputs": [
    {
     "data": {
      "text/plain": [
       "(6600, 6600)"
      ]
     },
     "execution_count": 34,
     "metadata": {
      "tags": []
     },
     "output_type": "execute_result"
    }
   ],
   "source": [
    "Kdense.shape"
   ]
  },
  {
   "cell_type": "markdown",
   "metadata": {
    "id": "gfDDd3StLj5d"
   },
   "source": [
    "### Solving the linear system of equations using different methods:"
   ]
  },
  {
   "cell_type": "code",
   "execution_count": null,
   "metadata": {
    "id": "b3J6ds5xLj5d"
   },
   "outputs": [],
   "source": [
    "F = np.zeros(K.shape[0])\n",
    "F[1]=-1"
   ]
  },
  {
   "cell_type": "markdown",
   "metadata": {
    "id": "89T3hTpgLj5g"
   },
   "source": [
    "#### a) la.solve"
   ]
  },
  {
   "cell_type": "code",
   "execution_count": null,
   "metadata": {
    "id": "O8XlFkcALj5g"
   },
   "outputs": [],
   "source": [
    "u1 = sla.solve(Kdense,F)\n",
    "u1.shape"
   ]
  },
  {
   "cell_type": "code",
   "execution_count": null,
   "metadata": {
    "id": "4vOEGXJ9Lj5j"
   },
   "outputs": [],
   "source": [
    "%timeit sla.solve(Kdense,F)"
   ]
  },
  {
   "cell_type": "markdown",
   "metadata": {
    "id": "P4fb8snxLj5n"
   },
   "source": [
    "#### b) LU factorization"
   ]
  },
  {
   "cell_type": "code",
   "execution_count": null,
   "metadata": {
    "id": "fH5qUlm-Lj5o"
   },
   "outputs": [],
   "source": [
    "P,L,U = sla.lu(Kdense)\n",
    "y = sla.solve_triangular(L, np.dot(P.T, F), lower=True)\n",
    "u2 = sla.solve_triangular(U, y)\n",
    "u2.shape"
   ]
  },
  {
   "cell_type": "code",
   "execution_count": null,
   "metadata": {
    "id": "SPdJJVumLj5q"
   },
   "outputs": [],
   "source": [
    "%timeit sla.lu(Kdense)\n",
    "%timeit sla.solve_triangular(L, np.dot(P.T, F), lower=True)\n",
    "%timeit sla.solve_triangular(U, y)"
   ]
  },
  {
   "cell_type": "markdown",
   "metadata": {
    "id": "n6sHGGoVLj5u"
   },
   "source": [
    "#### c) Cholesky factorization"
   ]
  },
  {
   "cell_type": "code",
   "execution_count": null,
   "metadata": {
    "id": "AtE7auDELj5u"
   },
   "outputs": [],
   "source": [
    "Kcho = sla.cholesky(Kdense)\n",
    "u3 = sla.cho_solve((Kcho,False),F)\n",
    "u3.shape"
   ]
  },
  {
   "cell_type": "code",
   "execution_count": null,
   "metadata": {
    "id": "j0zic1okLj5x"
   },
   "outputs": [],
   "source": [
    "%timeit sla.cholesky(Kdense)\n",
    "%timeit sla.cho_solve((Kcho,False),F)"
   ]
  },
  {
   "cell_type": "markdown",
   "metadata": {
    "id": "DfdLCRb2Lj5z"
   },
   "source": [
    "#### d) Sparse solve"
   ]
  },
  {
   "cell_type": "code",
   "execution_count": null,
   "metadata": {
    "id": "ScQ-xA38Lj5z"
   },
   "outputs": [],
   "source": [
    "from scipy.sparse.linalg import spsolve"
   ]
  },
  {
   "cell_type": "code",
   "execution_count": null,
   "metadata": {
    "id": "g7mdawckLj52"
   },
   "outputs": [],
   "source": [
    "u4 = spsolve(K,F)\n",
    "u4.shape"
   ]
  },
  {
   "cell_type": "code",
   "execution_count": null,
   "metadata": {
    "id": "O640qGbwLj56"
   },
   "outputs": [],
   "source": [
    "%timeit spsolve(K,F)"
   ]
  },
  {
   "cell_type": "markdown",
   "metadata": {
    "id": "JNFPowN0Lj58"
   },
   "source": [
    "## 5) LU Factorization"
   ]
  },
  {
   "cell_type": "markdown",
   "metadata": {
    "id": "jUEKnLMgLj59"
   },
   "source": [
    "Factorize the matrix $A$ as $A = LU$"
   ]
  },
  {
   "cell_type": "code",
   "execution_count": null,
   "metadata": {
    "id": "iPpGGDNVLj5-"
   },
   "outputs": [],
   "source": [
    "n = 4\n",
    "\n",
    "A = np.array([[2.0,8,4,1],[1,2,3,3],[1,2,6,2],[1,3,4,2]])\n",
    "\n",
    "## Algorithm 1\n",
    "## Factorization using the block-format, \n",
    "## creating new matrices L and U\n",
    "## and not modifying A\n",
    "print(\"LU factorization using Algorithm 1\")\n",
    "U = np.zeros((n,n))\n",
    "L = np.zeros((n,n))\n",
    "M = A.copy()\n",
    "for i in range(n):\n",
    "    U[i,i:] = M[i,i:]\n",
    "    L[i:,i] = M[i:,i]/U[i,i]\n",
    "    M[i+1:,i+1:] -= np.outer(L[i+1:,i],U[i,i+1:])\n",
    "print(\"U = \",U)\n",
    "print(\"L = \",L)\n",
    "\n",
    "\n",
    "\n",
    "## Algorithm 2\n",
    "## Factorization using the block-format \n",
    "## Matrices L and U are stored in the input matrix\n",
    "## that could be a copy of A or A itself\n",
    "print(\"LU factorization using Algorithm 2\")  \n",
    "M = A.copy()\n",
    "for i in range(n):\n",
    "    M[i+1:,i] = M[i+1:,i]/M[i,i]\n",
    "    M[i+1:,i+1:] -= np.outer(M[i+1:,i],M[i,i+1:]) \n",
    "print(\"M = \",M)\n",
    "\n",
    "\n",
    "\n",
    "## Algorithm 3\n",
    "## \"Typical\" Gaussian Elimination algorithm\n",
    "print(\"LU factorization using Algorithm 3\")\n",
    "print(' \"Traditional\" Gaussian elimination') \n",
    "M = A.copy()\n",
    "for i in range(n-1):\n",
    "    for j in range(i+1,n):\n",
    "        M[j,i] = M[j,i]/M[i,i]\n",
    "        for k in range(i+1,n):\n",
    "            M[j,k] -= M[j,i]*M[i,k]\n",
    "print(\"M = \",M)\n",
    "\n",
    "#P, L, U = sla.lu(A)"
   ]
  },
  {
   "cell_type": "code",
   "execution_count": null,
   "metadata": {
    "id": "s9vrmW39Lj6B"
   },
   "outputs": [],
   "source": [
    "## Factorize and solve \n",
    "M = A.copy()\n",
    "for i in range(n):\n",
    "    M[i+1:,i] = M[i+1:,i]/M[i,i]\n",
    "    M[i+1:,i+1:] -= np.outer(M[i+1:,i],M[i,i+1:]) \n",
    "\n",
    "print(\"Solve system of equations for \")\n",
    "b = np.array([2,2,1,4])\n",
    "print(\"b = \",b)\n",
    "x = np.zeros(n)\n",
    "y = np.zeros(n)\n",
    "\n",
    "# Foward-substitution - solve Ly = b for y\n",
    "for i in range(0, n):\n",
    "    tmp = b[i]\n",
    "    for j in range(0, i):\n",
    "        tmp -= y[j]*M[i,j]\n",
    "    y[i]=tmp/M[i,i]\n",
    "#print(y)\n",
    "\n",
    "# Backward substitution - solve Ux = y for x\n",
    "for i in range(n-1, -1, -1):\n",
    "    tmp = y[i]\n",
    "    for j in range(i+1, n):\n",
    "        tmp -= x[j]*M[i,j]\n",
    "    x[i] = tmp/M[i,i]\n",
    "print(\"Solution is:\")\n",
    "print(\"x = \",x)"
   ]
  },
  {
   "cell_type": "markdown",
   "metadata": {
    "id": "_zHwL9k7Lj6G"
   },
   "source": [
    "##  6) Relative cost of matrix operations"
   ]
  },
  {
   "cell_type": "code",
   "execution_count": null,
   "metadata": {
    "id": "e_-QoEHbLj6H"
   },
   "outputs": [],
   "source": [
    "n_values = (10**np.linspace(1, 4, 15)).astype(np.int32)\n",
    "n_values"
   ]
  },
  {
   "cell_type": "code",
   "execution_count": null,
   "metadata": {
    "id": "CD2WMFu9Lj6I"
   },
   "outputs": [],
   "source": [
    "times_matmul = []\n",
    "times_lu = []\n",
    "\n",
    "for n in n_values:\n",
    "    print(n)\n",
    "    A = np.random.randn(n, n)\n",
    "    start_time = time()\n",
    "    A.dot(A)\n",
    "    times_matmul.append(time() - start_time)\n",
    "    start_time = time()\n",
    "    sla.lu(A)\n",
    "    times_lu.append(time() - start_time)"
   ]
  },
  {
   "cell_type": "code",
   "execution_count": null,
   "metadata": {
    "id": "j9xbKJKpLj6K"
   },
   "outputs": [],
   "source": [
    "plt.plot(n_values, times_matmul, label='matmul')\n",
    "plt.plot(n_values, times_lu, label='lu')\n",
    "plt.legend(loc=\"best\")\n",
    "plt.xlabel(\"Matrix size $n$\")\n",
    "plt.ylabel(\"Wall time [s]\")"
   ]
  },
  {
   "cell_type": "markdown",
   "metadata": {
    "id": "y0geQ7-ZLj6N"
   },
   "source": [
    "* The faster algorithms make the slower ones look bad. But... it's all relative.\n",
    "* Can we get a better plot?\n",
    "* Can we see the asymptotic cost ($O(n^3)$) of these algorithms from the plot?"
   ]
  },
  {
   "cell_type": "code",
   "execution_count": null,
   "metadata": {
    "id": "zohhgxtYLj6O"
   },
   "outputs": [],
   "source": [
    "plt.loglog(n_values, times_matmul, label='matmul')\n",
    "plt.loglog(n_values, times_lu, label='lu')\n",
    "plt.legend(loc=\"best\")\n",
    "plt.xlabel(\"Matrix size $n$\")\n",
    "plt.ylabel(\"Wall time [s]\")"
   ]
  },
  {
   "cell_type": "markdown",
   "metadata": {
    "id": "KfN_sMsLLj6P"
   },
   "source": [
    "## 7) Simple example"
   ]
  },
  {
   "cell_type": "markdown",
   "metadata": {
    "id": "INWNBtnKLj6P"
   },
   "source": [
    "\n",
    "$$\n",
    "Ax = \\begin{bmatrix}c&1\\\\-1&1\\end{bmatrix}\\begin{bmatrix}x_1\\\\x_2\\end{bmatrix}\n",
    "=\n",
    "\\begin{bmatrix}b_1\\\\b_2\\end{bmatrix}\n",
    "$$\n",
    "with an exact solution of\n",
    "$$\n",
    "x_{exact} = \\begin{bmatrix}1\\\\1\\end{bmatrix}\n",
    "$$"
   ]
  },
  {
   "cell_type": "code",
   "execution_count": null,
   "metadata": {
    "id": "0c9NYM3TLj6Q"
   },
   "outputs": [],
   "source": [
    "def myLU(A): \n",
    "    M = A.copy()\n",
    "    for i in range(A.shape[0]):\n",
    "        M[i+1:,i] = M[i+1:,i]/M[i,i]\n",
    "        M[i+1:,i+1:] -= np.outer(M[i+1:,i],M[i,i+1:]) \n",
    "    return M"
   ]
  },
  {
   "cell_type": "code",
   "execution_count": null,
   "metadata": {
    "id": "Tv911eo0Lj6R"
   },
   "outputs": [],
   "source": [
    "# Creating the arrays\n",
    "c = 1e-1\n",
    "A = np.array([[c, 1.], [-1, 1]])\n",
    "# xx is the exact solution\n",
    "xx = np.array([1,1])\n",
    "b = A.dot(xx)\n",
    "\n",
    "# Comput the LU\n",
    "M = myLU(A)\n",
    "L = np.tril(M,-1) + np.eye(2,2)\n",
    "U = np.triu(M)\n",
    "\n",
    "# Solve\n",
    "# x is the numerical (xhat)\n",
    "y = sla.solve_triangular(L, b, lower=True)\n",
    "x = sla.solve_triangular(U, y)\n",
    "\n",
    "print(\"Exact solution = \", xx)\n",
    "\n",
    "print(\"Computed solution = \",x)\n",
    "\n",
    "print(\"Error = \", la.norm(xx-x))\n"
   ]
  },
  {
   "cell_type": "markdown",
   "metadata": {
    "id": "vHY6642JLj6T"
   },
   "source": [
    "Is the matrix A singular?\n",
    "\n",
    "A) YES\n",
    "\n",
    "B) NO\n"
   ]
  },
  {
   "cell_type": "markdown",
   "metadata": {
    "id": "wbiRHikpLj6T"
   },
   "source": [
    "## 8) LU with Pivoting"
   ]
  },
  {
   "cell_type": "code",
   "execution_count": null,
   "metadata": {
    "id": "HSHJhwAgLj6U"
   },
   "outputs": [],
   "source": [
    "# Creating the arrays\n",
    "c = 1e-1\n",
    "A = np.array([[c, 1.], [-1, 1]])\n",
    "# xx is the exact solution\n",
    "xx = np.array([1,1])\n",
    "b = A.dot(xx)\n",
    "\n",
    "x = la.solve(A,b)\n",
    "\n",
    "## or \n",
    "\n",
    "P,L,U = sla.lu(A)\n",
    "y = sla.solve_triangular(L, P.T@b, lower=True)\n",
    "x = sla.solve_triangular(U, y)\n",
    "\n",
    "print(\"Exact solution = \", xx)\n",
    "\n",
    "print(\"Computed solution = \",x)\n",
    "\n",
    "print(\"Error = \", la.norm(xx-x))"
   ]
  },
  {
   "cell_type": "code",
   "execution_count": null,
   "metadata": {
    "id": "u8-ZUTNyLj6V"
   },
   "outputs": [],
   "source": [
    "import scipy.linalg as sla\n",
    "import numpy as np\n",
    "\n",
    "n = 4\n",
    "\n",
    "A = np.array([[2.0,8,4,1],[1,2,3,3],[1,2,3,2],[1,3,4,2]])\n",
    "\n",
    "(P,L,U)=sla.lu(A)\n",
    "print(P)\n",
    "\n",
    "print(L)\n",
    "\n",
    "print(U)\n",
    "\n"
   ]
  },
  {
   "cell_type": "code",
   "execution_count": null,
   "metadata": {
    "id": "FHPfn9JDLj6X"
   },
   "outputs": [],
   "source": []
  }
 ],
 "metadata": {
  "celltoolbar": "Slideshow",
  "colab": {
   "name": "9-linsys.ipynb",
   "provenance": []
  },
  "kernelspec": {
   "display_name": "Python 3",
   "language": "python",
   "name": "python3"
  },
  "language_info": {
   "codemirror_mode": {
    "name": "ipython",
    "version": 3
   },
   "file_extension": ".py",
   "mimetype": "text/x-python",
   "name": "python",
   "nbconvert_exporter": "python",
   "pygments_lexer": "ipython3",
   "version": "3.8.3"
  }
 },
 "nbformat": 4,
 "nbformat_minor": 1
}
