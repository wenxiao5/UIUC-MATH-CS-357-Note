{
 "cells": [
  {
   "cell_type": "code",
   "execution_count": 1,
   "metadata": {},
   "outputs": [],
   "source": [
    "import matplotlib.pyplot as pt\n",
    "import numpy as np\n",
    "import numpy.linalg as la"
   ]
  },
  {
   "cell_type": "code",
   "execution_count": 108,
   "metadata": {},
   "outputs": [],
   "source": [
    "X=np.array([[ 0.80087962,  0.61417569],\n",
    " [ 1.24332518,  0.11719723],\n",
    " [-6.68952406,  4.87996169],\n",
    " [ 7.06169652, -3.57858823],\n",
    " [-3.44226146,  1.04658487],\n",
    " [-5.71649478,  3.61703561]])\n",
    "mean=np.array([X[:,0].mean(),X[:,1].mean()])\n",
    "X=np.vstack((X,4*np.random.randn(200,2)+mean))\n",
    "#创造数据"
   ]
  },
  {
   "cell_type": "code",
   "execution_count": 95,
   "metadata": {},
   "outputs": [],
   "source": [
    "mean=np.array([X[:,0].mean(),X[:,1].mean()])\n",
    "N=len(X)\n",
    "Y=(X-mean)/(N-1)**0.5"
   ]
  },
  {
   "cell_type": "code",
   "execution_count": 96,
   "metadata": {},
   "outputs": [],
   "source": [
    "U,s,Vt=la.svd(Y,full_matrices=False)\n",
    "principal_components=np.diag(s)@Vt"
   ]
  },
  {
   "cell_type": "code",
   "execution_count": 107,
   "metadata": {
    "scrolled": true
   },
   "outputs": [
    {
     "name": "stdout",
     "output_type": "stream",
     "text": [
      "2.2380922299429174e-16\n"
     ]
    },
    {
     "data": {
      "image/png": "[encoded data removed]",
      "text/plain": [
       "<Figure size 432x288 with 1 Axes>"
      ]
     },
     "metadata": {
      "needs_background": "light"
     },
     "output_type": "display_data"
    }
   ],
   "source": [
    "# a) Plot X\n",
    "pt.figure()\n",
    "pt.scatter(X[:,0],X[:,1])\n",
    "# b) Plot this on top\n",
    "pt.gca().set_aspect(\"equal\")\n",
    "for i in range(len(principal_components)):\n",
    "    pt.arrow(mean[0], mean[1],\n",
    "            principal_components[i, 0], principal_components[i, 1],\n",
    "            linewidth=4, zorder=10)\n",
    "# c) Y\n",
    "print((la.norm(Y-U@np.diag(s)@Vt,2))/la.norm(Y,2))\n",
    "# d) Compute X_prime and plot as before\n",
    "sn=s.copy()\n",
    "sn[-1]=0\n",
    "Yp=U@np.diag(sn)@Vt\n",
    "X_prime=Yp*(N-1)**0.5+mean\n",
    "principal_components_n=np.diag(sn)@Vt\n",
    "\n",
    "pt.scatter(X_prime[:,0],X_prime[:,1])\n",
    "# b) Plot this on top\n",
    "for i in range(len(principal_components)):\n",
    "    pt.arrow(mean[0], mean[1],\n",
    "            principal_components_n[i, 0], principal_components_n[i, 1],\n",
    "            linewidth=4, zorder=10)\n",
    "pt.show()"
   ]
  }
 ],
 "metadata": {
  "kernelspec": {
   "display_name": "Python 3",
   "language": "python",
   "name": "python3"
  },
  "language_info": {
   "codemirror_mode": {
    "name": "ipython",
    "version": 3
   },
   "file_extension": ".py",
   "mimetype": "text/x-python",
   "name": "python",
   "nbconvert_exporter": "python",
   "pygments_lexer": "ipython3",
   "version": "3.8.3"
  }
 },
 "nbformat": 4,
 "nbformat_minor": 4
}
