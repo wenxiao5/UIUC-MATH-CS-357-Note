{
 "cells": [
  {
   "cell_type": "code",
   "execution_count": 12,
   "metadata": {},
   "outputs": [],
   "source": [
    "import numpy as np"
   ]
  },
  {
   "cell_type": "code",
   "execution_count": 2,
   "metadata": {},
   "outputs": [],
   "source": [
    "starting_hand = [ 'Th','5d' ]"
   ]
  },
  {
   "cell_type": "code",
   "execution_count": 8,
   "metadata": {},
   "outputs": [],
   "source": [
    "def cardNameToInt(hand):\n",
    "  # hand: string following the \"Rank Suit format\"\n",
    "  # write code to convert hand to an integer 0-51 as described above\n",
    "    r=hand[0]\n",
    "    s=hand[1]\n",
    "    t=-1\n",
    "    if r=='T':\n",
    "        t+=(10-2)*4\n",
    "    elif r=='J':\n",
    "        t+=(11-2)*4\n",
    "    elif r=='Q':\n",
    "        t+=(12-2)*4\n",
    "    elif r=='K':\n",
    "        t+=(13-2)*4\n",
    "    elif r=='A':\n",
    "        t+=(14-2)*4\n",
    "    else:\n",
    "        t+=(int(r)-2)*4\n",
    "    if s=='c':\n",
    "        t+=1\n",
    "    elif s=='d':\n",
    "        t+=2\n",
    "    elif s=='h':\n",
    "        t+=3\n",
    "    elif s=='s':\n",
    "        t+=4\n",
    "    return t\n",
    "#排大小"
   ]
  },
  {
   "cell_type": "code",
   "execution_count": 13,
   "metadata": {},
   "outputs": [],
   "source": [
    "def handtocards(h):\n",
    "    c=[]\n",
    "    for i in h:\n",
    "        c.append(cardNameToInt(i))\n",
    "    return c\n",
    "#转化为大小"
   ]
  },
  {
   "cell_type": "code",
   "execution_count": 14,
   "metadata": {},
   "outputs": [],
   "source": [
    "start_cards=np.array(handtocards(starting_hand))"
   ]
  },
  {
   "cell_type": "code",
   "execution_count": 15,
   "metadata": {},
   "outputs": [
    {
     "data": {
      "text/plain": [
       "array([34, 13])"
      ]
     },
     "execution_count": 15,
     "metadata": {},
     "output_type": "execute_result"
    }
   ],
   "source": [
    "start_cards"
   ]
  },
  {
   "cell_type": "code",
   "execution_count": 21,
   "metadata": {},
   "outputs": [],
   "source": [
    "import random\n",
    "def generatePlayersCards(n_players,available_deck):\n",
    "    d=list(available_deck)\n",
    "    p=[]\n",
    "    for i in range(n_players):\n",
    "        t=random.sample(d,2)\n",
    "        for j in t:\n",
    "            d.remove(j)\n",
    "        p.append(t)\n",
    "    p=np.array(p)\n",
    "    d=np.array(d)\n",
    "    return(p,d)\n",
    "#给玩家发牌"
   ]
  },
  {
   "cell_type": "code",
   "execution_count": 22,
   "metadata": {},
   "outputs": [],
   "source": [
    "available_deck = np.array([ 2,  4,  6,  7,  9, 20, 23, 25, 29, 31, 33, 35, 36, 37, 38, 43, 44, 45, 46, 47])\n",
    "\n",
    "players_cards, updated_card_deck = generatePlayersCards(3,available_deck)"
   ]
  },
  {
   "cell_type": "code",
   "execution_count": 23,
   "metadata": {},
   "outputs": [
    {
     "data": {
      "text/plain": [
       "array([ 2,  4,  7,  9, 20, 23, 29, 31, 33, 35, 36, 45, 46, 47])"
      ]
     },
     "execution_count": 23,
     "metadata": {},
     "output_type": "execute_result"
    }
   ],
   "source": [
    "updated_card_deck"
   ]
  },
  {
   "cell_type": "code",
   "execution_count": 24,
   "metadata": {},
   "outputs": [
    {
     "data": {
      "text/plain": [
       "array([[38, 25],\n",
       "       [44, 43],\n",
       "       [37,  6]])"
      ]
     },
     "execution_count": 24,
     "metadata": {},
     "output_type": "execute_result"
    }
   ],
   "source": [
    "players_cards"
   ]
  },
  {
   "cell_type": "code",
   "execution_count": 25,
   "metadata": {},
   "outputs": [],
   "source": [
    "def generateDealerCards(available_deck):\n",
    "    # do things here\n",
    "    d=list(available_deck)\n",
    "    t=random.sample(d,5)\n",
    "    for j in t:\n",
    "        d.remove(j)\n",
    "    return(np.array(t),np.array(d))\n",
    "#发公共牌"
   ]
  },
  {
   "cell_type": "code",
   "execution_count": 26,
   "metadata": {},
   "outputs": [
    {
     "ename": "SyntaxError",
     "evalue": "unexpected EOF while parsing (<ipython-input-26-ac022f32a301>, line 7)",
     "output_type": "error",
     "traceback": [
      "\u001b[1;36m  File \u001b[1;32m\"<ipython-input-26-ac022f32a301>\"\u001b[1;36m, line \u001b[1;32m7\u001b[0m\n\u001b[1;33m    # Return 2 if equal\u001b[0m\n\u001b[1;37m                       ^\u001b[0m\n\u001b[1;31mSyntaxError\u001b[0m\u001b[1;31m:\u001b[0m unexpected EOF while parsing\n"
     ]
    }
   ],
   "source": [
    "def compareTwoPlayers(player1_cards,player2_cards,dealer_cards):\n",
    "    # player1_cards and player2_cards: 1d numpy array of shape (2,)\n",
    "    # dealer_cards: 1d numpy array of shape (5,)\n",
    "    # do things here...\n",
    "    # Return 0 if player1 cards are better\n",
    "    # Return 1 if player2 cards are better\n",
    "    # Return 2 if equal"
   ]
  },
  {
   "cell_type": "code",
   "execution_count": 35,
   "metadata": {},
   "outputs": [
    {
     "ename": "NameError",
     "evalue": "name 'N' is not defined",
     "output_type": "error",
     "traceback": [
      "\u001b[1;31m---------------------------------------------------------------------------\u001b[0m",
      "\u001b[1;31mNameError\u001b[0m                                 Traceback (most recent call last)",
      "\u001b[1;32m<ipython-input-35-fa72f99f7e88>\u001b[0m in \u001b[0;36m<module>\u001b[1;34m\u001b[0m\n\u001b[0;32m     23\u001b[0m     \u001b[0md\u001b[0m\u001b[1;33m.\u001b[0m\u001b[0mremove\u001b[0m\u001b[1;33m(\u001b[0m\u001b[0mi\u001b[0m\u001b[1;33m)\u001b[0m\u001b[1;33m\u001b[0m\u001b[1;33m\u001b[0m\u001b[0m\n\u001b[0;32m     24\u001b[0m \u001b[0mn\u001b[0m\u001b[1;33m=\u001b[0m\u001b[0mnp\u001b[0m\u001b[1;33m.\u001b[0m\u001b[0marray\u001b[0m\u001b[1;33m(\u001b[0m\u001b[1;33m[\u001b[0m\u001b[1;36m0\u001b[0m\u001b[1;33m,\u001b[0m\u001b[1;36m0\u001b[0m\u001b[1;33m,\u001b[0m\u001b[1;36m0\u001b[0m\u001b[1;33m]\u001b[0m\u001b[1;33m)\u001b[0m\u001b[1;33m\u001b[0m\u001b[1;33m\u001b[0m\u001b[0m\n\u001b[1;32m---> 25\u001b[1;33m \u001b[1;32mfor\u001b[0m \u001b[0mi\u001b[0m \u001b[1;32min\u001b[0m \u001b[0mrange\u001b[0m\u001b[1;33m(\u001b[0m\u001b[0mN\u001b[0m\u001b[1;33m)\u001b[0m\u001b[1;33m:\u001b[0m\u001b[1;33m\u001b[0m\u001b[1;33m\u001b[0m\u001b[0m\n\u001b[0m\u001b[0;32m     26\u001b[0m     \u001b[0mplayers_cards\u001b[0m\u001b[1;33m,\u001b[0m \u001b[0mupdated_card_deck\u001b[0m \u001b[1;33m=\u001b[0m \u001b[0mgeneratePlayersCards\u001b[0m\u001b[1;33m(\u001b[0m\u001b[0mn_players\u001b[0m\u001b[1;33m,\u001b[0m\u001b[0md\u001b[0m\u001b[1;33m)\u001b[0m\u001b[1;33m\u001b[0m\u001b[1;33m\u001b[0m\u001b[0m\n\u001b[0;32m     27\u001b[0m     \u001b[0mdealer_cards\u001b[0m\u001b[1;33m,\u001b[0m\u001b[0mm\u001b[0m\u001b[1;33m=\u001b[0m\u001b[0mgenerateDealerCards\u001b[0m\u001b[1;33m(\u001b[0m\u001b[0mupdated_card_deck\u001b[0m\u001b[1;33m)\u001b[0m\u001b[1;33m\u001b[0m\u001b[1;33m\u001b[0m\u001b[0m\n",
      "\u001b[1;31mNameError\u001b[0m: name 'N' is not defined"
     ]
    }
   ],
   "source": [
    "import numpy as np\n",
    "\n",
    "def whoWin(start_cards, players_cards, dealer_cards):\n",
    "    s=0\n",
    "    for i in players_cards:\n",
    "        t=compareTwoPlayers(start_cards,i,dealer_cards)\n",
    "        if t==1:\n",
    "            return np.array([0,1,0])\n",
    "        elif t==2:\n",
    "            s=1\n",
    "    if s==0:\n",
    "        return np.array([1,0,0])\n",
    "    else:\n",
    "        return np.array([0,0,1])\n",
    "def handtocards(h):\n",
    "    c=[]\n",
    "    for i in h:\n",
    "        c.append(cardNameToInt(i))\n",
    "    return c\n",
    "start_cards=np.array(handtocards(starting_hand))\n",
    "d=list(range(52))\n",
    "for i in start_cards:\n",
    "    d.remove(i)\n",
    "n=np.array([0,0,0])\n",
    "for i in range(N):\n",
    "    players_cards, updated_card_deck = generatePlayersCards(n_players,d)\n",
    "    dealer_cards,m=generateDealerCards(updated_card_deck)\n",
    "    game_result=whoWin(start_cards, players_cards, dealer_cards)\n",
    "    n=n+game_result\n",
    "win_probability=n[0]/N\n",
    "lose_probability=n[1]/N\n",
    "tie_probability=n[2]/N"
   ]
  },
  {
   "cell_type": "code",
   "execution_count": 40,
   "metadata": {},
   "outputs": [],
   "source": [
    "def handtocards(h):\n",
    "    c=[]\n",
    "    for i in h:\n",
    "        c.append(cardNameToInt(i))\n",
    "    return c\n",
    "\n",
    "def monteCarloSimulation(M,N,n_players,starting_hand):\n",
    "    # do stuff here\n",
    "    start_cards=np.array(handtocards(starting_hand))\n",
    "    d=list(range(52))\n",
    "    for i in start_cards:\n",
    "        d.remove(i)\n",
    "    w=[]\n",
    "    for j in range(M):\n",
    "        n=np.array([0,0,0])\n",
    "        for i in range(N):\n",
    "            players_cards, updated_card_deck = generatePlayersCards(n_players,d)\n",
    "            dealer_cards,m=generateDealerCards(updated_card_deck)\n",
    "            game_result=whoWin(start_cards, players_cards, dealer_cards)\n",
    "            n=n+game_result\n",
    "        wp=n[0]/N\n",
    "        w.append(wp)\n",
    "    return np.array(w)"
   ]
  },
  {
   "cell_type": "code",
   "execution_count": 39,
   "metadata": {},
   "outputs": [
    {
     "ename": "NameError",
     "evalue": "name 'compareTwoPlayers' is not defined",
     "output_type": "error",
     "traceback": [
      "\u001b[1;31m---------------------------------------------------------------------------\u001b[0m",
      "\u001b[1;31mNameError\u001b[0m                                 Traceback (most recent call last)",
      "\u001b[1;32m<ipython-input-39-cc6109bfcc4f>\u001b[0m in \u001b[0;36m<module>\u001b[1;34m\u001b[0m\n\u001b[0;32m      6\u001b[0m         \u001b[0mc\u001b[0m\u001b[1;33m.\u001b[0m\u001b[0mappend\u001b[0m\u001b[1;33m(\u001b[0m\u001b[0mcardNameToInt\u001b[0m\u001b[1;33m(\u001b[0m\u001b[0mi\u001b[0m\u001b[1;33m)\u001b[0m\u001b[1;33m)\u001b[0m\u001b[1;33m\u001b[0m\u001b[1;33m\u001b[0m\u001b[0m\n\u001b[0;32m      7\u001b[0m     \u001b[1;32mreturn\u001b[0m \u001b[0mc\u001b[0m\u001b[1;33m\u001b[0m\u001b[1;33m\u001b[0m\u001b[0m\n\u001b[1;32m----> 8\u001b[1;33m \u001b[0mwin_prob_20\u001b[0m\u001b[1;33m=\u001b[0m\u001b[0mmonteCarloSimulation\u001b[0m\u001b[1;33m(\u001b[0m\u001b[1;36m100\u001b[0m\u001b[1;33m,\u001b[0m\u001b[1;36m20\u001b[0m\u001b[1;33m,\u001b[0m\u001b[1;36m1\u001b[0m\u001b[1;33m,\u001b[0m\u001b[0mstarting_hand\u001b[0m\u001b[1;33m)\u001b[0m\u001b[1;33m\u001b[0m\u001b[1;33m\u001b[0m\u001b[0m\n\u001b[0m\u001b[0;32m      9\u001b[0m \u001b[0mwin_prob_50\u001b[0m\u001b[1;33m=\u001b[0m\u001b[0mmonteCarloSimulation\u001b[0m\u001b[1;33m(\u001b[0m\u001b[1;36m100\u001b[0m\u001b[1;33m,\u001b[0m\u001b[1;36m50\u001b[0m\u001b[1;33m,\u001b[0m\u001b[1;36m1\u001b[0m\u001b[1;33m,\u001b[0m\u001b[0mstarting_hand\u001b[0m\u001b[1;33m)\u001b[0m\u001b[1;33m\u001b[0m\u001b[1;33m\u001b[0m\u001b[0m\n\u001b[0;32m     10\u001b[0m \u001b[0mmean_20\u001b[0m\u001b[1;33m=\u001b[0m\u001b[0mnp\u001b[0m\u001b[1;33m.\u001b[0m\u001b[0mmean\u001b[0m\u001b[1;33m(\u001b[0m\u001b[0mwin_prob_20\u001b[0m\u001b[1;33m)\u001b[0m\u001b[1;33m\u001b[0m\u001b[1;33m\u001b[0m\u001b[0m\n",
      "\u001b[1;32m<ipython-input-36-5e374603d9eb>\u001b[0m in \u001b[0;36mmonteCarloSimulation\u001b[1;34m(M, N, n_players, starting_hand)\u001b[0m\n\u001b[0;32m     17\u001b[0m             \u001b[0mplayers_cards\u001b[0m\u001b[1;33m,\u001b[0m \u001b[0mupdated_card_deck\u001b[0m \u001b[1;33m=\u001b[0m \u001b[0mgeneratePlayersCards\u001b[0m\u001b[1;33m(\u001b[0m\u001b[0mn_players\u001b[0m\u001b[1;33m,\u001b[0m\u001b[0md\u001b[0m\u001b[1;33m)\u001b[0m\u001b[1;33m\u001b[0m\u001b[1;33m\u001b[0m\u001b[0m\n\u001b[0;32m     18\u001b[0m             \u001b[0mdealer_cards\u001b[0m\u001b[1;33m,\u001b[0m\u001b[0mm\u001b[0m\u001b[1;33m=\u001b[0m\u001b[0mgenerateDealerCards\u001b[0m\u001b[1;33m(\u001b[0m\u001b[0mupdated_card_deck\u001b[0m\u001b[1;33m)\u001b[0m\u001b[1;33m\u001b[0m\u001b[1;33m\u001b[0m\u001b[0m\n\u001b[1;32m---> 19\u001b[1;33m             \u001b[0mgame_result\u001b[0m\u001b[1;33m=\u001b[0m\u001b[0mwhoWin\u001b[0m\u001b[1;33m(\u001b[0m\u001b[0mstart_cards\u001b[0m\u001b[1;33m,\u001b[0m \u001b[0mplayers_cards\u001b[0m\u001b[1;33m,\u001b[0m \u001b[0mdealer_cards\u001b[0m\u001b[1;33m)\u001b[0m\u001b[1;33m\u001b[0m\u001b[1;33m\u001b[0m\u001b[0m\n\u001b[0m\u001b[0;32m     20\u001b[0m             \u001b[0mn\u001b[0m\u001b[1;33m=\u001b[0m\u001b[0mn\u001b[0m\u001b[1;33m+\u001b[0m\u001b[0mgame_result\u001b[0m\u001b[1;33m\u001b[0m\u001b[1;33m\u001b[0m\u001b[0m\n\u001b[0;32m     21\u001b[0m         \u001b[0mwp\u001b[0m\u001b[1;33m=\u001b[0m\u001b[0mn\u001b[0m\u001b[1;33m[\u001b[0m\u001b[1;36m0\u001b[0m\u001b[1;33m]\u001b[0m\u001b[1;33m/\u001b[0m\u001b[0mN\u001b[0m\u001b[1;33m\u001b[0m\u001b[1;33m\u001b[0m\u001b[0m\n",
      "\u001b[1;32m<ipython-input-35-fa72f99f7e88>\u001b[0m in \u001b[0;36mwhoWin\u001b[1;34m(start_cards, players_cards, dealer_cards)\u001b[0m\n\u001b[0;32m      4\u001b[0m     \u001b[0ms\u001b[0m\u001b[1;33m=\u001b[0m\u001b[1;36m0\u001b[0m\u001b[1;33m\u001b[0m\u001b[1;33m\u001b[0m\u001b[0m\n\u001b[0;32m      5\u001b[0m     \u001b[1;32mfor\u001b[0m \u001b[0mi\u001b[0m \u001b[1;32min\u001b[0m \u001b[0mplayers_cards\u001b[0m\u001b[1;33m:\u001b[0m\u001b[1;33m\u001b[0m\u001b[1;33m\u001b[0m\u001b[0m\n\u001b[1;32m----> 6\u001b[1;33m         \u001b[0mt\u001b[0m\u001b[1;33m=\u001b[0m\u001b[0mcompareTwoPlayers\u001b[0m\u001b[1;33m(\u001b[0m\u001b[0mstart_cards\u001b[0m\u001b[1;33m,\u001b[0m\u001b[0mi\u001b[0m\u001b[1;33m,\u001b[0m\u001b[0mdealer_cards\u001b[0m\u001b[1;33m)\u001b[0m\u001b[1;33m\u001b[0m\u001b[1;33m\u001b[0m\u001b[0m\n\u001b[0m\u001b[0;32m      7\u001b[0m         \u001b[1;32mif\u001b[0m \u001b[0mt\u001b[0m\u001b[1;33m==\u001b[0m\u001b[1;36m1\u001b[0m\u001b[1;33m:\u001b[0m\u001b[1;33m\u001b[0m\u001b[1;33m\u001b[0m\u001b[0m\n\u001b[0;32m      8\u001b[0m             \u001b[1;32mreturn\u001b[0m \u001b[0mnp\u001b[0m\u001b[1;33m.\u001b[0m\u001b[0marray\u001b[0m\u001b[1;33m(\u001b[0m\u001b[1;33m[\u001b[0m\u001b[1;36m0\u001b[0m\u001b[1;33m,\u001b[0m\u001b[1;36m1\u001b[0m\u001b[1;33m,\u001b[0m\u001b[1;36m0\u001b[0m\u001b[1;33m]\u001b[0m\u001b[1;33m)\u001b[0m\u001b[1;33m\u001b[0m\u001b[1;33m\u001b[0m\u001b[0m\n",
      "\u001b[1;31mNameError\u001b[0m: name 'compareTwoPlayers' is not defined"
     ]
    }
   ],
   "source": [
    "import numpy as np\n",
    "import matplotlib.pyplot as plt\n",
    "def handtocards(h):\n",
    "    c=[]\n",
    "    for i in h:\n",
    "        c.append(cardNameToInt(i))\n",
    "    return c\n",
    "win_prob_20=monteCarloSimulation(100,20,1,starting_hand)\n",
    "win_prob_50=monteCarloSimulation(100,50,1,starting_hand)\n",
    "mean_20=np.mean(win_prob_20)\n",
    "std_20=np.std(win_prob_20)\n",
    "mean_50=np.mean(win_prob_50)\n",
    "std_50=np.std(win_prob_50)\n",
    "plt.hist(win_prob_20,alpha=0.5, label='20 games')\n",
    "plt.hist(win_prob_50,alpha=0.5, label='50 games')\n",
    "plt.title('Starting hand ' + str(starting_hand))\n",
    "plt.legend(loc='upper left')\n",
    "plt.xlabel('Probability of winning')\n",
    "plt.ylabel('# of occurances')\n",
    "plt.show()"
   ]
  },
  {
   "cell_type": "code",
   "execution_count": null,
   "metadata": {},
   "outputs": [],
   "source": []
  },
  {
   "cell_type": "code",
   "execution_count": null,
   "metadata": {},
   "outputs": [],
   "source": []
  },
  {
   "cell_type": "code",
   "execution_count": null,
   "metadata": {},
   "outputs": [],
   "source": []
  }
 ],
 "metadata": {
  "kernelspec": {
   "display_name": "Python 3",
   "language": "python",
   "name": "python3"
  },
  "language_info": {
   "codemirror_mode": {
    "name": "ipython",
    "version": 3
   },
   "file_extension": ".py",
   "mimetype": "text/x-python",
   "name": "python",
   "nbconvert_exporter": "python",
   "pygments_lexer": "ipython3",
   "version": "3.8.3"
  }
 },
 "nbformat": 4,
 "nbformat_minor": 4
}
