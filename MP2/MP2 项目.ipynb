{
 "cells": [
  {
   "cell_type": "code",
   "execution_count": 1,
   "metadata": {},
   "outputs": [],
   "source": [
    "import numpy as np"
   ]
  },
  {
   "cell_type": "code",
   "execution_count": 107,
   "metadata": {},
   "outputs": [],
   "source": [
    "K=np.array([[20,10,-10,0,-10,-10],[10,10,0,0,-10,-10],[-10,0,20,-10,-10,10],[0,0,-10,10,10,-10],[-10,-10,-10,10,20,0],[-10,-10,10,-10,0,20]])"
   ]
  },
  {
   "cell_type": "code",
   "execution_count": 17,
   "metadata": {},
   "outputs": [],
   "source": [
    "equation_numbers=np.array([1,2,4,3,5,6])"
   ]
  },
  {
   "cell_type": "code",
   "execution_count": 23,
   "metadata": {},
   "outputs": [
    {
     "data": {
      "text/plain": [
       "array([[ 20,  10, -10,   0, -10, -10],\n",
       "       [ 10,  10,   0,   0, -10, -10],\n",
       "       [-10,   0,  20, -10, -10,  10],\n",
       "       [  0,   0, -10,  10,  10, -10],\n",
       "       [-10, -10, -10,  10,  20,   0],\n",
       "       [-10, -10,  10, -10,   0,  20]])"
      ]
     },
     "execution_count": 23,
     "metadata": {},
     "output_type": "execute_result"
    }
   ],
   "source": [
    "K.T"
   ]
  },
  {
   "cell_type": "code",
   "execution_count": 29,
   "metadata": {},
   "outputs": [],
   "source": [
    "def reorder_rows_columns(K,equation_numbers):\n",
    "    # construct the matrix Khat\n",
    "    Khat=[]\n",
    "    K_m=[]\n",
    "    for i in equation_numbers:\n",
    "        K_m.append(K[i-1,:])\n",
    "    K_m=np.array(K_m)\n",
    "    for j in equation_numbers:\n",
    "        Khat.append(K_m[:,j-1])\n",
    "    return np.array(Khat).T"
   ]
  },
  {
   "cell_type": "code",
   "execution_count": 30,
   "metadata": {},
   "outputs": [
    {
     "data": {
      "text/plain": [
       "array([[ 20,  10,   0, -10, -10, -10],\n",
       "       [ 10,  10,   0,   0, -10, -10],\n",
       "       [  0,   0,  10, -10,  10, -10],\n",
       "       [-10,   0, -10,  20, -10,  10],\n",
       "       [-10, -10,  10, -10,  20,   0],\n",
       "       [-10, -10, -10,  10,   0,  20]])"
      ]
     },
     "execution_count": 30,
     "metadata": {},
     "output_type": "execute_result"
    }
   ],
   "source": [
    "reorder_rows_columns(K,equation_numbers)"
   ]
  },
  {
   "cell_type": "code",
   "execution_count": 31,
   "metadata": {},
   "outputs": [],
   "source": [
    "def partition_stiffness_matrix(K,equation_numbers,nk):\n",
    "    # construct the smaller matrices\n",
    "    Khat=reorder_rows_columns(K,equation_numbers)\n",
    "    Kpp=Khat[:nk,:nk]\n",
    "    Kpf=Khat[:nk,nk:]\n",
    "    Kfp=Khat[nk:,:nk]\n",
    "    Kff=Khat[nk:,nk:]\n",
    "    return  Kpp,Kpf,Kfp,Kff"
   ]
  },
  {
   "cell_type": "code",
   "execution_count": 32,
   "metadata": {},
   "outputs": [
    {
     "data": {
      "text/plain": [
       "(array([[20, 10,  0],\n",
       "        [10, 10,  0],\n",
       "        [ 0,  0, 10]]),\n",
       " array([[-10, -10, -10],\n",
       "        [  0, -10, -10],\n",
       "        [-10,  10, -10]]),\n",
       " array([[-10,   0, -10],\n",
       "        [-10, -10,  10],\n",
       "        [-10, -10, -10]]),\n",
       " array([[ 20, -10,  10],\n",
       "        [-10,  20,   0],\n",
       "        [ 10,   0,  20]]))"
      ]
     },
     "execution_count": 32,
     "metadata": {},
     "output_type": "execute_result"
    }
   ],
   "source": [
    "partition_stiffness_matrix(K,equation_numbers,3)"
   ]
  },
  {
   "cell_type": "code",
   "execution_count": 33,
   "metadata": {},
   "outputs": [],
   "source": [
    "import numpy as np\n",
    "import scipy.linalg as la\n",
    "import matplotlib.pyplot as plt\n",
    "xp=np.array([0,0,0])\n",
    "Ff=np.array([0,0,-10])\n",
    "Kpp,Kpf,Kfp,Kff=partition_stiffness_matrix(K,equation_numbers,3)\n",
    "def fea_solve(Kpp,Kpf,Kfp,Kff,xp,Ff):\n",
    "    # do stuff here\n",
    "    xf=la.solve(Kff,Ff-np.dot(Kfp,xp))\n",
    "    Fp=np.dot(Kpp,xp)+np.dot(Kpf,xf)\n",
    "    return xf,Fp"
   ]
  },
  {
   "cell_type": "code",
   "execution_count": 34,
   "metadata": {},
   "outputs": [
    {
     "data": {
      "text/plain": [
       "(array([ 0.5 ,  0.25, -0.75]), array([0., 5., 5.]))"
      ]
     },
     "execution_count": 34,
     "metadata": {},
     "output_type": "execute_result"
    }
   ],
   "source": [
    "fea_solve(Kpp,Kpf,Kfp,Kff,xp,Ff)"
   ]
  },
  {
   "cell_type": "code",
   "execution_count": 37,
   "metadata": {},
   "outputs": [],
   "source": [
    "x=np.array([0]*16).reshape(4,4)"
   ]
  },
  {
   "cell_type": "code",
   "execution_count": 38,
   "metadata": {},
   "outputs": [
    {
     "data": {
      "text/plain": [
       "4"
      ]
     },
     "execution_count": 38,
     "metadata": {},
     "output_type": "execute_result"
    }
   ],
   "source": [
    "len(x)"
   ]
  },
  {
   "cell_type": "code",
   "execution_count": 49,
   "metadata": {},
   "outputs": [],
   "source": [
    "s=K.copy()\n",
    "s[1,:]=np.array([1,2,3,4,5,6])"
   ]
  },
  {
   "cell_type": "code",
   "execution_count": 50,
   "metadata": {},
   "outputs": [
    {
     "data": {
      "text/plain": [
       "array([[ 20,  10, -10,   0, -10, -10],\n",
       "       [  1,   2,   3,   4,   5,   6],\n",
       "       [-10,   0,  20, -10, -10,  10],\n",
       "       [  0,   0, -10,  10,  10, -10],\n",
       "       [-10, -10, -10,  10,  20,   0],\n",
       "       [-10, -10,  10, -10,   0,  20]])"
      ]
     },
     "execution_count": 50,
     "metadata": {},
     "output_type": "execute_result"
    }
   ],
   "source": [
    "s"
   ]
  },
  {
   "cell_type": "code",
   "execution_count": 100,
   "metadata": {},
   "outputs": [
    {
     "data": {
      "text/plain": [
       "array([[ 20,  10, -10,   0, -10, -10],\n",
       "       [ 10,  10,   0,   0, -10, -10],\n",
       "       [-10,   0,  20, -10, -10,  10],\n",
       "       [  0,   0, -10,  10,  10, -10],\n",
       "       [-10, -10, -10,  10,  20,   0],\n",
       "       [-10, -10,  10, -10,   0,  20]])"
      ]
     },
     "execution_count": 100,
     "metadata": {},
     "output_type": "execute_result"
    }
   ],
   "source": [
    "K"
   ]
  },
  {
   "cell_type": "code",
   "execution_count": 117,
   "metadata": {
    "scrolled": true
   },
   "outputs": [
    {
     "data": {
      "text/plain": [
       "(array([[1., 0., 0., 0., 0., 0.],\n",
       "        [0., 1., 0., 0., 0., 0.],\n",
       "        [0., 0., 1., 0., 0., 0.],\n",
       "        [0., 0., 0., 1., 0., 0.],\n",
       "        [0., 0., 0., 0., 1., 0.],\n",
       "        [0., 0., 0., 0., 0., 1.]]),\n",
       " array([[ 1. ,  0. ,  0. ,  0. ,  0. ,  0. ],\n",
       "        [ 0.5,  1. ,  0. ,  0. ,  0. ,  0. ],\n",
       "        [-0.5,  1. ,  1. ,  0. ,  0. ,  0. ],\n",
       "        [ 0. ,  0. , -1. ,  1. ,  0. ,  0. ],\n",
       "        [-0.5, -1. , -1. ,  0. ,  1. ,  0. ],\n",
       "        [-0.5, -1. ,  1. ,  0. ,  0. ,  1. ]]),\n",
       " array([[ 20.,  10., -10.,   0., -10., -10.],\n",
       "        [  0.,   5.,   5.,   0.,  -5.,  -5.],\n",
       "        [  0.,   0.,  10., -10., -10.,  10.],\n",
       "        [  0.,   0.,   0.,   0.,   0.,   0.],\n",
       "        [  0.,   0.,   0.,   0.,   0.,   0.],\n",
       "        [  0.,   0.,   0.,   0.,   0.,   0.]]))"
      ]
     },
     "execution_count": 117,
     "metadata": {},
     "output_type": "execute_result"
    }
   ],
   "source": [
    "la.lu(K)"
   ]
  },
  {
   "cell_type": "code",
   "execution_count": 183,
   "metadata": {},
   "outputs": [],
   "source": [
    "b=np.array([1,2])\n",
    "L=np.array([[1,0],[2,3]])\n",
    "l=2\n",
    "y=np.array([0.]*l).reshape(l,)\n",
    "for i in range(l):\n",
    "    s=b[i]\n",
    "    for j in range(i):\n",
    "        s-=L[i,j]*y[j]\n",
    "    y[i]=s/L[i,i]"
   ]
  },
  {
   "cell_type": "code",
   "execution_count": 184,
   "metadata": {},
   "outputs": [
    {
     "data": {
      "text/plain": [
       "array([1., 0.])"
      ]
     },
     "execution_count": 184,
     "metadata": {},
     "output_type": "execute_result"
    }
   ],
   "source": [
    "y"
   ]
  },
  {
   "cell_type": "code",
   "execution_count": 185,
   "metadata": {},
   "outputs": [],
   "source": [
    "import numpy as np\n",
    "\n",
    "\n",
    "def my_lu(A):\n",
    "    # The upper triangular matrix U is saved in the upper part of the matrix M (including the diagonal)\n",
    "    # The lower triangular matrix L is saved in the lower part of the matrix M (not including the diagonal)\n",
    "    # Do NOT use `scipy.linalg.lu`!\n",
    "    # You should not use pivoting\n",
    "    l=len(A)\n",
    "    t=A.copy()\n",
    "    M=np.array([0.]*(l**2)).reshape(l,l)\n",
    "    for i in range(l-1):\n",
    "        M[i,i:]=t[0,:]\n",
    "        M[i+1:,i]=t[1:,0]/t[0,0]\n",
    "        t=t[1:,1:]-np.dot(M[i+1:,i].reshape(l-1-i,1),t[0,1:].reshape(1,l-1-i))\n",
    "    M[l-1,l-1]=t\n",
    "    return np.nan_to_num(M)\n",
    "\n",
    "\n",
    "def my_triangular_solve(M, b):\n",
    "    # A = LU (L and U are stored in M)\n",
    "    l=len(M)\n",
    "    L=np.array([0.]*(l**2)).reshape(l,l)\n",
    "    U=np.array([0.]*(l**2)).reshape(l,l)\n",
    "    for i in range(l):\n",
    "        L[i,i]=1\n",
    "        L[i+1:,i]=M[i+1:,i]\n",
    "        U[i,i:]=M[i,i:]\n",
    "    # A x = b (given A and b, find x)\n",
    "    #Ly=b,Ux=y\n",
    "    y=np.array([0.]*l).reshape(l,)\n",
    "    for i in range(l):\n",
    "        s=b[i]\n",
    "        for j in range(i):\n",
    "            s-=L[i,j]*y[j]\n",
    "        y[i]=s/L[i,i]\n",
    "    x=np.array([0.]*l).reshape(l,)\n",
    "    for i in range(l-1,-1,-1):\n",
    "        s=y[i]\n",
    "        for j in range(l-1,i,-1):\n",
    "            s-=U[i,j]*x[j]\n",
    "        x[i]=s/U[i,i]\n",
    "    # M is a 2D numpy array\n",
    "    # The upper triangular matrix U is stored in the upper part of the matrix M (including the diagonal)\n",
    "    # The lower triangular matrix L is stored in the lower part of the matrix M (not including the diagonal)\n",
    "    # b is a 1D numpy array\n",
    "    # x is a 1D numpy array\n",
    "    # Do not use `scipy.linalg.solve_triangular`\n",
    "\n",
    "    return x\n",
    "\n",
    "\n",
    "def fea_solve(Kpp, Kpf, Kfp, Kff, xp, Ff):\n",
    "    # Use my_lu and my_triangular_solve\n",
    "    M=my_lu(Kff)\n",
    "    xf=my_triangular_solve(M,Ff-np.dot(Kfp,xp))\n",
    "    Fp=np.dot(Kpp,xp)+np.dot(Kpf,xf)\n",
    "    return xf, Fp"
   ]
  },
  {
   "cell_type": "code",
   "execution_count": null,
   "metadata": {},
   "outputs": [],
   "source": []
  },
  {
   "cell_type": "code",
   "execution_count": null,
   "metadata": {},
   "outputs": [],
   "source": []
  },
  {
   "cell_type": "code",
   "execution_count": null,
   "metadata": {},
   "outputs": [],
   "source": []
  },
  {
   "cell_type": "code",
   "execution_count": null,
   "metadata": {},
   "outputs": [],
   "source": []
  },
  {
   "cell_type": "code",
   "execution_count": null,
   "metadata": {},
   "outputs": [],
   "source": []
  },
  {
   "cell_type": "code",
   "execution_count": null,
   "metadata": {},
   "outputs": [],
   "source": []
  },
  {
   "cell_type": "code",
   "execution_count": null,
   "metadata": {},
   "outputs": [],
   "source": []
  },
  {
   "cell_type": "code",
   "execution_count": null,
   "metadata": {},
   "outputs": [],
   "source": []
  },
  {
   "cell_type": "code",
   "execution_count": null,
   "metadata": {},
   "outputs": [],
   "source": []
  },
  {
   "cell_type": "code",
   "execution_count": null,
   "metadata": {},
   "outputs": [],
   "source": []
  },
  {
   "cell_type": "code",
   "execution_count": null,
   "metadata": {},
   "outputs": [],
   "source": []
  }
 ],
 "metadata": {
  "kernelspec": {
   "display_name": "Python 3",
   "language": "python",
   "name": "python3"
  },
  "language_info": {
   "codemirror_mode": {
    "name": "ipython",
    "version": 3
   },
   "file_extension": ".py",
   "mimetype": "text/x-python",
   "name": "python",
   "nbconvert_exporter": "python",
   "pygments_lexer": "ipython3",
   "version": "3.8.3"
  }
 },
 "nbformat": 4,
 "nbformat_minor": 4
}
