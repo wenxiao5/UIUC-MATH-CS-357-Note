{
 "cells": [
  {
   "cell_type": "code",
   "execution_count": 1,
   "metadata": {},
   "outputs": [],
   "source": [
    "import numpy as np\n",
    "from matplotlib import colors\n",
    "import matplotlib.pyplot as plt"
   ]
  },
  {
   "cell_type": "code",
   "execution_count": 8,
   "metadata": {},
   "outputs": [],
   "source": [
    "xvec1=np.array([0.0,0.3,0.7,1.0,1.0,0.3])\n",
    "xvec2=np.array([0.3,1.0,0.5,1.0,0.2,0.7])"
   ]
  },
  {
   "cell_type": "code",
   "execution_count": 11,
   "metadata": {},
   "outputs": [],
   "source": [
    "def get_change(xvec1,xvec2):\n",
    "    # define scalar 'change'\n",
    "    # 'change' is the maximum value of the absolute difference between two vectors\n",
    "    change=max(abs(xvec1-xvec2))\n",
    "    return change"
   ]
  },
  {
   "cell_type": "code",
   "execution_count": 10,
   "metadata": {},
   "outputs": [
    {
     "data": {
      "text/plain": [
       "<matplotlib.image.AxesImage at 0x195354b06a0>"
      ]
     },
     "execution_count": 10,
     "metadata": {},
     "output_type": "execute_result"
    },
    {
     "data": {
      "image/png": "[encoded data removed]",
      "text/plain": [
       "<Figure size 432x288 with 1 Axes>"
      ]
     },
     "metadata": {
      "needs_background": "light"
     },
     "output_type": "display_data"
    }
   ],
   "source": [
    "nelx=3\n",
    "nely=2\n",
    "X = xvec1.reshape(nelx,nely)\n",
    "plt.imshow(-X.T, cmap='gray',interpolation='none',norm=colors.Normalize(vmin=-1,vmax=0))"
   ]
  },
  {
   "cell_type": "code",
   "execution_count": 12,
   "metadata": {},
   "outputs": [],
   "source": [
    "def dfunc(x, dx):\n",
    "    # ADD CODE HERE\n",
    "    df=[]\n",
    "    for i in range(len(x)):\n",
    "        d=np.array([0]*i+[dx]*1+[0]*(len(x)-i-1))\n",
    "        df.append((func(x+d)-func(x))/dx)\n",
    "    df=np.array(df)\n",
    "    print(np.c_[df,df_exact])\n",
    "    return df"
   ]
  },
  {
   "cell_type": "code",
   "execution_count": 13,
   "metadata": {},
   "outputs": [],
   "source": [
    "identity_filter=np.array([[0.,0.,0.],[0.,1.,0.],[0.,0.,0.]])\n",
    "blur_filter=np.array([[1/9,1/9,1/9],[1/9,1/9,1/9],[1/9,1/9,1/9]])\n",
    "sharpen_filter=2*identity_filter-blur_filter\n",
    "identity_image=convolve2d(image, identity_filter, mode = 'same')\n",
    "sharpened_image=convolve2d(image, sharpen_filter, mode = 'same')\n",
    "blurred_image=convolve2d(image, blur_filter, mode = 'same')"
   ]
  },
  {
   "cell_type": "code",
   "execution_count": 30,
   "metadata": {},
   "outputs": [
    {
     "data": {
      "text/plain": [
       "1"
      ]
     },
     "execution_count": 30,
     "metadata": {},
     "output_type": "execute_result"
    }
   ],
   "source": [
    "import math\n",
    "math.floor(1.5)"
   ]
  },
  {
   "cell_type": "code",
   "execution_count": null,
   "metadata": {},
   "outputs": [],
   "source": [
    "def create_kernel(rmin):\n",
    "    # rmin: float\n",
    "    # H: 2d numpy array\n",
    "    # code to obtain kernel H\n",
    "    N = 2*math.floor(rmin) + 1\n",
    "    H=[]\n",
    "    for i in range(N):\n",
    "        hi=[]\n",
    "        for j in range(N):\n",
    "            l=((i-(N-1)/2)**2+(j-(N-1)/2)**2)**0.5\n",
    "            hi.append(max(rmin-l,0))\n",
    "        H.append(hi)\n",
    "    H=np.array(H)\n",
    "    return H"
   ]
  },
  {
   "cell_type": "code",
   "execution_count": 31,
   "metadata": {},
   "outputs": [],
   "source": [
    "def create_kernel(rmin,nelx,nely):\n",
    "    # rmin: float\n",
    "    # H: 2d numpy array\n",
    "    # code to obtain kernel H\n",
    "    I=np.array([1]*(nelx*nely)).reshape(nelx,nely)\n",
    "    H=[]\n",
    "    for i in range(nely):\n",
    "        hi=[]\n",
    "        for j in range(nelx):\n",
    "            l=((i-(nely-1)/2)**2+(j-(nelx-1)/2)**2)**0.5\n",
    "            hi.append(max(rmin-l,0))\n",
    "        H.append(hi)\n",
    "    H=np.array(H)\n",
    "    return H,I@H"
   ]
  },
  {
   "cell_type": "code",
   "execution_count": 34,
   "metadata": {},
   "outputs": [],
   "source": [
    "def filter_design_variable(xvec,H,H1):\n",
    "    # add code here to filter xvec and return xf\n",
    "    nely=len(H)\n",
    "    nelx=len(H[0])\n",
    "    x=xvec.reshape(nelx,nely)\n",
    "    f=(x@H)/H1\n",
    "    xf=f.flatten()\n",
    "    return xf"
   ]
  },
  {
   "cell_type": "code",
   "execution_count": 37,
   "metadata": {},
   "outputs": [
    {
     "data": {
      "text/plain": [
       "array([[1, 2, 4, 5],\n",
       "       [6, 7, 8, 9]])"
      ]
     },
     "execution_count": 37,
     "metadata": {},
     "output_type": "execute_result"
    }
   ],
   "source": [
    "a=np.array([1,2,4,5,6,7,8,9])\n",
    "b=np.array([[5,91,2,4],[1,5,7,9]])\n",
    "a.reshape(b.shape)"
   ]
  },
  {
   "cell_type": "code",
   "execution_count": 41,
   "metadata": {},
   "outputs": [],
   "source": [
    "A=np.array([[1,np.cos(1)],[9,np.cos(3)],[25,np.cos(5)]])"
   ]
  },
  {
   "cell_type": "code",
   "execution_count": 43,
   "metadata": {},
   "outputs": [
    {
     "data": {
      "text/plain": [
       "array([[707.        ,  -1.27807553],\n",
       "       [ -1.27807553,   1.35247596]])"
      ]
     },
     "execution_count": 43,
     "metadata": {},
     "output_type": "execute_result"
    }
   ],
   "source": [
    "A.T@A"
   ]
  },
  {
   "cell_type": "code",
   "execution_count": null,
   "metadata": {},
   "outputs": [],
   "source": []
  },
  {
   "cell_type": "code",
   "execution_count": null,
   "metadata": {},
   "outputs": [],
   "source": []
  },
  {
   "cell_type": "code",
   "execution_count": null,
   "metadata": {},
   "outputs": [],
   "source": []
  },
  {
   "cell_type": "code",
   "execution_count": null,
   "metadata": {},
   "outputs": [],
   "source": []
  }
 ],
 "metadata": {
  "kernelspec": {
   "display_name": "Python 3",
   "language": "python",
   "name": "python3"
  },
  "language_info": {
   "codemirror_mode": {
    "name": "ipython",
    "version": 3
   },
   "file_extension": ".py",
   "mimetype": "text/x-python",
   "name": "python",
   "nbconvert_exporter": "python",
   "pygments_lexer": "ipython3",
   "version": "3.8.3"
  }
 },
 "nbformat": 4,
 "nbformat_minor": 4
}
