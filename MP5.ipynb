{
 "cells": [
  {
   "cell_type": "code",
   "execution_count": 1,
   "metadata": {},
   "outputs": [],
   "source": [
    "import numpy as np\n",
    "import pandas as pd\n",
    "import numpy.linalg as la\n",
    "import matplotlib.pyplot as plt"
   ]
  },
  {
   "cell_type": "code",
   "execution_count": 50,
   "metadata": {},
   "outputs": [],
   "source": [
    "labels=['patient ID', 'Malignant/Benign', 'radius (mean)', 'radius (stderr)', 'radius (worst)', 'texture (mean)', 'texture (stderr)', 'texture (worst)', 'perimeter (mean)', 'perimeter (stderr)', 'perimeter (worst)', 'area (mean)', 'area (stderr)', 'area (worst)', 'smoothness (mean)', 'smoothness (stderr)', 'smoothness (worst)', 'compactness (mean)', 'compactness (stderr)', 'compactness (worst)', 'concavity (mean)', 'concavity (stderr)', 'concavity (worst)', 'concave points (mean)', 'concave points (stderr)', 'concave points (worst)', 'symmetry (mean)', 'symmetry (stderr)', 'symmetry (worst)', 'fractal dimension (mean)', 'fractal dimension (stderr)', 'fractal dimension (worst)']\n",
    "tumor_data = pd.io.parsers.read_csv(\"breast-cancer-train.dat\",header=None, names=labels)"
   ]
  },
  {
   "cell_type": "code",
   "execution_count": 3,
   "metadata": {},
   "outputs": [
    {
     "data": {
      "text/html": [
       "<div>\n",
       "<style scoped>\n",
       "    .dataframe tbody tr th:only-of-type {\n",
       "        vertical-align: middle;\n",
       "    }\n",
       "\n",
       "    .dataframe tbody tr th {\n",
       "        vertical-align: top;\n",
       "    }\n",
       "\n",
       "    .dataframe thead th {\n",
       "        text-align: right;\n",
       "    }\n",
       "</style>\n",
       "<table border=\"1\" class=\"dataframe\">\n",
       "  <thead>\n",
       "    <tr style=\"text-align: right;\">\n",
       "      <th></th>\n",
       "      <th>patient ID</th>\n",
       "      <th>Malignant/Benign</th>\n",
       "      <th>radius (mean)</th>\n",
       "      <th>radius (stderr)</th>\n",
       "      <th>radius (worst)</th>\n",
       "      <th>texture (mean)</th>\n",
       "      <th>texture (stderr)</th>\n",
       "      <th>texture (worst)</th>\n",
       "      <th>perimeter (mean)</th>\n",
       "      <th>perimeter (stderr)</th>\n",
       "      <th>...</th>\n",
       "      <th>concavity (worst)</th>\n",
       "      <th>concave points (mean)</th>\n",
       "      <th>concave points (stderr)</th>\n",
       "      <th>concave points (worst)</th>\n",
       "      <th>symmetry (mean)</th>\n",
       "      <th>symmetry (stderr)</th>\n",
       "      <th>symmetry (worst)</th>\n",
       "      <th>fractal dimension (mean)</th>\n",
       "      <th>fractal dimension (stderr)</th>\n",
       "      <th>fractal dimension (worst)</th>\n",
       "    </tr>\n",
       "  </thead>\n",
       "  <tbody>\n",
       "    <tr>\n",
       "      <th>0</th>\n",
       "      <td>842302</td>\n",
       "      <td>M</td>\n",
       "      <td>17.99</td>\n",
       "      <td>10.38</td>\n",
       "      <td>122.80</td>\n",
       "      <td>1001.0</td>\n",
       "      <td>0.11840</td>\n",
       "      <td>0.27760</td>\n",
       "      <td>0.30010</td>\n",
       "      <td>0.14710</td>\n",
       "      <td>...</td>\n",
       "      <td>25.38</td>\n",
       "      <td>17.33</td>\n",
       "      <td>184.60</td>\n",
       "      <td>2019.0</td>\n",
       "      <td>0.16220</td>\n",
       "      <td>0.66560</td>\n",
       "      <td>0.71190</td>\n",
       "      <td>0.26540</td>\n",
       "      <td>0.4601</td>\n",
       "      <td>0.11890</td>\n",
       "    </tr>\n",
       "    <tr>\n",
       "      <th>1</th>\n",
       "      <td>842517</td>\n",
       "      <td>M</td>\n",
       "      <td>20.57</td>\n",
       "      <td>17.77</td>\n",
       "      <td>132.90</td>\n",
       "      <td>1326.0</td>\n",
       "      <td>0.08474</td>\n",
       "      <td>0.07864</td>\n",
       "      <td>0.08690</td>\n",
       "      <td>0.07017</td>\n",
       "      <td>...</td>\n",
       "      <td>24.99</td>\n",
       "      <td>23.41</td>\n",
       "      <td>158.80</td>\n",
       "      <td>1956.0</td>\n",
       "      <td>0.12380</td>\n",
       "      <td>0.18660</td>\n",
       "      <td>0.24160</td>\n",
       "      <td>0.18600</td>\n",
       "      <td>0.2750</td>\n",
       "      <td>0.08902</td>\n",
       "    </tr>\n",
       "    <tr>\n",
       "      <th>2</th>\n",
       "      <td>84300903</td>\n",
       "      <td>M</td>\n",
       "      <td>19.69</td>\n",
       "      <td>21.25</td>\n",
       "      <td>130.00</td>\n",
       "      <td>1203.0</td>\n",
       "      <td>0.10960</td>\n",
       "      <td>0.15990</td>\n",
       "      <td>0.19740</td>\n",
       "      <td>0.12790</td>\n",
       "      <td>...</td>\n",
       "      <td>23.57</td>\n",
       "      <td>25.53</td>\n",
       "      <td>152.50</td>\n",
       "      <td>1709.0</td>\n",
       "      <td>0.14440</td>\n",
       "      <td>0.42450</td>\n",
       "      <td>0.45040</td>\n",
       "      <td>0.24300</td>\n",
       "      <td>0.3613</td>\n",
       "      <td>0.08758</td>\n",
       "    </tr>\n",
       "    <tr>\n",
       "      <th>3</th>\n",
       "      <td>84348301</td>\n",
       "      <td>M</td>\n",
       "      <td>11.42</td>\n",
       "      <td>20.38</td>\n",
       "      <td>77.58</td>\n",
       "      <td>386.1</td>\n",
       "      <td>0.14250</td>\n",
       "      <td>0.28390</td>\n",
       "      <td>0.24140</td>\n",
       "      <td>0.10520</td>\n",
       "      <td>...</td>\n",
       "      <td>14.91</td>\n",
       "      <td>26.50</td>\n",
       "      <td>98.87</td>\n",
       "      <td>567.7</td>\n",
       "      <td>0.20980</td>\n",
       "      <td>0.86630</td>\n",
       "      <td>0.68690</td>\n",
       "      <td>0.25750</td>\n",
       "      <td>0.6638</td>\n",
       "      <td>0.17300</td>\n",
       "    </tr>\n",
       "    <tr>\n",
       "      <th>4</th>\n",
       "      <td>84358402</td>\n",
       "      <td>M</td>\n",
       "      <td>20.29</td>\n",
       "      <td>14.34</td>\n",
       "      <td>135.10</td>\n",
       "      <td>1297.0</td>\n",
       "      <td>0.10030</td>\n",
       "      <td>0.13280</td>\n",
       "      <td>0.19800</td>\n",
       "      <td>0.10430</td>\n",
       "      <td>...</td>\n",
       "      <td>22.54</td>\n",
       "      <td>16.67</td>\n",
       "      <td>152.20</td>\n",
       "      <td>1575.0</td>\n",
       "      <td>0.13740</td>\n",
       "      <td>0.20500</td>\n",
       "      <td>0.40000</td>\n",
       "      <td>0.16250</td>\n",
       "      <td>0.2364</td>\n",
       "      <td>0.07678</td>\n",
       "    </tr>\n",
       "    <tr>\n",
       "      <th>...</th>\n",
       "      <td>...</td>\n",
       "      <td>...</td>\n",
       "      <td>...</td>\n",
       "      <td>...</td>\n",
       "      <td>...</td>\n",
       "      <td>...</td>\n",
       "      <td>...</td>\n",
       "      <td>...</td>\n",
       "      <td>...</td>\n",
       "      <td>...</td>\n",
       "      <td>...</td>\n",
       "      <td>...</td>\n",
       "      <td>...</td>\n",
       "      <td>...</td>\n",
       "      <td>...</td>\n",
       "      <td>...</td>\n",
       "      <td>...</td>\n",
       "      <td>...</td>\n",
       "      <td>...</td>\n",
       "      <td>...</td>\n",
       "      <td>...</td>\n",
       "    </tr>\n",
       "    <tr>\n",
       "      <th>295</th>\n",
       "      <td>891923</td>\n",
       "      <td>B</td>\n",
       "      <td>13.77</td>\n",
       "      <td>13.27</td>\n",
       "      <td>88.06</td>\n",
       "      <td>582.7</td>\n",
       "      <td>0.09198</td>\n",
       "      <td>0.06221</td>\n",
       "      <td>0.01063</td>\n",
       "      <td>0.01917</td>\n",
       "      <td>...</td>\n",
       "      <td>14.67</td>\n",
       "      <td>16.93</td>\n",
       "      <td>94.17</td>\n",
       "      <td>661.1</td>\n",
       "      <td>0.11700</td>\n",
       "      <td>0.10720</td>\n",
       "      <td>0.03732</td>\n",
       "      <td>0.05802</td>\n",
       "      <td>0.2823</td>\n",
       "      <td>0.06794</td>\n",
       "    </tr>\n",
       "    <tr>\n",
       "      <th>296</th>\n",
       "      <td>891936</td>\n",
       "      <td>B</td>\n",
       "      <td>10.91</td>\n",
       "      <td>12.35</td>\n",
       "      <td>69.14</td>\n",
       "      <td>363.7</td>\n",
       "      <td>0.08518</td>\n",
       "      <td>0.04721</td>\n",
       "      <td>0.01236</td>\n",
       "      <td>0.01369</td>\n",
       "      <td>...</td>\n",
       "      <td>11.37</td>\n",
       "      <td>14.82</td>\n",
       "      <td>72.42</td>\n",
       "      <td>392.2</td>\n",
       "      <td>0.09312</td>\n",
       "      <td>0.07506</td>\n",
       "      <td>0.02884</td>\n",
       "      <td>0.03194</td>\n",
       "      <td>0.2143</td>\n",
       "      <td>0.06643</td>\n",
       "    </tr>\n",
       "    <tr>\n",
       "      <th>297</th>\n",
       "      <td>892189</td>\n",
       "      <td>M</td>\n",
       "      <td>11.76</td>\n",
       "      <td>18.14</td>\n",
       "      <td>75.00</td>\n",
       "      <td>431.1</td>\n",
       "      <td>0.09968</td>\n",
       "      <td>0.05914</td>\n",
       "      <td>0.02685</td>\n",
       "      <td>0.03515</td>\n",
       "      <td>...</td>\n",
       "      <td>13.36</td>\n",
       "      <td>23.39</td>\n",
       "      <td>85.10</td>\n",
       "      <td>553.6</td>\n",
       "      <td>0.11370</td>\n",
       "      <td>0.07974</td>\n",
       "      <td>0.06120</td>\n",
       "      <td>0.07160</td>\n",
       "      <td>0.1978</td>\n",
       "      <td>0.06915</td>\n",
       "    </tr>\n",
       "    <tr>\n",
       "      <th>298</th>\n",
       "      <td>892214</td>\n",
       "      <td>B</td>\n",
       "      <td>14.26</td>\n",
       "      <td>18.17</td>\n",
       "      <td>91.22</td>\n",
       "      <td>633.1</td>\n",
       "      <td>0.06576</td>\n",
       "      <td>0.05220</td>\n",
       "      <td>0.02475</td>\n",
       "      <td>0.01374</td>\n",
       "      <td>...</td>\n",
       "      <td>16.22</td>\n",
       "      <td>25.26</td>\n",
       "      <td>105.80</td>\n",
       "      <td>819.7</td>\n",
       "      <td>0.09445</td>\n",
       "      <td>0.21670</td>\n",
       "      <td>0.15650</td>\n",
       "      <td>0.07530</td>\n",
       "      <td>0.2636</td>\n",
       "      <td>0.07676</td>\n",
       "    </tr>\n",
       "    <tr>\n",
       "      <th>299</th>\n",
       "      <td>892399</td>\n",
       "      <td>B</td>\n",
       "      <td>10.51</td>\n",
       "      <td>23.09</td>\n",
       "      <td>66.85</td>\n",
       "      <td>334.2</td>\n",
       "      <td>0.10150</td>\n",
       "      <td>0.06797</td>\n",
       "      <td>0.02495</td>\n",
       "      <td>0.01875</td>\n",
       "      <td>...</td>\n",
       "      <td>10.93</td>\n",
       "      <td>24.22</td>\n",
       "      <td>70.10</td>\n",
       "      <td>362.7</td>\n",
       "      <td>0.11430</td>\n",
       "      <td>0.08614</td>\n",
       "      <td>0.04158</td>\n",
       "      <td>0.03125</td>\n",
       "      <td>0.2227</td>\n",
       "      <td>0.06777</td>\n",
       "    </tr>\n",
       "  </tbody>\n",
       "</table>\n",
       "<p>300 rows × 32 columns</p>\n",
       "</div>"
      ],
      "text/plain": [
       "     patient ID Malignant/Benign  radius (mean)  radius (stderr)  \\\n",
       "0        842302                M          17.99            10.38   \n",
       "1        842517                M          20.57            17.77   \n",
       "2      84300903                M          19.69            21.25   \n",
       "3      84348301                M          11.42            20.38   \n",
       "4      84358402                M          20.29            14.34   \n",
       "..          ...              ...            ...              ...   \n",
       "295      891923                B          13.77            13.27   \n",
       "296      891936                B          10.91            12.35   \n",
       "297      892189                M          11.76            18.14   \n",
       "298      892214                B          14.26            18.17   \n",
       "299      892399                B          10.51            23.09   \n",
       "\n",
       "     radius (worst)  texture (mean)  texture (stderr)  texture (worst)  \\\n",
       "0            122.80          1001.0           0.11840          0.27760   \n",
       "1            132.90          1326.0           0.08474          0.07864   \n",
       "2            130.00          1203.0           0.10960          0.15990   \n",
       "3             77.58           386.1           0.14250          0.28390   \n",
       "4            135.10          1297.0           0.10030          0.13280   \n",
       "..              ...             ...               ...              ...   \n",
       "295           88.06           582.7           0.09198          0.06221   \n",
       "296           69.14           363.7           0.08518          0.04721   \n",
       "297           75.00           431.1           0.09968          0.05914   \n",
       "298           91.22           633.1           0.06576          0.05220   \n",
       "299           66.85           334.2           0.10150          0.06797   \n",
       "\n",
       "     perimeter (mean)  perimeter (stderr)  ...  concavity (worst)  \\\n",
       "0             0.30010             0.14710  ...              25.38   \n",
       "1             0.08690             0.07017  ...              24.99   \n",
       "2             0.19740             0.12790  ...              23.57   \n",
       "3             0.24140             0.10520  ...              14.91   \n",
       "4             0.19800             0.10430  ...              22.54   \n",
       "..                ...                 ...  ...                ...   \n",
       "295           0.01063             0.01917  ...              14.67   \n",
       "296           0.01236             0.01369  ...              11.37   \n",
       "297           0.02685             0.03515  ...              13.36   \n",
       "298           0.02475             0.01374  ...              16.22   \n",
       "299           0.02495             0.01875  ...              10.93   \n",
       "\n",
       "     concave points (mean)  concave points (stderr)  concave points (worst)  \\\n",
       "0                    17.33                   184.60                  2019.0   \n",
       "1                    23.41                   158.80                  1956.0   \n",
       "2                    25.53                   152.50                  1709.0   \n",
       "3                    26.50                    98.87                   567.7   \n",
       "4                    16.67                   152.20                  1575.0   \n",
       "..                     ...                      ...                     ...   \n",
       "295                  16.93                    94.17                   661.1   \n",
       "296                  14.82                    72.42                   392.2   \n",
       "297                  23.39                    85.10                   553.6   \n",
       "298                  25.26                   105.80                   819.7   \n",
       "299                  24.22                    70.10                   362.7   \n",
       "\n",
       "     symmetry (mean)  symmetry (stderr)  symmetry (worst)  \\\n",
       "0            0.16220            0.66560           0.71190   \n",
       "1            0.12380            0.18660           0.24160   \n",
       "2            0.14440            0.42450           0.45040   \n",
       "3            0.20980            0.86630           0.68690   \n",
       "4            0.13740            0.20500           0.40000   \n",
       "..               ...                ...               ...   \n",
       "295          0.11700            0.10720           0.03732   \n",
       "296          0.09312            0.07506           0.02884   \n",
       "297          0.11370            0.07974           0.06120   \n",
       "298          0.09445            0.21670           0.15650   \n",
       "299          0.11430            0.08614           0.04158   \n",
       "\n",
       "     fractal dimension (mean)  fractal dimension (stderr)  \\\n",
       "0                     0.26540                      0.4601   \n",
       "1                     0.18600                      0.2750   \n",
       "2                     0.24300                      0.3613   \n",
       "3                     0.25750                      0.6638   \n",
       "4                     0.16250                      0.2364   \n",
       "..                        ...                         ...   \n",
       "295                   0.05802                      0.2823   \n",
       "296                   0.03194                      0.2143   \n",
       "297                   0.07160                      0.1978   \n",
       "298                   0.07530                      0.2636   \n",
       "299                   0.03125                      0.2227   \n",
       "\n",
       "     fractal dimension (worst)  \n",
       "0                      0.11890  \n",
       "1                      0.08902  \n",
       "2                      0.08758  \n",
       "3                      0.17300  \n",
       "4                      0.07678  \n",
       "..                         ...  \n",
       "295                    0.06794  \n",
       "296                    0.06643  \n",
       "297                    0.06915  \n",
       "298                    0.07676  \n",
       "299                    0.06777  \n",
       "\n",
       "[300 rows x 32 columns]"
      ]
     },
     "execution_count": 3,
     "metadata": {},
     "output_type": "execute_result"
    }
   ],
   "source": [
    "tumor_data"
   ]
  },
  {
   "cell_type": "markdown",
   "metadata": {},
   "source": [
    "#### 1"
   ]
  },
  {
   "cell_type": "code",
   "execution_count": 15,
   "metadata": {},
   "outputs": [
    {
     "data": {
      "text/plain": [
       "Text(0.5, 1.0, 'number of radius')"
      ]
     },
     "execution_count": 15,
     "metadata": {},
     "output_type": "execute_result"
    },
    {
     "data": {
      "image/png": "[encoded data removed]",
      "text/plain": [
       "<Figure size 432x288 with 1 Axes>"
      ]
     },
     "metadata": {
      "needs_background": "light"
     },
     "output_type": "display_data"
    }
   ],
   "source": [
    "user_column='radius (mean)'\n",
    "tumor_data[user_column].hist()\n",
    "plt.xlabel('radius (mean)')\n",
    "plt.ylabel('number')\n",
    "plt.title('number of radius')"
   ]
  },
  {
   "cell_type": "markdown",
   "metadata": {},
   "source": [
    "#### 2"
   ]
  },
  {
   "cell_type": "code",
   "execution_count": 22,
   "metadata": {},
   "outputs": [],
   "source": [
    "A=np.array([[2,200],[4,500],[5,300]])\n",
    "b=np.array([200,400,200])"
   ]
  },
  {
   "cell_type": "code",
   "execution_count": 23,
   "metadata": {},
   "outputs": [
    {
     "data": {
      "text/plain": [
       "array([-15.87301587,   0.95238095])"
      ]
     },
     "execution_count": 23,
     "metadata": {},
     "output_type": "execute_result"
    }
   ],
   "source": [
    "la.solve(A.T@A,(A.T)@b)"
   ]
  },
  {
   "cell_type": "code",
   "execution_count": 25,
   "metadata": {},
   "outputs": [
    {
     "data": {
      "text/plain": [
       "(array([-15.87301587,   0.95238095]),\n",
       " array([1904.76190476]),\n",
       " 2,\n",
       " array([616.4738655 ,   2.23005838]))"
      ]
     },
     "execution_count": 25,
     "metadata": {},
     "output_type": "execute_result"
    }
   ],
   "source": [
    "la.lstsq(A,b,rcond=None)"
   ]
  },
  {
   "cell_type": "code",
   "execution_count": 26,
   "metadata": {},
   "outputs": [
    {
     "data": {
      "text/plain": [
       "158.73015826"
      ]
     },
     "execution_count": 26,
     "metadata": {},
     "output_type": "execute_result"
    }
   ],
   "source": [
    "2*-15.87301587+200*0.95238095"
   ]
  },
  {
   "cell_type": "markdown",
   "metadata": {},
   "source": [
    "#### 3"
   ]
  },
  {
   "cell_type": "code",
   "execution_count": 4,
   "metadata": {},
   "outputs": [],
   "source": [
    "b=tumor_data[['Malignant/Benign']].copy()\n",
    "b[b['Malignant/Benign']=='M']=1\n",
    "b[b['Malignant/Benign']=='B']=-1\n",
    "b=np.array(b).reshape(300,).astype(float)"
   ]
  },
  {
   "cell_type": "markdown",
   "metadata": {},
   "source": [
    "#### 4"
   ]
  },
  {
   "cell_type": "code",
   "execution_count": 51,
   "metadata": {},
   "outputs": [],
   "source": [
    "subset_labels=['area (mean)', 'radius (stderr)', 'concavity (worst)', 'area (stderr)']"
   ]
  },
  {
   "cell_type": "code",
   "execution_count": 57,
   "metadata": {},
   "outputs": [],
   "source": [
    "A_linear=np.array(tumor_data[subset_labels])"
   ]
  },
  {
   "cell_type": "code",
   "execution_count": 60,
   "metadata": {
    "scrolled": true
   },
   "outputs": [
    {
     "data": {
      "text/plain": [
       "(300, 4)"
      ]
     },
     "execution_count": 60,
     "metadata": {},
     "output_type": "execute_result"
    }
   ],
   "source": [
    "A_linear.shape"
   ]
  },
  {
   "cell_type": "markdown",
   "metadata": {},
   "source": [
    "#### 5"
   ]
  },
  {
   "cell_type": "code",
   "execution_count": 59,
   "metadata": {
    "scrolled": true
   },
   "outputs": [],
   "source": [
    "length=tumor_data.shape[0]\n",
    "n=len(subset_labels)\n",
    "A_quad=A_linear.copy()\n",
    "for i in range(n):\n",
    "    t=(np.array(tumor_data[subset_labels[i]])**2).reshape(length,1)\n",
    "    A_quad=np.hstack((A_quad,t))\n",
    "for i in range(n-1):\n",
    "    for j in range(i+1,n):\n",
    "        t=(np.array(tumor_data[subset_labels[i]])*np.array(tumor_data[subset_labels[j]])).reshape(length,1)\n",
    "        A_quad=np.hstack((A_quad,t))"
   ]
  },
  {
   "cell_type": "code",
   "execution_count": 29,
   "metadata": {},
   "outputs": [
    {
     "data": {
      "text/plain": [
       "(300, 14)"
      ]
     },
     "execution_count": 29,
     "metadata": {},
     "output_type": "execute_result"
    }
   ],
   "source": [
    "A_quad.shape"
   ]
  },
  {
   "cell_type": "markdown",
   "metadata": {},
   "source": [
    "#### 6"
   ]
  },
  {
   "cell_type": "code",
   "execution_count": 52,
   "metadata": {},
   "outputs": [],
   "source": [
    "weights_linear=la.solve(A_linear.T@A_linear,(A_linear.T)@b)\n",
    "weights_quad=la.solve(A_quad.T@A_quad,(A_quad.T)@b)"
   ]
  },
  {
   "cell_type": "code",
   "execution_count": 54,
   "metadata": {},
   "outputs": [
    {
     "data": {
      "text/plain": [
       "array([-3.12543986e+01,  1.22848653e-02,  9.08517055e-02,  4.88695776e-01])"
      ]
     },
     "execution_count": 54,
     "metadata": {},
     "output_type": "execute_result"
    }
   ],
   "source": [
    "weights_linear"
   ]
  },
  {
   "cell_type": "code",
   "execution_count": 42,
   "metadata": {},
   "outputs": [],
   "source": [
    "p_lin=A_linear@weights_linear\n",
    "p_lin[p_lin>0]=1\n",
    "p_lin[p_lin<=0]=-1"
   ]
  },
  {
   "cell_type": "code",
   "execution_count": 43,
   "metadata": {},
   "outputs": [],
   "source": [
    "p_quad=A_quad@weights_quad\n",
    "p_quad[p_quad>0]=1\n",
    "p_quad[p_quad<=0]=-1"
   ]
  },
  {
   "cell_type": "code",
   "execution_count": 39,
   "metadata": {},
   "outputs": [],
   "source": [
    "d_lin=p_lin-b\n",
    "d_quad=p_quad-b\n",
    "fp_linear=len(d_lin[d_lin==2])\n",
    "fn_linear=len(d_lin[d_lin==-2])\n",
    "fp_quad=len(d_quad[d_quad==2])\n",
    "fn_quad=len(d_quad[d_quad==-2])"
   ]
  },
  {
   "cell_type": "code",
   "execution_count": 62,
   "metadata": {},
   "outputs": [
    {
     "data": {
      "text/plain": [
       "(300,)"
      ]
     },
     "execution_count": 62,
     "metadata": {},
     "output_type": "execute_result"
    }
   ],
   "source": [
    "p_quad.shape"
   ]
  },
  {
   "cell_type": "code",
   "execution_count": null,
   "metadata": {},
   "outputs": [],
   "source": []
  },
  {
   "cell_type": "code",
   "execution_count": null,
   "metadata": {},
   "outputs": [],
   "source": []
  }
 ],
 "metadata": {
  "kernelspec": {
   "display_name": "Python 3",
   "language": "python",
   "name": "python3"
  },
  "language_info": {
   "codemirror_mode": {
    "name": "ipython",
    "version": 3
   },
   "file_extension": ".py",
   "mimetype": "text/x-python",
   "name": "python",
   "nbconvert_exporter": "python",
   "pygments_lexer": "ipython3",
   "version": "3.8.3"
  }
 },
 "nbformat": 4,
 "nbformat_minor": 4
}
