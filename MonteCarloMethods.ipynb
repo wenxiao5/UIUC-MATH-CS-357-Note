{
 "cells": [
  {
   "cell_type": "code",
   "execution_count": 5,
   "metadata": {},
   "outputs": [
    {
     "data": {
      "text/plain": [
       "1"
      ]
     },
     "execution_count": 5,
     "metadata": {},
     "output_type": "execute_result"
    }
   ],
   "source": [
    "1"
   ]
  },
  {
   "cell_type": "code",
   "execution_count": 2,
   "metadata": {},
   "outputs": [
    {
     "data": {
      "text/plain": [
       "5.312"
      ]
     },
     "execution_count": 2,
     "metadata": {},
     "output_type": "execute_result"
    }
   ],
   "source": [
    "import numpy as np\n",
    "\n",
    "## Part 1\n",
    "\n",
    "def insideCylinders(pos,r):\n",
    "    x, y, z = pos\n",
    "    # Return true if the point is inside the Steinmetz solid\n",
    "    # write some code here\n",
    "    if x**2+y**2<=r**2 and y**2+z**2<=r**2:\n",
    "        return True\n",
    "    else:\n",
    "        return False\n",
    "\n",
    "## Part 2\n",
    "\n",
    "def prob_inside_volume(N,r):\n",
    "    n=0\n",
    "    for i in range(N):\n",
    "        x=np.random.uniform(-r,r)\n",
    "        y=np.random.uniform(-r,r)\n",
    "        z=np.random.uniform(-r,r)\n",
    "        pos=x,y,z\n",
    "        if insideCylinders(pos,r):\n",
    "            n+=1\n",
    "    # Calculate the probability that any point is inside the Steinmetz solid\n",
    "    return n/N\n",
    "\n",
    "## Part 3\n",
    "N = 1000\n",
    "r = 1\n",
    "# Determine approximated volume\n",
    "volume_approx=prob_inside_volume(N,r)*((2*r)**3)\n",
    "volume_approx"
   ]
  },
  {
   "cell_type": "code",
   "execution_count": null,
   "metadata": {
    "colab": {},
    "colab_type": "code",
    "id": "FEvTRy3EyHIt"
   },
   "outputs": [],
   "source": [
    "import matplotlib.pyplot as plt\n",
    "%matplotlib inline"
   ]
  },
  {
   "cell_type": "markdown",
   "metadata": {
    "colab_type": "text",
    "id": "REJqvG0z6Bkj"
   },
   "source": [
    "# Randomness\n",
    "\n",
    "What type of problems can we solve with the help of random numbers?\n",
    "\n",
    "We can compute (potentially) complicated averages:\n",
    "\n",
    "*   How much my stock/option portfolio is going to be worth?\n",
    "*   What are my odds to win a certain competition?\n",
    "\n"
   ]
  },
  {
   "cell_type": "markdown",
   "metadata": {
    "colab_type": "text",
    "id": "ONUZol4M8J7y"
   },
   "source": [
    "### Random Number Generators\n",
    "\n",
    "*   Computers are deterministic - operations are reproducible\n",
    "*   How do we get random numbers out of a deterministic machine?"
   ]
  },
  {
   "cell_type": "markdown",
   "metadata": {
    "colab_type": "text",
    "id": "e3f1QnOVyHIz"
   },
   "source": [
    "You can use the library `numpy.random` to generate random numbes:"
   ]
  },
  {
   "cell_type": "code",
   "execution_count": 1,
   "metadata": {
    "colab": {},
    "colab_type": "code",
    "id": "ETXJlNHY8pIa"
   },
   "outputs": [
    {
     "data": {
      "text/plain": [
       "array([0.52518851, 0.1689753 , 0.26963603, 0.49288251, 0.80717177,\n",
       "       0.95074384, 0.96880547, 0.31386315, 0.8934752 , 0.22692594])"
      ]
     },
     "execution_count": 1,
     "metadata": {},
     "output_type": "execute_result"
    }
   ],
   "source": [
    "import numpy as np\n",
    "\n",
    "np.random.rand(10)"
   ]
  },
  {
   "cell_type": "markdown",
   "metadata": {
    "colab_type": "text",
    "id": "_EA1JFDlyHI3"
   },
   "source": [
    "If you want to generate a random integer number over a given range, you can use\n",
    "\n",
    "`np.random.randint(low,high)`\n",
    "\n",
    "that returns a random integer from low (inclusive) to high (exclusive)."
   ]
  },
  {
   "cell_type": "code",
   "execution_count": 32,
   "metadata": {
    "colab": {},
    "colab_type": "code",
    "id": "8j6L5uG1yHI4"
   },
   "outputs": [],
   "source": [
    "N=10\n",
    "xy=6*np.random.rand(N,2)-3\n",
    "z=2*np.random.rand(N,1)\n",
    "for i in range(N):\n",
    "    xi,yi=list(xy[i])\n",
    "    zi=list(z[i])[0]\n",
    "    if xi"
   ]
  },
  {
   "cell_type": "markdown",
   "metadata": {
    "colab_type": "text",
    "id": "h43RU51gyHI7"
   },
   "source": [
    "Note that if you use the library `random` to accomplish the same thing:\n",
    "\n",
    "`random.randint(low,high)`\n",
    "\n",
    "the function returns a random integer from low (inclusive) to high (**inclusive**)."
   ]
  },
  {
   "cell_type": "code",
   "execution_count": null,
   "metadata": {
    "colab": {},
    "colab_type": "code",
    "id": "u6kMju4zyHI8"
   },
   "outputs": [],
   "source": [
    "import random\n",
    "random.randint(1,10)"
   ]
  },
  {
   "cell_type": "markdown",
   "metadata": {
    "colab_type": "text",
    "id": "K3t7YZczyHI-"
   },
   "source": [
    "Generating many random numbers at one, using a numpy array:"
   ]
  },
  {
   "cell_type": "code",
   "execution_count": null,
   "metadata": {
    "colab": {},
    "colab_type": "code",
    "id": "W_INXEwi8kBU"
   },
   "outputs": [],
   "source": [
    "np.random.seed(10)\n",
    "for x in range(0, 20):\n",
    "    numbers = np.random.rand(6)\n",
    "    print(numbers)"
   ]
  },
  {
   "cell_type": "markdown",
   "metadata": {
    "colab_type": "text",
    "id": "fFZS3WxE871v"
   },
   "source": [
    "They all seem random correct? Let's try to fix something called **seed** using  \n",
    "np.random.seed(10)\n",
    "\n",
    "What do you observe? \n",
    "\n",
    "Let's see what this seed is..."
   ]
  },
  {
   "cell_type": "markdown",
   "metadata": {
    "colab_type": "text",
    "id": "IuiZnPxm9dQc"
   },
   "source": [
    "## Pseudo-random Numbers\n",
    "\n",
    "* Numbers and sequences appear random, but they are actually reproducible\n",
    "* Great for algorithm developing and debugging\n",
    "* How truly \"random\" are these numbers?"
   ]
  },
  {
   "cell_type": "markdown",
   "metadata": {
    "colab_type": "text",
    "id": "M828HMrX94T9"
   },
   "source": [
    "## Linear congruential generator\n",
    "\n",
    "Given the parameters $a$, $c$, $m$ and $s$, where $s$ is the seed value, this algorithm will generate a sequence of pseudo-random numbers:\n",
    "\n",
    "$x_o = s $\n",
    "\n",
    "$x_{n+1} = (a x_n + c) mod(m)$"
   ]
  },
  {
   "cell_type": "code",
   "execution_count": null,
   "metadata": {
    "colab": {},
    "colab_type": "code",
    "id": "uWJSFGSvyHJD"
   },
   "outputs": [],
   "source": []
  },
  {
   "cell_type": "code",
   "execution_count": null,
   "metadata": {
    "colab": {},
    "colab_type": "code",
    "id": "Y01aRAmoyHJG"
   },
   "outputs": [],
   "source": []
  },
  {
   "cell_type": "code",
   "execution_count": 7,
   "metadata": {
    "colab": {},
    "colab_type": "code",
    "id": "gZYMuH2t_ZZ5"
   },
   "outputs": [],
   "source": [
    "s = 1 # seed\n",
    "a =  4 # multiplier\n",
    "c = 1 # increment\n",
    "m = 5 # modulus\n",
    "\n",
    "n = 60\n",
    "x = np.zeros(n)\n",
    "x[0] = s\n",
    "for i in range(1,n):\n",
    "    x[i] = (a * x[i-1] + c) % m"
   ]
  },
  {
   "cell_type": "code",
   "execution_count": 8,
   "metadata": {
    "colab": {},
    "colab_type": "code",
    "id": "jzE_vTlw_4te",
    "scrolled": false
   },
   "outputs": [
    {
     "data": {
      "text/plain": [
       "[<matplotlib.lines.Line2D at 0x1b44924b400>]"
      ]
     },
     "execution_count": 8,
     "metadata": {},
     "output_type": "execute_result"
    },
    {
     "data": {
      "image/png": "[encoded data removed]",
      "text/plain": [
       "<Figure size 432x288 with 1 Axes>"
      ]
     },
     "metadata": {
      "needs_background": "light"
     },
     "output_type": "display_data"
    }
   ],
   "source": [
    "import matplotlib.pyplot as plt\n",
    "%matplotlib inline\n",
    "plt.plot(x,'.')"
   ]
  },
  {
   "cell_type": "markdown",
   "metadata": {
    "colab_type": "text",
    "id": "P-iFLPo5AVTr"
   },
   "source": [
    "Notice there is a period, when numbers eventually start repeating.  One of the advantages of the LCG is that by using appropriate choice for the parameters, we can obtain known and long periods.\n",
    "\n",
    "Check here https://en.wikipedia.org/wiki/Linear_congruential_generator for a list of commonly used parameters of LCGs.\n",
    "\n",
    "Let's try using the parameters from \n",
    "[Numerical recipes](https://en.wikipedia.org/wiki/Numerical_Recipes)"
   ]
  },
  {
   "cell_type": "code",
   "execution_count": null,
   "metadata": {
    "colab": {},
    "colab_type": "code",
    "id": "6GF31MZ6-oQP"
   },
   "outputs": [],
   "source": [
    "s = 30\n",
    "a = 1664525\n",
    "c = 1013904223\n",
    "m = 2**32\n",
    "\n",
    "n = 300\n",
    "x = np.zeros(n)\n",
    "x[0] = s\n",
    "for i in range(1,n):\n",
    "    x[i] = (a * x[i-1] + c) % m\n",
    "\n",
    "plt.plot(x,'.')"
   ]
  },
  {
   "cell_type": "markdown",
   "metadata": {
    "colab_type": "text",
    "id": "JV4q29UYBv85"
   },
   "source": [
    "\"Good\" random number generators:\n",
    "\n",
    "- Random pattern\n",
    "- Long period\n",
    "- Efficiency\n",
    "- Repeatability\n",
    "- Portability\n"
   ]
  },
  {
   "cell_type": "markdown",
   "metadata": {
    "colab_type": "text",
    "id": "y4CBQZcbB-8w"
   },
   "source": [
    "# Random Variables\n",
    "\n",
    "Think of a random variable $X$ as a function that maps the outcome of an unpredictable (random) processes to numerical quantities.\n",
    "\n",
    "For example:\n",
    "\n",
    "* $X$ = the face of a bread when it falls on the ground. The random value can abe the \"buttered\" side or the \"not buttered\" side\n",
    "* $X$ = value that appears on top of dice after each roll\n",
    "\n",
    "We don't have an exact number to represent these random processes, but we can get something that represents the **average** case. To do that, we need to know the likelihood of each individual value of $X$."
   ]
  },
  {
   "cell_type": "markdown",
   "metadata": {
    "colab_type": "text",
    "id": "4t4D9HC9FRpR"
   },
   "source": [
    "### Coin toss\n",
    "\n",
    "Random variable $X$: result of a coin toss\n",
    "\n",
    "In each toss, the random variable can take the values $x_1 = 0$ (tail) and $x_2 = 1$ (head), and each $x_i$ has probability $p_i = 0.5$. \n",
    "\n",
    "The **expected value** of a discrete random variable is defined as:\n",
    "\n",
    "$$ E(x) = \\sum_{i=1}^{m} p_i x_i $$\n",
    "\n",
    "Hence for a coin toss we have:\n",
    "\n",
    "$$ E(x) = 1(0.5) + 0(0.5) = 0.5 $$"
   ]
  },
  {
   "cell_type": "markdown",
   "metadata": {
    "colab_type": "text",
    "id": "RAy-VqBRPlLN"
   },
   "source": [
    "### Roll Dice\n",
    "\n",
    "Random variable $X$: value that appears on top of the dice after each roll\n",
    "\n",
    "In each toss, the random variable can take the values $x_i = 1,2,3,...,6$ and each $x_i$ has probability $p_i = 1/6$. \n",
    "\n",
    "The **expected value** of the discrete random variable is defined as:"
   ]
  },
  {
   "cell_type": "code",
   "execution_count": null,
   "metadata": {
    "colab": {},
    "colab_type": "code",
    "id": "4qPwU0PMRGVW"
   },
   "outputs": [],
   "source": [
    "E = 0\n",
    "for i in range(1,7):\n",
    "    E += (i)*(1/6)\n",
    "E"
   ]
  },
  {
   "cell_type": "markdown",
   "metadata": {
    "colab_type": "text",
    "id": "SoAgVnqV57hs"
   },
   "source": [
    "#  Monte Carlo Methods\n",
    "\n",
    "Monte Carlo methods are algorithms that rely on repeated random sampling to approximate a desired quantity.\n",
    "\n",
    "### Example 1: Simulating a coin toss experiment"
   ]
  },
  {
   "cell_type": "markdown",
   "metadata": {
    "colab_type": "text",
    "id": "T0arakhyR_rE"
   },
   "source": [
    "We want to find the probability of heads when tossing a coin. We know the expected value is 0.5. Using Monte Carlo with N samples (here tosses), our estimate of the expected value is:\n",
    "\n",
    "$$E = \\frac{1}{N}\\sum_{i=1}^N f(x_i) = \\frac{1}{N}\\sum_{i=1}^N x_i$$ \n",
    "\n",
    "where $x_i = 1$ if the toss gives head."
   ]
  },
  {
   "cell_type": "markdown",
   "metadata": {
    "colab_type": "text",
    "id": "KpTgSEa2pKLa"
   },
   "source": [
    "Let's toss a \"fair\" coin N times and record the results for each toss.\n",
    "\n",
    "But first, how can we simulate one toss?"
   ]
  },
  {
   "cell_type": "code",
   "execution_count": null,
   "metadata": {
    "colab": {},
    "colab_type": "code",
    "id": "odxGZRnXSmoM"
   },
   "outputs": [],
   "source": [
    "toss = np.random.choice([0,1])\n",
    "print(toss)\n"
   ]
  },
  {
   "cell_type": "code",
   "execution_count": null,
   "metadata": {
    "colab": {},
    "colab_type": "code",
    "id": "U9ZYKgj0SSVW"
   },
   "outputs": [],
   "source": [
    "N = 30 # number of samples (tosses)\n",
    "M = 30\n",
    "heads = []\n",
    "for j in range(M):\n",
    "    toss_list = []\n",
    "    for i in range(N):\n",
    "        toss = np.random.choice([0,1])\n",
    "        toss_list.append(toss)\n",
    "    #print(toss_list)\n",
    "    expec = np.array(toss_list).sum()/N\n",
    "    heads.append(expec)\n",
    "print(heads)\n",
    "\n",
    "heads = np.array(heads)"
   ]
  },
  {
   "cell_type": "markdown",
   "metadata": {
    "colab_type": "text",
    "id": "Efi5ZoVnrhZr"
   },
   "source": [
    "Note that if we run the code snippet above again, it is likely we will get a different result. What if we run this many times? "
   ]
  },
  {
   "cell_type": "code",
   "execution_count": null,
   "metadata": {
    "colab": {},
    "colab_type": "code",
    "id": "bFTFeML5FGa0"
   },
   "outputs": [],
   "source": [
    "N = 300 # number of tosses\n",
    "M = 300 # number of numerical experiments\n",
    "nheads = []\n",
    "for j in range(M):   \n",
    "    toss_list = []\n",
    "    for i in range(N):\n",
    "        toss_list.append(np.random.choice([0,1]))\n",
    "    nheads.append( np.array(toss_list).sum()/N ) \n",
    "nheads = np.array(nheads);"
   ]
  },
  {
   "cell_type": "code",
   "execution_count": null,
   "metadata": {
    "colab": {},
    "colab_type": "code",
    "id": "ysnhP5royHJp"
   },
   "outputs": [],
   "source": [
    "plt.hist(nheads);"
   ]
  },
  {
   "cell_type": "code",
   "execution_count": null,
   "metadata": {
    "colab": {},
    "colab_type": "code",
    "id": "NYuuPvtXCDa-"
   },
   "outputs": [],
   "source": [
    "print(nheads.mean(),nheads.std())"
   ]
  },
  {
   "cell_type": "markdown",
   "metadata": {
    "colab_type": "text",
    "id": "rM1o1S8HnT62"
   },
   "source": [
    "What happens when we increase the number of numerical experiments?\n",
    "What happens when we increase the number of samples (in this case, the number of tosses)?"
   ]
  },
  {
   "cell_type": "markdown",
   "metadata": {
    "colab_type": "text",
    "id": "9NZ-2H5LteBa"
   },
   "source": [
    "### B) Monte Carlo to approximate integrals\n",
    "\n",
    "One of the most important applications of Monte Carlo methods is in estimating volumes and areas that are difficult to compute analytically. Without loss of generality we will first present Monte Carlo to approximate two-dimensional integrals. Nonetheless, Monte Carlo is a great method to solve high-dimensional problems. \n",
    "\n",
    "To approximate an integration\n",
    "\n",
    "$$ A = \\int_{x_1}^{x_2} \\int_{y_1}^{y_2} f(x,y) dx dy $$\n",
    "\n",
    "we sample points uniformily inside a domain $D = [x_1,x_2] \\times [y_1,y2]$, i.e. we let $X$ be a uniformily distributed random variable on $D$. \n",
    "\n",
    "\n"
   ]
  },
  {
   "cell_type": "markdown",
   "metadata": {
    "colab_type": "text",
    "id": "r-4bZ9s-yHJy"
   },
   "source": [
    "Using Monte Carlo with N sample points, our estimate for the expected value  is:\n",
    "\n",
    "$$ S_N = \\frac{1}{N} \\sum_{i=1}^{N} f(X_i) $$\n",
    "\n",
    "which gives the approximate for the integral:\n",
    "\n",
    "$$ A_N = (x_2 - x_1)(y_2-y_1) \\frac{1}{N} \\sum_{i=1}^{N} f(X_i) $$\n",
    "\n",
    "Law of large numbers:\n",
    "\n",
    "as $N \\rightarrow \\infty$, the sample average $S_N$ converges the the expected value $E(X)$ and hence $A_N \\rightarrow A$"
   ]
  },
  {
   "cell_type": "markdown",
   "metadata": {
    "colab_type": "text",
    "id": "BRLRRxIWyHJy"
   },
   "source": [
    "### Example 2: Approximate the area of a circle\n",
    "\n",
    "We will use Monte Carlo Method to approximate the area of a circle of radius R = 1.\n",
    "\n",
    "- Let's start with a uniform distribution on the unit square  [0,1]×[0,1] . Create a 2D array samples of shape (2, N):\n",
    "\n",
    "- Scale the sample points \"samples\", so that we have a uniform distribution inside a square $[-1,1]\\times [-1,1]$. Calculate the distance from each sample point to the origin $(0,0)$"
   ]
  },
  {
   "cell_type": "code",
   "execution_count": null,
   "metadata": {
    "colab": {},
    "colab_type": "code",
    "id": "VOcrb1ItuANJ"
   },
   "outputs": [],
   "source": [
    "N = 10**2\n",
    "samples = np.random.rand(2, N)\n",
    "xy = samples * 2 - 1.0 # scale sample points\n",
    "r = np.sqrt(xy[0, :]**2 + xy[1, :]**2)  # calculate radius\n",
    "xy.shape"
   ]
  },
  {
   "cell_type": "code",
   "execution_count": null,
   "metadata": {
    "colab": {},
    "colab_type": "code",
    "id": "oSlEto5AyHJ2"
   },
   "outputs": [],
   "source": [
    "plt.plot(xy[0,:], xy[1,:], 'k.')\n",
    "plt.axis('equal')\n",
    "plt.xlabel('x')\n",
    "plt.ylabel('y');"
   ]
  },
  {
   "cell_type": "markdown",
   "metadata": {
    "colab_type": "text",
    "id": "vb-GIrEAuisk"
   },
   "source": [
    "We then count how many of these points are inside the circle centered at the origin."
   ]
  },
  {
   "cell_type": "code",
   "execution_count": null,
   "metadata": {
    "colab": {},
    "colab_type": "code",
    "id": "-IgDXBPDuWvL"
   },
   "outputs": [],
   "source": [
    "incircle = (r <= 1)\n",
    "count_incircle = incircle.sum()\n",
    "print(count_incircle)"
   ]
  },
  {
   "cell_type": "markdown",
   "metadata": {
    "colab_type": "text",
    "id": "KB2AZ1Htvnca"
   },
   "source": [
    "And the approximated value for the area is:"
   ]
  },
  {
   "cell_type": "code",
   "execution_count": null,
   "metadata": {
    "colab": {},
    "colab_type": "code",
    "id": "ifu3O7hKvmcB"
   },
   "outputs": [],
   "source": [
    "A_approx = (2*2) * (count_incircle)/N\n",
    "A_approx"
   ]
  },
  {
   "cell_type": "markdown",
   "metadata": {
    "colab_type": "text",
    "id": "akngnIAlvLxm"
   },
   "source": [
    "We can assign different colors to the points inside the circle and plot (just for vizualization purposes)."
   ]
  },
  {
   "cell_type": "code",
   "execution_count": null,
   "metadata": {
    "colab": {},
    "colab_type": "code",
    "id": "KVbBFZz2u8ur"
   },
   "outputs": [],
   "source": [
    "plt.figure(figsize=(10,6))\n",
    "plt.plot(xy[0,np.where(incircle)[0]], xy[1,np.where(incircle)[0]], 'b.')\n",
    "plt.plot(xy[0,np.where(incircle==False)[0]], xy[1,np.where(incircle==False)[0]], 'r.')\n",
    "plt.axis('equal')\n",
    "plt.xlabel('x')\n",
    "plt.ylabel('y');"
   ]
  },
  {
   "cell_type": "markdown",
   "metadata": {
    "colab_type": "text",
    "id": "W1Hcg1sLzuby"
   },
   "source": [
    "Combine all the relevant code above, so we can easily run this numerical experiment for different sample size N."
   ]
  },
  {
   "cell_type": "code",
   "execution_count": null,
   "metadata": {
    "colab": {},
    "colab_type": "code",
    "id": "1adLD05ivgXo"
   },
   "outputs": [],
   "source": [
    "N = 10**2\n",
    "samples = np.random.rand(2, N)\n",
    "xy = samples * 2 - 1.0 # scale sample points\n",
    "r = np.sqrt(xy[0, :]**2 + xy[1, :]**2)  # calculate radius\n",
    "incircle = (r <= 1)\n",
    "count_incircle = incircle.sum()\n",
    "A_approx = (2*2) * (count_incircle)/N\n",
    "print(A_approx)"
   ]
  },
  {
   "cell_type": "markdown",
   "metadata": {
    "colab_type": "text",
    "id": "lZHO_7iY0QUM"
   },
   "source": [
    "Perform the same above, but now store the approximated area for different N, and plot:"
   ]
  },
  {
   "cell_type": "code",
   "execution_count": null,
   "metadata": {
    "colab": {},
    "colab_type": "code",
    "id": "WW315PBL0DVU"
   },
   "outputs": [],
   "source": [
    "N = 10**6\n",
    "samples = np.random.rand(2, N)\n",
    "xy = samples * 2 - 1.0 # scale sample points\n",
    "r = np.sqrt(xy[0, :]**2 + xy[1, :]**2)  # calculate radius\n",
    "incircle = (r <= 1)\n",
    "\n",
    "plt.figure(figsize=(10,6))\n",
    "plt.plot(xy[0,np.where(incircle)[0]], xy[1,np.where(incircle)[0]], 'b.')\n",
    "plt.plot(xy[0,np.where(incircle==False)[0]], xy[1,np.where(incircle==False)[0]], 'r.')\n",
    "plt.axis('equal')\n",
    "\n",
    "N_samples = np.arange(1,N+1)\n",
    "A_approx = 4 * incircle.cumsum() / N_samples\n",
    "\n",
    "print('The approximated area is ', A_approx[-1] )"
   ]
  },
  {
   "cell_type": "code",
   "execution_count": null,
   "metadata": {
    "colab": {},
    "colab_type": "code",
    "id": "f5P8RBO82H-b"
   },
   "outputs": [],
   "source": [
    "plt.figure(figsize=(10,6))\n",
    "plt.plot(A_approx)"
   ]
  },
  {
   "cell_type": "markdown",
   "metadata": {
    "colab_type": "text",
    "id": "qxdOIwO41CYj"
   },
   "source": [
    "Which as expected gives an approximation for the number $\\pi$, since the circle has radius 1."
   ]
  },
  {
   "cell_type": "markdown",
   "metadata": {
    "colab_type": "text",
    "id": "zdQGx4tbyHKS"
   },
   "source": [
    "Let's plot the error of our approximation:"
   ]
  },
  {
   "cell_type": "code",
   "execution_count": null,
   "metadata": {
    "colab": {},
    "colab_type": "code",
    "id": "DBsy2SHj0v9C"
   },
   "outputs": [],
   "source": [
    "plt.figure(figsize=(10,6))\n",
    "plt.loglog(N_samples, np.abs(A_approx - np.pi), '.')\n",
    "plt.xlabel('n')\n",
    "plt.ylabel('error')"
   ]
  },
  {
   "cell_type": "code",
   "execution_count": null,
   "metadata": {
    "colab": {},
    "colab_type": "code",
    "id": "buaZ18zO1Yuh"
   },
   "outputs": [],
   "source": [
    "plt.figure(figsize=(8,6));\n",
    "plt.loglog(N_samples, np.abs(A_approx - np.pi), '.');\n",
    "plt.xlabel('n');\n",
    "plt.ylabel('error');\n",
    "plt.loglog(N_samples, 1/N_samples**2, '.');\n",
    "plt.loglog(N_samples, 1/N_samples, 'r');\n",
    "plt.loglog(N_samples, 1/np.sqrt(N_samples), 'm');"
   ]
  },
  {
   "cell_type": "markdown",
   "metadata": {
    "colab_type": "text",
    "id": "-w370Wz9yHKZ"
   },
   "source": [
    "The asymptotic behavior of the error resulting from Monte Carlo methods is\n",
    "\n",
    "$$ O\\left(\\frac{1}{\\sqrt{N}}\\right) $$\n",
    " \n",
    "where $N$ is the number of samples.\n"
   ]
  },
  {
   "cell_type": "code",
   "execution_count": null,
   "metadata": {
    "colab": {},
    "colab_type": "code",
    "id": "RSlwPXwE25pp"
   },
   "outputs": [],
   "source": [
    "N = 10**4 # number of sample points\n",
    "M = 1000  # number of numerical experiments\n",
    "\n",
    "A_list = []\n",
    "\n",
    "for i in range(M):\n",
    "    samples = np.random.rand(2, N)\n",
    "    xy = samples * 2 - 1.0 # scale sample points\n",
    "    r = np.sqrt(xy[0, :]**2 + xy[1, :]**2)  # calculate radius\n",
    "    incircle = (r <= 1)\n",
    "    count_incircle = incircle.sum()\n",
    "    A_list.append( (2*2) * (count_incircle)/N )\n",
    "\n",
    "A_array = np.array(A_list)\n",
    "\n",
    "plt.hist(A_list)\n",
    "plt.xlim([2.6,3.6])"
   ]
  },
  {
   "cell_type": "markdown",
   "metadata": {
    "colab_type": "text",
    "id": "P_EcnfI8yHKc"
   },
   "source": [
    "**By increasing the number of sample points, we reduce the variance of the distribution.**"
   ]
  },
  {
   "cell_type": "markdown",
   "metadata": {
    "colab_type": "text",
    "id": "_Dbhy-O7yHKd"
   },
   "source": [
    "### Example 3 - Calculating a Volume of Intersection\n",
    "\n",
    "In this exercise, we will use Monte Carlo integration to compute a volume of intersection between two cylinders. This integral is possible to compute analytically, so we can compare our answer to the true result and see how accurate it is.\n",
    "\n",
    "The solid common to two right circular cylinders of equal radii intersecting at right angles is called the Steinmetz solid.\n",
    "\n",
    "Two cylinders intersecting at right angles are called a bicylinder or mouhefanggai (Chinese for \"two square umbrellas\").\n",
    "\n",
    "![](https://github.com/cs357/demos-cs357/blob/master/figures/steinmetz.JPG?raw=1)\n",
    "\n",
    "http://mathworld.wolfram.com/SteinmetzSolid.html\n",
    "\n",
    "To help you check if you are going in the right direction, you can copy the functions you define here inside PrairieLearn.\n",
    "\n",
    "https://prairielearn.engr.illinois.edu/pl/course_instance/52088/assessments"
   ]
  },
  {
   "cell_type": "markdown",
   "metadata": {
    "colab_type": "text",
    "id": "AHtC4xFUyHKe"
   },
   "source": [
    "#### a) Write a function that will determine if a given point is inside both cylinders\n",
    "\n",
    "Write the function `insideCylinders` that given a NumPy array representing some arbitrary point in a 3-dimensional space returns `true` if the point is inside both cylinders. Assume the solid is centered at the origin, the cylinders are along the $x$ and $z$ axes and both have radius $r$\n",
    "\n",
    "```python\n",
    "def insideCylinders(pos,r):\n",
    "    # pos = np.array([x,y,z])\n",
    "    # r = radius of the cylinders\n",
    "    return bool\n",
    "```"
   ]
  },
  {
   "cell_type": "code",
   "execution_count": null,
   "metadata": {
    "colab": {},
    "colab_type": "code",
    "id": "vogF3mHHyHKf"
   },
   "outputs": [],
   "source": []
  },
  {
   "cell_type": "markdown",
   "metadata": {
    "colab_type": "text",
    "id": "nbLlYOYPyHKr"
   },
   "source": [
    "#### b) Write a function to evaluate the probability the point is inside the given volume\n",
    "The function `prob_inside_volume` should take as argument the number of random points N.\n",
    "\n",
    "The function generate N random points inside a box around the intersection of the cylinders, and uses the function `insideCylinders` to determine if the point is inside the cylinders or not. Recall that these random points should be generated in a form of a NumPy array.\n",
    "\n",
    "Track the number of points $C$ that fall inside both cylinders. Return the ratio $C/N$ as a floating point number.\n",
    "\n",
    "```python\n",
    "def prob_inside_volume(N,r):\n",
    "    # N = number of sample points\n",
    "    # r = radius of the cylinders\n",
    "    return float\n",
    "```"
   ]
  },
  {
   "cell_type": "code",
   "execution_count": null,
   "metadata": {
    "colab": {},
    "colab_type": "code",
    "id": "3pVtuGO2yHKr"
   },
   "outputs": [],
   "source": []
  },
  {
   "cell_type": "markdown",
   "metadata": {
    "colab_type": "text",
    "id": "gC5KENgDyHKx"
   },
   "source": [
    "#### c) Use the ratio $\\frac{C}{N}$ to estimate the volume of intersection"
   ]
  },
  {
   "cell_type": "markdown",
   "metadata": {
    "colab_type": "text",
    "id": "SyudkrciyHKx"
   },
   "source": [
    "To approximate the volume of the intersection, we use:\n",
    "\n",
    "$$ V_N = V_D \\frac{1}{N} \\sum_{i=1}^{N} f(X_i) =  V_D \\frac{C}{N} $$\n",
    "\n",
    "where $ V_D$ is the volume of the domain used to generate the sample points. In this example, we considered the domain as the box around the intersection of the cylinders, hence \n",
    "\n",
    "$$ V_D = (2r)^3 $$"
   ]
  },
  {
   "cell_type": "markdown",
   "metadata": {
    "colab_type": "text",
    "id": "DxxFJoO0yHKy"
   },
   "source": [
    "Use your function `prob_inside_volume` to approximate the volume $V_{N}$ for $N = 1000$ for cylinders of radius 1."
   ]
  },
  {
   "cell_type": "code",
   "execution_count": null,
   "metadata": {
    "colab": {},
    "colab_type": "code",
    "id": "UvV9iJskyHKz"
   },
   "outputs": [],
   "source": [
    "N = 1000\n",
    "r = 1\n",
    "Vn = ...\n",
    "print(Vn)"
   ]
  },
  {
   "cell_type": "markdown",
   "metadata": {
    "colab_type": "text",
    "id": "2wyVXRzyyHK2"
   },
   "source": [
    "#### d) Comparing with the exact solution"
   ]
  },
  {
   "cell_type": "markdown",
   "metadata": {
    "colab_type": "text",
    "id": "mc34E_gsyHK2"
   },
   "source": [
    "Two cylinders of radius r oriented long the z- and x-axes gives the equations $x^2+y^2=r^2$ and $y^2+z^2=r^2$ \n",
    "\n",
    "The volume common to two cylinders was known to Archimedes and the Chinese mathematician Tsu Ch'ung-Chih, and does not require calculus to derive. Using calculus provides a simple derivation, however. The volume is given by\n",
    "\n",
    "$$𝑉 = \\int_{-r}^{r}(2 \\sqrt{𝑟^2−𝑧^2})^2 𝑑𝑧= \\frac{16}{3}𝑟^3$$"
   ]
  },
  {
   "cell_type": "markdown",
   "metadata": {
    "colab_type": "text",
    "id": "M0gZqmyjyHK2"
   },
   "source": [
    "Use your function `prob_inside_volume` to approximate the volume $V_{N}$ for increasing values of $N$ defined in `Nvalues`. Store each $V_{N}$ in a list `approxVol`. Plot $N$ vs $V_{N}$."
   ]
  },
  {
   "cell_type": "code",
   "execution_count": null,
   "metadata": {
    "colab": {},
    "colab_type": "code",
    "id": "Tf13BH1VyHK3"
   },
   "outputs": [],
   "source": [
    "Nvalues = [(10**N) for N in range(1,7)]"
   ]
  },
  {
   "cell_type": "code",
   "execution_count": null,
   "metadata": {
    "colab": {},
    "colab_type": "code",
    "id": "GR3J3_IVyHK5"
   },
   "outputs": [],
   "source": [
    "approxVol = []\n",
    "\n",
    "..."
   ]
  },
  {
   "cell_type": "markdown",
   "metadata": {
    "colab_type": "text",
    "id": "cLKlQH2PyHK7"
   },
   "source": [
    "Compute the absolute error, using the exact expression given above. Plot $N$ vs $error$.  Compare with the known asymptotic behavior of the error $O(1/\\sqrt{N})$ "
   ]
  },
  {
   "cell_type": "code",
   "execution_count": null,
   "metadata": {
    "colab": {},
    "colab_type": "code",
    "id": "A7lA6UuxyHK7"
   },
   "outputs": [],
   "source": [
    "r = 1\n",
    "trueVol = (16.0/3.0)*r**3\n",
    "plt.loglog(Nvalues,np.abs(np.array(approxVol)-trueVol))\n",
    "plt.loglog(Nvalues, 1/np.sqrt(Nvalues), 'm')"
   ]
  },
  {
   "cell_type": "code",
   "execution_count": null,
   "metadata": {
    "colab": {},
    "colab_type": "code",
    "id": "DR_PATKwyHLA"
   },
   "outputs": [],
   "source": []
  }
 ],
 "metadata": {
  "colab": {
   "name": "MonteCarloMethods.ipynb",
   "provenance": [],
   "toc_visible": true
  },
  "kernelspec": {
   "display_name": "Python 3",
   "language": "python",
   "name": "python3"
  },
  "language_info": {
   "codemirror_mode": {
    "name": "ipython",
    "version": 3
   },
   "file_extension": ".py",
   "mimetype": "text/x-python",
   "name": "python",
   "nbconvert_exporter": "python",
   "pygments_lexer": "ipython3",
   "version": "3.8.3"
  },
  "rise": {
   "enable_chalkboard": true
  }
 },
 "nbformat": 4,
 "nbformat_minor": 1
}
