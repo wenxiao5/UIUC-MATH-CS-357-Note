{
 "cells": [
  {
   "cell_type": "code",
   "execution_count": 1,
   "metadata": {},
   "outputs": [],
   "source": [
    "import numpy as np\n",
    "\n",
    "starting_balance = 5000.00\n",
    "transactions = np.array([-13.43, -16.95, -10.82, -16.75, -21.61, -7.26, -14.83, -8.14, -11.12, -12.89, -20.94, -2.96, -9.79, 15.82, -4.62, -2.87, -26.98, -27.92, -22.16, -10.88, -23.52, -6.60, 13.80, -8.34, -6.56, -1.66, -12.38, -20.23, 0.58, -1.08, -22.32, -14.64, -8.03, -12.95, -22.03, -21.24, 4.52, -27.33, 18.71, -20.77, -4.52, -1.19, -15.29, -11.21, -14.02, -6.15, -22.89, 22.59, -26.33, -25.62, -0.16, -19.83, -8.25, -26.59, -1.03, -22.97, 20.92, -26.32, 8.15, -23.42, -10.61, -14.00, 23.52, -12.48, -29.84, -7.01, -24.21, -21.62, -19.11, -22.55, -12.22, -14.13, -21.71, -23.21, -21.14, -25.94, -1.96, -12.29, 10.85, -16.55, 29.69, -14.16, -0.94, -3.10, 10.60, -11.90, -4.75, -15.74, -7.98, -29.25, -18.60, 5.57, -12.95, -18.21, -22.83, -19.39, -29.30, 17.93, -5.08, -13.24])"
   ]
  },
  {
   "cell_type": "code",
   "execution_count": 22,
   "metadata": {},
   "outputs": [],
   "source": [
    "bank1_balance=5000.00\n",
    "for i in transactions:\n",
    "    bank1_balance+=np.round(i,2)\n",
    "    bank1_balance=np.round(bank1_balance,2)"
   ]
  },
  {
   "cell_type": "code",
   "execution_count": 17,
   "metadata": {},
   "outputs": [
    {
     "data": {
      "text/plain": [
       "5000.26"
      ]
     },
     "execution_count": 17,
     "metadata": {},
     "output_type": "execute_result"
    }
   ],
   "source": [
    "np.round(5000.26,2)"
   ]
  },
  {
   "cell_type": "code",
   "execution_count": 27,
   "metadata": {},
   "outputs": [],
   "source": [
    "bank2_balance=5000.00\n",
    "for i in transactions:\n",
    "    bank2_balance+=np.trunc(i*100)/100\n",
    "    bank2_balance=np.trunc(bank2_balance*100)/100"
   ]
  },
  {
   "cell_type": "code",
   "execution_count": 25,
   "metadata": {},
   "outputs": [],
   "source": [
    "bank3_balance=5000.00\n",
    "for i in transactions:\n",
    "    bank3_balance+=i\n",
    "bank3_balance=np.round(bank3_balance,2)"
   ]
  },
  {
   "cell_type": "code",
   "execution_count": 23,
   "metadata": {},
   "outputs": [
    {
     "data": {
      "text/plain": [
       "3916.86"
      ]
     },
     "execution_count": 23,
     "metadata": {},
     "output_type": "execute_result"
    }
   ],
   "source": [
    "bank1_balance"
   ]
  },
  {
   "cell_type": "code",
   "execution_count": 28,
   "metadata": {},
   "outputs": [
    {
     "data": {
      "text/plain": [
       "3916.78"
      ]
     },
     "execution_count": 28,
     "metadata": {},
     "output_type": "execute_result"
    }
   ],
   "source": [
    "bank2_balance"
   ]
  },
  {
   "cell_type": "code",
   "execution_count": 26,
   "metadata": {},
   "outputs": [
    {
     "data": {
      "text/plain": [
       "3916.86"
      ]
     },
     "execution_count": 26,
     "metadata": {},
     "output_type": "execute_result"
    }
   ],
   "source": [
    "bank3_balance"
   ]
  },
  {
   "cell_type": "code",
   "execution_count": 14,
   "metadata": {},
   "outputs": [],
   "source": [
    "def select_bank(b, t):\n",
    "    # b: this is the starting balance\n",
    "    # t: this is the 1d numpy array with the monthly transactions\n",
    "\n",
    "    # write your code snippet here\n",
    "    bank1_balance=b\n",
    "    for i in t:\n",
    "        bank1_balance+=np.round(i)\n",
    "        bank1_balance=np.round(bank1_balance)\n",
    "    your_bank_choice=1\n",
    "    your_final_balance=bank1_balance\n",
    "    \n",
    "    bank2_balance=b\n",
    "    for j in t:\n",
    "        bank2_balance+=np.trunc(j)\n",
    "        bank2_balance=np.trunc(bank2_balance)\n",
    "    if bank2_balance>your_final_balance:\n",
    "        your_bank_choice=2\n",
    "        your_final_balance=bank2_balance\n",
    "    \n",
    "    bank3_balance=b\n",
    "    for k in t:\n",
    "        bank3_balance+=k\n",
    "    bank3_balance=np.round(bank3_balance)\n",
    "    if bank3_balance>your_final_balance:\n",
    "        your_bank_choice=3\n",
    "        your_final_balance=bank3_balance\n",
    "    return (your_bank_choice, your_final_balance)"
   ]
  },
  {
   "cell_type": "code",
   "execution_count": 15,
   "metadata": {},
   "outputs": [
    {
     "data": {
      "text/plain": [
       "(2, 3950.0)"
      ]
     },
     "execution_count": 15,
     "metadata": {},
     "output_type": "execute_result"
    }
   ],
   "source": [
    "select_bank(5000.00,transactions)"
   ]
  },
  {
   "cell_type": "code",
   "execution_count": 2,
   "metadata": {},
   "outputs": [
    {
     "name": "stdout",
     "output_type": "stream",
     "text": [
      "1024.0\n"
     ]
    }
   ],
   "source": [
    "a = 10.24e2\n",
    "print(a)"
   ]
  },
  {
   "cell_type": "code",
   "execution_count": 10,
   "metadata": {},
   "outputs": [],
   "source": [
    "x=1\n",
    "y=5e-16\n",
    "z=5e-16"
   ]
  },
  {
   "cell_type": "code",
   "execution_count": 11,
   "metadata": {},
   "outputs": [
    {
     "data": {
      "text/plain": [
       "1.0000000000000009"
      ]
     },
     "execution_count": 11,
     "metadata": {},
     "output_type": "execute_result"
    }
   ],
   "source": [
    "x+y+z"
   ]
  },
  {
   "cell_type": "code",
   "execution_count": 12,
   "metadata": {},
   "outputs": [
    {
     "data": {
      "text/plain": [
       "1.000000000000001"
      ]
     },
     "execution_count": 12,
     "metadata": {},
     "output_type": "execute_result"
    }
   ],
   "source": [
    "y+z+x"
   ]
  },
  {
   "cell_type": "code",
   "execution_count": 13,
   "metadata": {},
   "outputs": [
    {
     "data": {
      "text/plain": [
       "1.0000000000000004"
      ]
     },
     "execution_count": 13,
     "metadata": {},
     "output_type": "execute_result"
    }
   ],
   "source": [
    "x+y"
   ]
  },
  {
   "cell_type": "code",
   "execution_count": 1,
   "metadata": {},
   "outputs": [
    {
     "data": {
      "text/plain": [
       "1"
      ]
     },
     "execution_count": 1,
     "metadata": {},
     "output_type": "execute_result"
    }
   ],
   "source": [
    "(1,2)[0]"
   ]
  },
  {
   "cell_type": "code",
   "execution_count": 5,
   "metadata": {},
   "outputs": [
    {
     "data": {
      "text/plain": [
       "118.65189867885177"
      ]
     },
     "execution_count": 5,
     "metadata": {},
     "output_type": "execute_result"
    }
   ],
   "source": [
    "(np.cos(15)-1)*16/5+124.2829"
   ]
  }
 ],
 "metadata": {
  "kernelspec": {
   "display_name": "Python 3",
   "language": "python",
   "name": "python3"
  },
  "language_info": {
   "codemirror_mode": {
    "name": "ipython",
    "version": 3
   },
   "file_extension": ".py",
   "mimetype": "text/x-python",
   "name": "python",
   "nbconvert_exporter": "python",
   "pygments_lexer": "ipython3",
   "version": "3.8.3"
  }
 },
 "nbformat": 4,
 "nbformat_minor": 4
}
