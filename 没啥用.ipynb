{
 "cells": [
  {
   "cell_type": "code",
   "execution_count": 3,
   "metadata": {},
   "outputs": [],
   "source": [
    "import numpy as np\n",
    "import matplotlib.pyplot as plt\n",
    "%matplotlib inline"
   ]
  },
  {
   "cell_type": "code",
   "execution_count": 4,
   "metadata": {},
   "outputs": [],
   "source": [
    "t = 11000\n",
    "coeffs = np.array([-9.10218060e-13,  2.90003736e-03,  4.49400128e-01])"
   ]
  },
  {
   "cell_type": "code",
   "execution_count": 5,
   "metadata": {},
   "outputs": [],
   "source": [
    "def distance_quadratic(time, coeffs_of_function):\n",
    "    # time - time in seconds that our rocket will fly\n",
    "    # coeffs_of_function - numpy array with the coefficients c1,c2,c3\n",
    " \n",
    "    # enter your code here\n",
    "    c1=coeffs_of_function[0]\n",
    "    c2=coeffs_of_function[1]\n",
    "    c3=coeffs_of_function[2]\n",
    "    a=(-c2+(c2**2-4*c1*c3)**0.5)/(2*c1)\n",
    "    distance_traveled=0.5*a*time**2\n",
    "    return distance_traveled"
   ]
  },
  {
   "cell_type": "code",
   "execution_count": null,
   "metadata": {},
   "outputs": [],
   "source": [
    "def distance_citardauq(time, coeffs_of_function):\n",
    "    # time - time in seconds that our rocket will fly\n",
    "    # coeffs_of_function - numpy array with the coefficients c1,c2,c3\n",
    " \n",
    "    # enter your code here\n",
    "    c1=coeffs_of_function[0]\n",
    "    c2=coeffs_of_function[1]\n",
    "    c3=coeffs_of_function[2]\n",
    "    a=(2c3)/(-c2+(c2**2-4*c1*c3)**0.5)\n",
    "    distance_traveled=0.5*a*time**2\n",
    "    return distance_traveled"
   ]
  },
  {
   "cell_type": "code",
   "execution_count": 7,
   "metadata": {},
   "outputs": [
    {
     "data": {
      "text/plain": [
       "2"
      ]
     },
     "execution_count": 7,
     "metadata": {},
     "output_type": "execute_result"
    }
   ],
   "source": [
    "max([1,2])"
   ]
  },
  {
   "cell_type": "code",
   "execution_count": null,
   "metadata": {},
   "outputs": [],
   "source": []
  },
  {
   "cell_type": "code",
   "execution_count": null,
   "metadata": {},
   "outputs": [],
   "source": []
  }
 ],
 "metadata": {
  "kernelspec": {
   "display_name": "Python 3",
   "language": "python",
   "name": "python3"
  },
  "language_info": {
   "codemirror_mode": {
    "name": "ipython",
    "version": 3
   },
   "file_extension": ".py",
   "mimetype": "text/x-python",
   "name": "python",
   "nbconvert_exporter": "python",
   "pygments_lexer": "ipython3",
   "version": "3.8.3"
  }
 },
 "nbformat": 4,
 "nbformat_minor": 4
}
